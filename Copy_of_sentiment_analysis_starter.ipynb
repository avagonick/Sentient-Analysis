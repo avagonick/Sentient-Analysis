{
  "cells": [
    {
      "cell_type": "markdown",
      "metadata": {
        "id": "view-in-github",
        "colab_type": "text"
      },
      "source": [
        "<a href=\"https://colab.research.google.com/github/avagonick/Sentient-Analysis/blob/main/Copy_of_sentiment_analysis_starter.ipynb\" target=\"_parent\"><img src=\"https://colab.research.google.com/assets/colab-badge.svg\" alt=\"Open In Colab\"/></a>"
      ]
    },
    {
      "cell_type": "markdown",
      "metadata": {
        "id": "ZoyQ2s2hSRnT"
      },
      "source": [
        "# Sentiment-140 Classification\n",
        "\n",
        "In this notebook, we will explore the application of transformers for sentiment analysis of different tweets. Our goal is to classify tweets to have either positive or negative sentiment. We will first consider the performance of a pre-trained BERT model, finetuned on the Sentiment-140 dataset, and later we'll develop and train our own transformer architecture from scratch. Let's dive right in!\n",
        "\n",
        "First of all, we need a couple of useful libraries that you're hopefully familiar with."
      ]
    },
    {
      "cell_type": "code",
      "source": [
        "from google.colab import drive\n",
        "drive.mount('/content/drive')"
      ],
      "metadata": {
        "colab": {
          "base_uri": "https://localhost:8080/"
        },
        "id": "0ffSyYIoh3eO",
        "outputId": "5ec839fc-d46a-406f-9c26-f39670464b29"
      },
      "execution_count": null,
      "outputs": [
        {
          "output_type": "stream",
          "name": "stdout",
          "text": [
            "Mounted at /content/drive\n"
          ]
        }
      ]
    },
    {
      "cell_type": "code",
      "execution_count": null,
      "metadata": {
        "id": "2Jg21hVASRnW"
      },
      "outputs": [],
      "source": [
        "import torch\n",
        "import torch.nn as nn\n",
        "import torch.nn.functional as F\n",
        "from torch.utils.data import Dataset, DataLoader, SubsetRandomSampler\n",
        "from tqdm import tqdm\n",
        "import matplotlib.pyplot as plt\n",
        "import numpy as np\n",
        "from transformers import BertTokenizer, BertForSequenceClassification\n",
        "\n",
        "# this automatically reloads the libraries so you can update them dynamically\n",
        "%load_ext autoreload\n",
        "%autoreload 2"
      ]
    },
    {
      "cell_type": "markdown",
      "metadata": {
        "id": "TvjjPglISRnY"
      },
      "source": [
        "## Loading our data\n",
        "\n",
        "Let's start by preparing our dataset. We have implemented the dataset class for you in `data_utils/SentimentDataset.py`, feel free to check the implementation. However, before we can use the `SentimentDataset` class to create our train data and test data objects, we need to pre-process the raw data.\n",
        "\n",
        "You can download raw data from [here](https://www.kaggle.com/datasets/kazanova/sentiment140). If you examine the raw data file, you can see that there is a lot of redundant information such as the time of each tweet or usernames. For our sentiment analysis, we simply need the tweets and ground truth labels. To preprocess the data file, simply paste the original CSV file in the root project directory without changing the file name and run the script `preprocess_dataset.py`. This should create a new CSV file called `dataset.csv`. (The reason why we do not include the data files on the GitHub repository is that they are simply too big.) Then, you're ready to create a dataset and dataloader below.\n",
        "\n",
        "Notice that the original dataset contains 1.6 million tweets; that is huge! Therefore, it may take forever to train on so much data, especially if you happen not to have access to a fast GPU (talk to the officers about getting access to the ACM AI server!). Therefore, in the next cell you can configure whether to use the whole dataset or just a subset of it."
      ]
    },
    {
      "cell_type": "code",
      "source": [
        "import torch\n",
        "import csv\n",
        "import numpy as np\n",
        "from torch.utils.data import Dataset\n",
        "\n",
        "class SentimentDataset(Dataset):\n",
        "\n",
        "    def __init__(self, csv_path, training_set=True):\n",
        "        tweets = []\n",
        "        labels = []\n",
        "        with open(csv_path, 'r') as file:\n",
        "            csv_reader = csv.reader(file)\n",
        "            for row in csv_reader:\n",
        "                tweets.append(row[0])\n",
        "                labels.append(int(row[1]))\n",
        "\n",
        "        total_tweets = len(tweets)\n",
        "        train_indices = np.random.choice(total_tweets, int(0.8 * total_tweets), replace=False)\n",
        "        test_indices = np.setdiff1d(np.arange(total_tweets), train_indices)\n",
        "\n",
        "        if training_set:\n",
        "            self.tweets = [tweets[i] for i in train_indices]\n",
        "            self.labels = [labels[i] for i in train_indices]\n",
        "        else:\n",
        "            self.tweets = [tweets[i] for i in test_indices]\n",
        "            self.labels = [labels[i] for i in test_indices]\n",
        "\n",
        "    def __len__(self):\n",
        "        return len(self.tweets)\n",
        "\n",
        "    def __getitem__(self, idx):\n",
        "        return self.tweets[idx], self.labels[idx]"
      ],
      "metadata": {
        "id": "6cCMTmMWTcSX"
      },
      "execution_count": null,
      "outputs": []
    },
    {
      "cell_type": "code",
      "execution_count": null,
      "metadata": {
        "id": "WyDXyQsYSRnY"
      },
      "outputs": [],
      "source": [
        "use_subset_of_data = True\n",
        "subset_percentage = 0.01 # set the percentage of original dataset size you'd like to use"
      ]
    },
    {
      "cell_type": "code",
      "execution_count": null,
      "metadata": {
        "id": "gAl8fJXRSRnZ"
      },
      "outputs": [],
      "source": [
        "data_loc = '/content/drive/MyDrive/ACM AI Projects/dataset.csv'\n",
        "\n",
        "train_data = SentimentDataset(data_loc, training_set=True)\n",
        "test_data = SentimentDataset(data_loc, training_set=False)\n",
        "\n",
        "if use_subset_of_data:\n",
        "    train_set_len = int(subset_percentage * len(train_data))\n",
        "    test_set_len = int(subset_percentage * len(test_data))\n",
        "\n",
        "    train_subset_indices = np.random.choice(len(train_data), size=train_set_len, replace=False)\n",
        "    train_sampler = SubsetRandomSampler(train_subset_indices)\n",
        "\n",
        "    test_subset_indices = np.random.choice(len(test_data), size=test_set_len, replace=False)\n",
        "    test_sampler = SubsetRandomSampler(test_subset_indices)\n",
        "\n",
        "    train_loader = DataLoader(train_data, batch_size=32, sampler=train_sampler)\n",
        "    test_loader = DataLoader(test_data, batch_size=32, sampler=test_sampler)\n",
        "\n",
        "else:\n",
        "    train_loader = DataLoader(train_data, batch_size=32, shuffle=True)\n",
        "    test_loader = DataLoader(test_data, batch_size=32, shuffle=False)"
      ]
    },
    {
      "cell_type": "markdown",
      "metadata": {
        "id": "6GFQ2jehSRna"
      },
      "source": [
        "Let's examine a sample tweet from the dataset and print its corresponding ground truth label. Label 1 corresponds to positive sentiment, while label 0 stands for negative sentiment. You can run the cell below multiple times to see different tweets."
      ]
    },
    {
      "cell_type": "code",
      "execution_count": null,
      "metadata": {
        "id": "9-7dRH69SRna",
        "colab": {
          "base_uri": "https://localhost:8080/"
        },
        "outputId": "3727b109-9918-499c-a603-e65ca8107162"
      },
      "outputs": [
        {
          "output_type": "stream",
          "name": "stdout",
          "text": [
            "Sample tweet:  I so don't feel like working today \n",
            "Ground truth label:  0\n"
          ]
        }
      ],
      "source": [
        "tweets, labels = next(iter(train_loader))\n",
        "print(\"Sample tweet: \", tweets[0])\n",
        "print(\"Ground truth label: \", labels[0].numpy())"
      ]
    },
    {
      "cell_type": "markdown",
      "metadata": {
        "id": "fCawovxkSRnc"
      },
      "source": [
        "## Fine-tuning BERT\n",
        "\n",
        "First, let's examine the performance of a pre-trained BERT model on the sentiment analysis task. BERT (original paper [here](https://arxiv.org/abs/1810.04805)) is a language representation model released by Google in 2018 that uses a Bidirectional Transformer architecture.\n",
        "\n",
        "It can be easily fine-tuned on downstream tasks such as sentiment analysis by appending a classification layer to the original BERT architecture. This is already done automatically by importing the `BertForSequenceClassification` from the Hugging Face library called `transformers`. The newly added classification layer is untrained (as you'll see in the warning that appears when you run the following cell) and so we have to fine-tune on the Sentiment-140 data. We will also import a pre-trained tokenizer, which is necessary to convert inputs from natural language to a numerical representation machine learning models can understand. The tokenizer imported from Hugging Face uses WordPiece tokenization, you can learn more about the algorithm [here](https://huggingface.co/learn/nlp-course/en/chapter6/6)."
      ]
    },
    {
      "cell_type": "code",
      "execution_count": null,
      "metadata": {
        "id": "_WKFezQySRnc",
        "colab": {
          "base_uri": "https://localhost:8080/",
          "height": 333,
          "referenced_widgets": [
            "2d4909a8c74c4593ab71e0f2aec380cf",
            "4188f094d59545e69253d1914539f61b",
            "d9c58c0744034b3c9813fa22b5363a5d",
            "559f92bcd6f94f4cbd5f347675e018bc",
            "05683946c25749ec8c9f584970a26fe1",
            "bf694fe47b9f44da915476aeb4986e16",
            "f9f997e275aa456bbc7ab8a00020a260",
            "0d448100982842e99aa0ad581b83ff28",
            "4d5102e305d747d49e404f98dbb988f5",
            "165f86e36c7b494ea51b92d58d652063",
            "22fe82483edf4d4c8c4185f550d63e2c",
            "37e16bc02e014c73995425e3cc4251c7",
            "d6526e54d81647baa3333c97ba44ccf8",
            "54e372c773904c19bb95a2525e0e0dcd",
            "657b5a259eb8443faf95461d6c3b68f7",
            "5f45f9c8166746da99ef49a22a1b935a",
            "43fb983d4a4442aea9a13c53859944be",
            "9a893a9f8ad4436ea700962e482b16dc",
            "5465e2eda0844af29d4968edcd195a11",
            "8b6af9fb376346ab9ec4522228d04cc8",
            "dc8f77026e914b51b26aef203c0b7dc7",
            "9729743c10ce45f88b20c37e05b3d730",
            "667e21c3848b4067bed1a57053a2ccb1",
            "02faf5451e79456caeedda7cf01e6590",
            "87d000feb93848149c4d7fd2e19c3962",
            "0cd14b83b1f54aeeaa4087b33d015010",
            "a8c7d291b5714962a508dd0fd4d16938",
            "55c607dd32e044b689309e332a387a30",
            "724daed6c4484c6b944d39248fc002a6",
            "91a8e985d74042f586a8192e6f1e32c6",
            "0b72fa660d764fb7b9a7b2fb9fca8a51",
            "3c659a8baddd433391ea92cb08fd15f9",
            "82f05d882d514db3b6aa87f0836eecc7",
            "7f7bfb2408644266825fee157c81104f",
            "30bc9b56888c4b67aa8824e8b09ee05f",
            "dcaf007f045f4a5c8d7003f1b7a4e2de",
            "1fcccc20d9754e2ab9bf8dba72d8e435",
            "b93e12b2778743e5be3dd3ebe9c195ce",
            "412b0f09a9f94d6fb550592af20f3303",
            "b4597547eb864b61b6dd23c37f99dcb3",
            "d149b3f7c06c497e946c068732ce2381",
            "f774637dda2b49c29f0dc0f3a133de07",
            "26a6f2baa69f4c77880f5160d506c359",
            "fdd75eabda9a4aef8c34ce4538b8cdd3",
            "973d466b7cf6401b9ae3b3c1861ade3a",
            "f985242f75cb4ae0ba30231723c724cf",
            "1cbfdcf6a37848c7bac4d71a33765f61",
            "78ab365a65e9417abdf0b2ba62887fd7",
            "858ff829b446478cab264a956babcc21",
            "ba96102178e8434999a154fb0d4dcdd4",
            "8314a1f015994621a547cf932cddf667",
            "1b3981c7e1494e629dd67728ac393077",
            "a4c89f42c2874e2b83404ef9060fe325",
            "ff0205b63e2b431a9f8783a545f28828",
            "35753eaa1df24c73a49e8a6b49f28da3"
          ]
        },
        "outputId": "933331b4-dac7-43e6-c21f-7fad099236d7"
      },
      "outputs": [
        {
          "output_type": "stream",
          "name": "stderr",
          "text": [
            "/usr/local/lib/python3.10/dist-packages/huggingface_hub/utils/_token.py:88: UserWarning: \n",
            "The secret `HF_TOKEN` does not exist in your Colab secrets.\n",
            "To authenticate with the Hugging Face Hub, create a token in your settings tab (https://huggingface.co/settings/tokens), set it as secret in your Google Colab and restart your session.\n",
            "You will be able to reuse this secret in all of your notebooks.\n",
            "Please note that authentication is recommended but still optional to access public models or datasets.\n",
            "  warnings.warn(\n"
          ]
        },
        {
          "output_type": "display_data",
          "data": {
            "text/plain": [
              "tokenizer_config.json:   0%|          | 0.00/48.0 [00:00<?, ?B/s]"
            ],
            "application/vnd.jupyter.widget-view+json": {
              "version_major": 2,
              "version_minor": 0,
              "model_id": "2d4909a8c74c4593ab71e0f2aec380cf"
            }
          },
          "metadata": {}
        },
        {
          "output_type": "display_data",
          "data": {
            "text/plain": [
              "vocab.txt:   0%|          | 0.00/232k [00:00<?, ?B/s]"
            ],
            "application/vnd.jupyter.widget-view+json": {
              "version_major": 2,
              "version_minor": 0,
              "model_id": "37e16bc02e014c73995425e3cc4251c7"
            }
          },
          "metadata": {}
        },
        {
          "output_type": "display_data",
          "data": {
            "text/plain": [
              "tokenizer.json:   0%|          | 0.00/466k [00:00<?, ?B/s]"
            ],
            "application/vnd.jupyter.widget-view+json": {
              "version_major": 2,
              "version_minor": 0,
              "model_id": "667e21c3848b4067bed1a57053a2ccb1"
            }
          },
          "metadata": {}
        },
        {
          "output_type": "display_data",
          "data": {
            "text/plain": [
              "config.json:   0%|          | 0.00/570 [00:00<?, ?B/s]"
            ],
            "application/vnd.jupyter.widget-view+json": {
              "version_major": 2,
              "version_minor": 0,
              "model_id": "7f7bfb2408644266825fee157c81104f"
            }
          },
          "metadata": {}
        },
        {
          "output_type": "display_data",
          "data": {
            "text/plain": [
              "model.safetensors:   0%|          | 0.00/440M [00:00<?, ?B/s]"
            ],
            "application/vnd.jupyter.widget-view+json": {
              "version_major": 2,
              "version_minor": 0,
              "model_id": "973d466b7cf6401b9ae3b3c1861ade3a"
            }
          },
          "metadata": {}
        },
        {
          "output_type": "stream",
          "name": "stderr",
          "text": [
            "Some weights of BertForSequenceClassification were not initialized from the model checkpoint at bert-base-uncased and are newly initialized: ['classifier.bias', 'classifier.weight']\n",
            "You should probably TRAIN this model on a down-stream task to be able to use it for predictions and inference.\n"
          ]
        }
      ],
      "source": [
        "model_name = \"bert-base-uncased\"\n",
        "tokenizer = BertTokenizer.from_pretrained(model_name)\n",
        "pretrained_model = BertForSequenceClassification.from_pretrained(model_name, num_labels=2)"
      ]
    },
    {
      "cell_type": "markdown",
      "metadata": {
        "id": "t0_xzC8lSRnd"
      },
      "source": [
        "Below, we define a `preprocess` function that takes in the tweets and tokenizes them. The tokenizer will break down words into smaller units called subword tokens and map these words to numbers (IDs), which can be processed by the model. Furthermore, it will add special tokens to the sequence that will normalize inputs to the model.\n",
        "\n",
        "The `preprocess` function return `input_ids` which represents the tokenized input sequence and `attention_mask` which specifies to the model which tokens to attend to while computing self-attention (more on that later!)."
      ]
    },
    {
      "cell_type": "code",
      "execution_count": null,
      "metadata": {
        "id": "ekl3P1hJSRne"
      },
      "outputs": [],
      "source": [
        "def preprocess(tweets):\n",
        "\n",
        "    encoded_batch = tokenizer.batch_encode_plus(\n",
        "        tweets,\n",
        "        add_special_tokens=True,\n",
        "        max_length=128,\n",
        "        padding='max_length',\n",
        "        truncation=True,\n",
        "        return_attention_mask=True,\n",
        "        return_tensors='pt'\n",
        "    )\n",
        "\n",
        "    input_ids = encoded_batch['input_ids']\n",
        "    attention_masks = encoded_batch['attention_mask']\n",
        "\n",
        "    return input_ids, attention_masks"
      ]
    },
    {
      "cell_type": "markdown",
      "metadata": {
        "id": "EfKka5RbSRne"
      },
      "source": [
        "There are three different types of special tokens normally used by the BERT tokenizer. `[CLS]` token is added at the beginning of the input sequence. The final hidden state corresponding to the `[CLS]` token is typically used as the representation of the entire input sequence for classification tasks, so it will be very useful to us later for sentiment analysis. The `[SEP]` token is used to separate different segments of the input sequence. It helps the model distinguish between different parts of the input and process them accordingly. In our case, one `[SEP]` token will typically be added at the end of the tokenized input sequence (tweet). Finally, the `[PAD]` token is used for padding shorter input sequences to a fixed length, so that they can be easily processed in batches without any shape mismatch issues. With BERT, we would typically pad the input sequence to reach a total length of 512 tokens; however, since we're analyzing tweets that are by definition very short, using maximum sequence length of 128 tokens should suffice.\n",
        "\n",
        "Below, you can see what the IDs reserved for special tokens are."
      ]
    },
    {
      "cell_type": "code",
      "execution_count": null,
      "metadata": {
        "id": "YKuJbrWSSRne",
        "colab": {
          "base_uri": "https://localhost:8080/"
        },
        "outputId": "56c136c0-27e7-452b-de07-9ef4dafdc479"
      },
      "outputs": [
        {
          "output_type": "stream",
          "name": "stdout",
          "text": [
            "[CLS] Token ID: 101, [SEP] Token ID: 102, [PAD] Token ID: 0\n"
          ]
        }
      ],
      "source": [
        "cls_token_id = tokenizer.cls_token_id\n",
        "sep_token_id = tokenizer.sep_token_id\n",
        "pad_token_id = tokenizer.pad_token_id\n",
        "\n",
        "print(\"[CLS] Token ID: \" + str(cls_token_id) + \", [SEP] Token ID: \" + str(sep_token_id) + \", [PAD] Token ID: \" + str(pad_token_id))"
      ]
    },
    {
      "cell_type": "markdown",
      "metadata": {
        "id": "6buAeNQmSRnf"
      },
      "source": [
        "We can print a sample tweet and its corresponding tokenized representation. Notice that each input sequence starts with token ID 101 (CLS token), ends with token ID 102 (SEP token), and is padded with token ID 0 (PAD token)."
      ]
    },
    {
      "cell_type": "code",
      "execution_count": null,
      "metadata": {
        "id": "scmbuZsLSRnf",
        "colab": {
          "base_uri": "https://localhost:8080/"
        },
        "outputId": "1d1b2cfe-767f-41a1-c0cd-a602f4c9e21e"
      },
      "outputs": [
        {
          "output_type": "stream",
          "name": "stdout",
          "text": [
            "Sample tweet:  As usual, Indian railway booking site is screwed up..  \n",
            "\n",
            "Tokenized representation:  tensor([  101,  2004,  5156,  1010,  2796,  2737, 21725,  2609,  2003, 14180,\n",
            "         2039,  1012,  1012,   102,     0,     0,     0,     0,     0,     0,\n",
            "            0,     0,     0,     0,     0,     0,     0,     0,     0,     0,\n",
            "            0,     0,     0,     0,     0,     0,     0,     0,     0,     0,\n",
            "            0,     0,     0,     0,     0,     0,     0,     0,     0,     0,\n",
            "            0,     0,     0,     0,     0,     0,     0,     0,     0,     0,\n",
            "            0,     0,     0,     0,     0,     0,     0,     0,     0,     0,\n",
            "            0,     0,     0,     0,     0,     0,     0,     0,     0,     0,\n",
            "            0,     0,     0,     0,     0,     0,     0,     0,     0,     0,\n",
            "            0,     0,     0,     0,     0,     0,     0,     0,     0,     0,\n",
            "            0,     0,     0,     0,     0,     0,     0,     0,     0,     0,\n",
            "            0,     0,     0,     0,     0,     0,     0,     0,     0,     0,\n",
            "            0,     0,     0,     0,     0,     0,     0,     0])\n"
          ]
        }
      ],
      "source": [
        "tweets, labels = next(iter(train_loader))\n",
        "print(\"Sample tweet: \", tweets[0], '\\n')\n",
        "input_ids, att_masks = preprocess(tweets)\n",
        "print(\"Tokenized representation: \", input_ids[0])"
      ]
    },
    {
      "cell_type": "markdown",
      "metadata": {
        "id": "WYB5hfYYSRnf"
      },
      "source": [
        "Next, we need to define a training and evaluation loop. Notice that we use the `preprocess` function in both the `train` and `evaluate` to transform the natural language input to tokenized representation. We will also collect loss and accuracy statistics during training, so that we can plot the training history later.\n",
        "\n",
        "Note that the `finetuning` parameter is used simply because the internal Hugging Face representation of the pre-trained model is slightly different from what our representation will be when we later define our own transformer model. Thus, when using the training loop for fine-tuning the pre-trained downloaded from Hugging Face, set `finetuning=True`, otherwise set it to `False`."
      ]
    },
    {
      "cell_type": "code",
      "execution_count": null,
      "metadata": {
        "id": "jywnftxLSRnf"
      },
      "outputs": [],
      "source": [
        "def train(model, train_loader, val_loader, optimizer, criterion, device,\n",
        "          num_epochs, finetuning=False):\n",
        "\n",
        "    # Place model on device\n",
        "    model = model.to(device)\n",
        "\n",
        "    loss_history = []\n",
        "    acc_history = []\n",
        "\n",
        "    for epoch in range(num_epochs):\n",
        "        model.train()  # Set model to training mode\n",
        "\n",
        "        # Use tqdm to display a progress bar during training\n",
        "        with tqdm(total=len(train_loader),\n",
        "                  desc=f'Epoch {epoch + 1}/{num_epochs}',\n",
        "                  position=0,\n",
        "                  leave=True) as pbar:\n",
        "\n",
        "            for inputs, labels in train_loader:\n",
        "\n",
        "                input_ids, attention_masks = preprocess(inputs)\n",
        "                # Move inputs and labels to device\n",
        "                input_ids = input_ids.to(device)\n",
        "                attention_masks = attention_masks.to(device)\n",
        "                labels = labels.to(device)\n",
        "\n",
        "                # Zero out gradients\n",
        "                optimizer.zero_grad()\n",
        "\n",
        "                # Compute the logits and loss\n",
        "                outputs = model(input_ids=input_ids, attention_mask=attention_masks)\n",
        "                if finetuning:\n",
        "                    outputs = outputs.logits\n",
        "                loss = criterion(outputs, labels)\n",
        "\n",
        "                # Backpropagate the loss\n",
        "                loss.backward()\n",
        "\n",
        "                # Update the weights\n",
        "                optimizer.step()\n",
        "\n",
        "                # Update the progress bar\n",
        "                pbar.update(1)\n",
        "                pbar.set_postfix(loss=loss.item())\n",
        "\n",
        "                loss_history.append(loss.item())\n",
        "\n",
        "\n",
        "        avg_loss, accuracy = evaluate(model, val_loader, criterion, device, finetuning)\n",
        "        print(\n",
        "            f'Test set: Average loss = {avg_loss:.4f}, Accuracy = {accuracy:.4f}'\n",
        "        )\n",
        "        acc_history.append(accuracy)\n",
        "\n",
        "    return loss_history, acc_history\n",
        "\n",
        "\n",
        "def evaluate(model, test_loader, criterion, device, finetuning=False):\n",
        "\n",
        "    model.eval()  # Set model to evaluation mode\n",
        "\n",
        "    with torch.no_grad():\n",
        "        total_loss = 0.0\n",
        "        num_correct = 0\n",
        "        num_samples = 0\n",
        "\n",
        "        for inputs, labels in test_loader:\n",
        "\n",
        "            input_ids, attention_masks = preprocess(inputs)\n",
        "            # Move inputs and labels to device\n",
        "            input_ids = input_ids.to(device)\n",
        "            attention_masks = attention_masks.to(device)\n",
        "            labels = labels.to(device)\n",
        "\n",
        "            # Compute the logits and loss\n",
        "            outputs = model(input_ids=input_ids, attention_mask=attention_masks)\n",
        "            if finetuning:\n",
        "                outputs = outputs.logits\n",
        "            loss = criterion(outputs, labels)\n",
        "            total_loss += loss.item()\n",
        "\n",
        "            # Compute the accuracy\n",
        "            _, predictions = torch.max(outputs, dim=1)\n",
        "            num_correct += (predictions == labels).sum().item()\n",
        "            num_samples += len(labels)\n",
        "\n",
        "    # Compute the average loss and accuracy\n",
        "    avg_loss = total_loss / len(test_loader)\n",
        "    accuracy = num_correct / num_samples\n",
        "\n",
        "    return avg_loss, accuracy"
      ]
    },
    {
      "cell_type": "markdown",
      "metadata": {
        "id": "vzPrg-0ASRng"
      },
      "source": [
        "Make sure you are running the model on CUDA."
      ]
    },
    {
      "cell_type": "code",
      "execution_count": null,
      "metadata": {
        "id": "0uLCkctsSRng",
        "colab": {
          "base_uri": "https://localhost:8080/"
        },
        "outputId": "b0e14cae-1388-4528-9a72-b7fd83345b61"
      },
      "outputs": [
        {
          "output_type": "stream",
          "name": "stdout",
          "text": [
            "cuda\n"
          ]
        }
      ],
      "source": [
        "device = torch.device('cuda' if torch.cuda.is_available() else 'cpu')\n",
        "print(device)"
      ]
    },
    {
      "cell_type": "markdown",
      "metadata": {
        "id": "khW1-hpSSRnh"
      },
      "source": [
        "We will finetune all the weights in the BERT model (including the pre-trained weights and the newly initialized classifier weights). An alternative approach would be to freeze the pre-trained weights and only fine-tune the classifier weights. You can do that by passing in `model.classifier.parameters()` to the optimizer instead of passing in all the weights of the model."
      ]
    },
    {
      "cell_type": "code",
      "execution_count": null,
      "metadata": {
        "id": "xNjE6tf0SRnh",
        "colab": {
          "base_uri": "https://localhost:8080/"
        },
        "outputId": "457201e1-25c1-4788-ec33-b09e3175b22c"
      },
      "outputs": [
        {
          "output_type": "stream",
          "name": "stderr",
          "text": [
            "Epoch 1/1: 100%|██████████| 40/40 [00:24<00:00,  1.63it/s, loss=0.602]\n"
          ]
        },
        {
          "output_type": "stream",
          "name": "stdout",
          "text": [
            "Test set: Average loss = 0.5313, Accuracy = 0.7250\n"
          ]
        }
      ],
      "source": [
        "optimizer = torch.optim.AdamW(pretrained_model.parameters(), lr=2e-5)\n",
        "criterion = nn.CrossEntropyLoss()\n",
        "\n",
        "loss_history, acc_history = train(pretrained_model, train_loader, test_loader, optimizer, criterion, device, num_epochs=1, finetuning=True)\n",
        "\n",
        "# Let's save our trained weights\n",
        "torch.save(pretrained_model.state_dict(), '/content/drive/MyDrive/bert_fine_tuned.pt')\n",
        "\n"
      ]
    },
    {
      "cell_type": "code",
      "source": [
        "#in model.eval can pass in own things and test\n",
        "test_regular = [(\"hello\", 1), (\"bad\", 0)]\n",
        "test_loaded = DataLoader(test_regular)\n",
        "print(evaluate(pretrained_model,test_loaded, criterion, device, finetuning = True ))"
      ],
      "metadata": {
        "colab": {
          "base_uri": "https://localhost:8080/"
        },
        "id": "sVsFlUo4-r-Y",
        "outputId": "1f9b0bd9-90bf-4992-a03f-b21d149783ce"
      },
      "execution_count": null,
      "outputs": [
        {
          "output_type": "stream",
          "name": "stdout",
          "text": [
            "(0.241719551384449, 1.0)\n"
          ]
        }
      ]
    },
    {
      "cell_type": "markdown",
      "metadata": {
        "id": "EeMZdPmtSRnh"
      },
      "source": [
        "Next, let's plot our training loss and test accuracy history that documents the fine-tuning process."
      ]
    },
    {
      "cell_type": "code",
      "execution_count": null,
      "metadata": {
        "id": "w0BSe1nmSRnh",
        "colab": {
          "base_uri": "https://localhost:8080/",
          "height": 472
        },
        "outputId": "6d7293df-63c9-424f-9810-3c91625d68a8"
      },
      "outputs": [
        {
          "output_type": "display_data",
          "data": {
            "text/plain": [
              "<Figure size 640x480 with 1 Axes>"
            ],
            "image/png": "[encoded data removed]"
          },
          "metadata": {}
        }
      ],
      "source": [
        "plt.plot(loss_history)\n",
        "plt.xlabel('Iterations')\n",
        "plt.ylabel('Cross-entropy Loss')\n",
        "plt.title('BERT Fine-tuning, Loss history')\n",
        "plt.show()"
      ]
    },
    {
      "cell_type": "markdown",
      "metadata": {
        "id": "5il8EwNtSRni"
      },
      "source": [
        "## Creating our own Transformer architecture from scratch\n",
        "\n",
        "That was fun, right? But maybe slightly too easy, don't you think? Let's try to implement our own transformer architecture now, without the help of pre-trained models. We will base our architecture off of BERT, which will also allow us to effectively compare the performance of our own implementation with the pre-trained model. The high-level of the model architecture can be seen below.\n",
        "\n",
        "Note that, compared to illustration below, all the tensor sizes will most likely be different and specific to the hyperparameters of our model.\n",
        "\n",
        "![BERT For Sequence Classification](https://github.com/uclaacmai/Tweets-Are-All-You-Need/blob/main/bert_classification.png?raw=true)\n",
        "\n",
        "![BERT Encoder](https://github.com/uclaacmai/Tweets-Are-All-You-Need/blob/main/bert_encoder.png?raw=true)"
      ]
    },
    {
      "cell_type": "markdown",
      "metadata": {
        "id": "d6K-0IoGSRni"
      },
      "source": [
        "Let's first define some hyperparameters of our network. (You can also play around with these later to improve your model's performance.)"
      ]
    },
    {
      "cell_type": "code",
      "execution_count": null,
      "metadata": {
        "id": "HBbm2_FDSRni"
      },
      "outputs": [],
      "source": [
        "MAX_SEQ_LEN = 128 # Maximum length of tokenized input sequence (we already covered this above!)\n",
        "VOCAB_SIZE = 30522 # number of different token -> ID mappings, specific to the BERT Tokenizer (do not change)\n",
        "N_LAYERS = 12 # number of transformer layers stacked on top of each other\n",
        "N_HEADS = 12 # number of heads of the transformer, input sequence will be split and equally distributed to each head\n",
        "EMB_SIZE = 768 # refers to the dimensionality of the vector representations used to encode input tokens\n",
        "INTERMEDIATE_SIZE = EMB_SIZE * 4 # dimensionality of output of the Intermediate layer\n",
        "DROPOUT = 0.1 # probability of dropping a neuron during training\n",
        "N_CLASSES = 2 # we are classifying the sentiment of each tweet simply as POSITIVE or NEGATIVE\n",
        "LAYER_NORM_EPS = 1e-12 # value used in Layer Norm for numerical stability"
      ]
    },
    {
      "cell_type": "markdown",
      "metadata": {
        "id": "N8nKhYzFSRni"
      },
      "source": [
        "## Transformers\n",
        "\n",
        "Transformers are a type of neural network architecture primarily used in the field of natural language processing (NLP). Unlike previous models that processed inputs sequentially (like RNNs), transformers process whole sequences of data in parallel, which significantly speeds up training.\n",
        "\n",
        "### Why are they important?\n",
        "\n",
        "They have been highly successful in a variety of NLP tasks like translation, text summarization, and sentiment analysis due to their ability to handle long-range dependencies in text."
      ]
    },
    {
      "cell_type": "markdown",
      "metadata": {
        "id": "iURI3NuHSRnj"
      },
      "source": [
        "### Components of Transformers\n",
        "\n",
        "1. Input Embeddings + Positional Encoding\n",
        "2. Multi-Head Attention\n",
        "3. Positional-Wise Feed-Forward Networks\n",
        "4. Layer Normalization and Residual Connections\n"
      ]
    },
    {
      "cell_type": "markdown",
      "metadata": {
        "id": "mGqVQuc5SRnj"
      },
      "source": [
        "## 1. Input Embeddings\n",
        "\n",
        "Converts tokens (words) into vectors of continuous numbers that the model can understand.  \n",
        "\n",
        "*(Optional)* Check out 3Blue1Brown's video on Word Embeddings [here](https://www.youtube.com/watch?v=wjZofJX0v4M)."
      ]
    },
    {
      "cell_type": "markdown",
      "metadata": {
        "id": "WSzXHfHcSRnj"
      },
      "source": [
        "### Concept of Embeddings\n",
        "\n",
        "Embeddings are vector representations of text, where words with **similar meanings** have **similar representations**. These vectors are learned and adjusted during the training of the model to optimize performance on a specific task."
      ]
    },
    {
      "cell_type": "markdown",
      "metadata": {
        "id": "_O8cCzAZSRnj"
      },
      "source": [
        "### Importance of Embeddings\n",
        "\n",
        "Embeddings capture the semantic properties of words, which means they convert the words/tokens into a form that a neural network can work with. This allows the model to **understand and process language** by **quantifying the similarities between different words or phrases**."
      ]
    },
    {
      "cell_type": "markdown",
      "metadata": {
        "id": "6wC2LaNYSRnk"
      },
      "source": [
        "### Embeddings in Transformers\n",
        "\n",
        "1. **Tokenization**:\n",
        "   - **Process**: Text input is split into tokens (words or subwords), which are then converted into numerical IDs that correspond to entries in the embedding table.\n",
        "   - **Role in Model**: This step is critical because it translates human-readable text into a format that can be mathematically manipulated by the model.\n",
        "\n",
        "2. **Lookup Table**:\n",
        "   - **Process**: Each token ID is used to retrieve its corresponding embedding vector from an embedding matrix (or table) that the model learns during training.\n",
        "   - **Role in Model**: This embedding matrix acts as the foundational input layer of the transformer, providing a dense and informative representation for each token.\n",
        "\n",
        "3. **Dimensionality**:\n",
        "   - **Process**: Embeddings are usually vectors of fixed size (e.g., 256, 512 dimensions), regardless of the vocabulary size.\n",
        "   - **Role in Model**: Higher dimensions generally capture more detailed semantic information about each token, but also increase model complexity and computational cost."
      ]
    },
    {
      "cell_type": "markdown",
      "metadata": {
        "id": "lXvyjUAbSRnk"
      },
      "source": [
        "### Positional Embeddings\n",
        "\n",
        "If we only turn words into embeddings, the model won't know the order of them in a sentence. We need to somehow preserve the positional info.\n",
        "\n",
        "- **Concept**: Since transformers process words in parallel rather than sequentially, positional encodings are added to embeddings to give the model information about the order of words in a sentence.\n",
        "- **Why Necessary**: Helps the model understand how the position of a word in a sentence affects its meaning."
      ]
    },
    {
      "cell_type": "markdown",
      "metadata": {
        "id": "B9WNwWnHSRnk"
      },
      "source": [
        "### Training and Adjustments\n",
        "\n",
        "**Learning Process**:\n",
        "- Embeddings are not static; they are adjusted during the training process to minimize the model's prediction error. This learning happens through backpropagation, which adjusts the embeddings to better capture the relationships and contexts in which words appear.\n",
        "\n",
        "**Impact on Performance**:\n",
        "- The quality of embeddings significantly affects the model's performance. Better embeddings lead to a better understanding of language nuances, such as synonyms, antonyms, and different contexts."
      ]
    },
    {
      "cell_type": "markdown",
      "metadata": {
        "id": "IuuQOfUoSRnk"
      },
      "source": [
        "### Toy Example"
      ]
    },
    {
      "cell_type": "code",
      "execution_count": null,
      "metadata": {
        "id": "VvZhnz1ISRnl",
        "colab": {
          "base_uri": "https://localhost:8080/"
        },
        "outputId": "9420f2aa-d3a4-4ec4-8557-1f7e80bbd0f3"
      },
      "outputs": [
        {
          "output_type": "stream",
          "name": "stdout",
          "text": [
            "tensor([[-0.5560,  1.5080, -1.5610, -0.2792, -0.5838,  0.5478,  3.8247,  0.1929,\n",
            "          0.1016, -1.5185, -1.6170,  0.9989,  1.6621,  1.1465,  0.0709, -0.9695,\n",
            "          1.5347,  1.1069,  1.4292,  2.1559, -1.1393, -0.0852, -1.4966,  0.7590,\n",
            "         -0.9074,  0.3644,  0.8299, -1.0214, -0.2617,  0.2616,  1.4193, -0.7218,\n",
            "         -1.6877,  0.8193,  0.2935, -0.6052,  0.5398,  0.3475,  0.5094,  1.2999,\n",
            "          1.1829,  1.0300,  0.1091,  0.3621, -0.8076, -0.7268, -0.5420, -0.6005,\n",
            "         -2.2976,  0.2961, -0.9222, -0.7160,  0.8202,  0.0774, -1.0636,  1.5903,\n",
            "          0.1205,  0.9394,  0.7793, -1.0095,  0.5943,  1.0101, -0.1598,  0.3140],\n",
            "        [ 0.6973,  0.2763,  1.7715, -1.2277,  0.4256,  0.1113, -1.1714,  0.8921,\n",
            "          1.4886, -1.3848,  0.2221,  0.4846, -0.8700,  0.7339,  1.4711,  0.0860,\n",
            "          0.9116, -0.0481, -0.8718,  0.3200,  1.2405, -0.7377,  0.3432,  0.3455,\n",
            "         -0.5104,  1.3539,  0.2906,  1.8800, -2.4621,  0.0483,  1.7181, -0.6331,\n",
            "         -0.7123,  0.6514, -1.2268, -0.1878, -1.5711, -0.1396, -0.1718, -0.4195,\n",
            "          1.6653,  0.0894,  0.2349, -1.9482,  0.5817, -1.8802,  0.1657, -0.7562,\n",
            "         -0.8787, -1.4300,  0.1888,  0.8921,  1.0707, -2.7645, -0.2478,  0.1774,\n",
            "         -2.3071, -0.8912, -1.2975,  0.4047, -0.2928, -0.2851,  0.5256,  0.5102],\n",
            "        [ 0.2770, -1.2904, -0.5373, -1.0828,  0.0254, -0.4878, -0.5919, -0.5004,\n",
            "         -0.1463,  1.4987, -1.1610, -0.7136, -0.2457, -0.2099,  0.0769, -0.3523,\n",
            "          1.4816, -2.0952, -0.7944, -1.3074,  1.5307, -0.3695, -0.3668, -0.1340,\n",
            "          0.0710,  1.2217,  1.0501,  0.0507,  0.4477, -0.6472,  1.3376, -2.6084,\n",
            "         -1.1012, -0.4332, -2.2751, -2.2006, -0.7491,  0.9006, -1.2137, -0.7860,\n",
            "          0.2758,  0.7678,  1.0723, -1.1521, -0.9708, -0.9199, -0.8370,  1.6843,\n",
            "         -1.5234, -1.2691,  0.7300,  0.2984,  1.4758, -1.0065,  0.8863,  0.0689,\n",
            "         -0.9946, -0.3095, -0.9836, -0.8569, -0.0705,  0.6613, -0.3963, -2.4749]],\n",
            "       grad_fn=<EmbeddingBackward0>)\n"
          ]
        }
      ],
      "source": [
        "import torch\n",
        "import torch.nn as nn\n",
        "\n",
        "# Vocabulary size and embedding dimension\n",
        "vocab_size = 1000  # Number of unique tokens\n",
        "embedding_dim = 64  # Size of each embedding vector\n",
        "\n",
        "# Create an embedding layer\n",
        "embedding_layer = nn.Embedding(num_embeddings=vocab_size, embedding_dim=embedding_dim)\n",
        "\n",
        "# Example token IDs\n",
        "token_ids = torch.LongTensor([10, 200, 500])\n",
        "\n",
        "# Get embeddings for token IDs\n",
        "embeddings = embedding_layer(token_ids)\n",
        "print(embeddings)"
      ]
    },
    {
      "cell_type": "markdown",
      "metadata": {
        "id": "OMAcsIKJSRnl"
      },
      "source": [
        "This example initializes an embedding layer with random values which then can be trained to learn meaningful representations through a task like sentiment analysis or machine translation."
      ]
    },
    {
      "cell_type": "markdown",
      "metadata": {
        "id": "j7tE375oSRnl"
      },
      "source": [
        "### Your Turn\n",
        "\n",
        "Now, let's implement the `EmbeddingLayer` class. This class will be responsible for converting tokens into dense vectors that the model can understand. We will use PyTorch's `nn.Embedding` module to create the embedding layer.\n",
        "\n",
        "1. token embedding: vocab -> embedding.\n",
        "2. positional embedding: position -> embedding\n",
        "3. add them together\n",
        "4. layer normalization\n",
        "5. dropout"
      ]
    },
    {
      "cell_type": "code",
      "execution_count": null,
      "metadata": {
        "id": "aRVSUyLpSRnm"
      },
      "outputs": [],
      "source": [
        "class EmbeddingLayer(nn.Module):\n",
        "\n",
        "    def __init__(self, vocab_size, emb_size, max_seq_length, layer_norm_eps=1e-12, dropout=0.1):\n",
        "        super().__init__()\n",
        "\n",
        "        # TODO: Initialize word embeddings\n",
        "        self.word_embeddings = nn.Embedding(vocab_size, emb_size)\n",
        "        #take in position then output embedding\n",
        "        #padding our input to max sequence length\n",
        "        self.position_embeddings = nn.Embedding(max_seq_length, emb_size)\n",
        "        self.ln = nn.LayerNorm(emb_size, eps = layer_norm_eps)\n",
        "        self.dropout = nn.Dropout(dropout)\n",
        "\n",
        "        # sets self.position_ids to a tensor containing values from 0 to max_seq_length, reshaped to (1, max_seq_length)\n",
        "        # register_buffer makes it so that this does NOT get updated during training\n",
        "        self.register_buffer(\"position_ids\", torch.arange(max_seq_length).expand((1, -1)))\n",
        "\n",
        "#now need to make the forward pass\n",
        "    def forward(self, input_ids):\n",
        "      wordEmbed = self.word_embeddings(input_ids)\n",
        "      posEmbed = self.position_embeddings(self.position_ids)\n",
        "      normalize = self.ln(wordEmbed + posEmbed)\n",
        "      emb = self.dropout(normalize)\n",
        "\n",
        "      return emb\n"
      ]
    },
    {
      "cell_type": "markdown",
      "source": [],
      "metadata": {
        "id": "x-CbOF32PQwo"
      }
    },
    {
      "cell_type": "markdown",
      "metadata": {
        "id": "YVycjfGhSRnm"
      },
      "source": [
        "## 2. Multi-Head Attention\n",
        "\n",
        "Multi-head attention consists of several attention mechanisms (heads) running in parallel. Each head computes an attention score known as \"Scaled Dot-Product Attention,\" which determines how much each element in a sequence should pay attention to every other element. Combining multiple heads allows the model to capture various aspects of semantic relationships in different subspaces.  \n",
        "\n",
        "*(Optional)* Check out 3Blue1Brown's video on Attention Mechanism [here](https://www.youtube.com//watch?v=eMlx5fFNoYc)."
      ]
    },
    {
      "cell_type": "markdown",
      "metadata": {
        "id": "oln_PUw5SRnm"
      },
      "source": [
        "### Why Multi-Head Attention\n",
        "\n",
        "By using multiple attention heads, transformers can:\n",
        "- Capture a richer diversity of relationships within the data.\n",
        "- Focus on different parts of the sentence simultaneously.\n",
        "- Improve the ability of the model to focus on relevant parts of the input for making predictions."
      ]
    },
    {
      "cell_type": "markdown",
      "metadata": {
        "id": "JTWEv4o7SRnm"
      },
      "source": [
        "### Components of Multi-Head Attention\n",
        "\n",
        "1. **Scaled Dot-Product Attention**: The basic attention mechanism computes the dot products of the query with all keys, divides each by the square root of the dimensionality (to stabilize gradients), applies a softmax function to obtain weights on the values, and finally returns an output vector.\n",
        "\n",
        "2. **Multiple Heads**: Each head performs attention independently, allowing the model to focus on different features across different positions in the input sequence.\n",
        "\n",
        "3. **Concatenation and Final Linear Transformation**: Outputs from individual heads are concatenated and passed through a final linear layer to combine the different learned aspects."
      ]
    },
    {
      "cell_type": "markdown",
      "metadata": {
        "id": "E53Pm4zvSRnn"
      },
      "source": [
        "### Your Turn\n",
        "\n",
        "We compute attention using the formula below, introduced in [this](https://arxiv.org/abs/1706.03762) famous paper.\n",
        "\n",
        "![Attention](https://github.com/uclaacmai/Tweets-Are-All-You-Need/blob/main/attention.png?raw=true)\n",
        "\n",
        "https://towardsdatascience.com/transformers-explained-visually-part-3-multi-head-attention-deep-dive-1c1ff1024853 (a good link for understanding the dimenions)"
      ]
    },
    {
      "cell_type": "code",
      "execution_count": null,
      "metadata": {
        "id": "GXvQsqdrSRnn"
      },
      "outputs": [],
      "source": [
        "class MultiHeadAttention(nn.Module):\n",
        "\n",
        "    def __init__(self, emb_size, n_heads, dropout=0.1, layer_norm_eps=1e-12):\n",
        "        '''\n",
        "        Args:\n",
        "            emb_size (int): The size of the input embeddings\n",
        "            n_heads (int): The number of attention heads\n",
        "            dropout (float): The dropout probability\n",
        "            layer_norm_eps (float): The epsilon value for layer normalization\n",
        "\n",
        "        '''\n",
        "        super().__init__()\n",
        "        assert emb_size % n_heads == 0, \"emb_size must be divisible by n_heads\"\n",
        "\n",
        "        # TODO: initialize head size, query, key, value, dropout, final_linear, and layer norm\n",
        "        # you want to use nn.Linear, nn.Dropout, nn.LayerNorm\n",
        "        # query, key, value, final_linear should map from emb_size to emb_size\n",
        "        self.head_size = emb_size // n_heads\n",
        "        self.n_heads = n_heads\n",
        "        self.query = nn.Linear(emb_size, emb_size)\n",
        "        self.key = nn.Linear(emb_size, emb_size)\n",
        "        self.value = nn.Linear(emb_size, emb_size)\n",
        "        self.dropout = nn.Dropout(p = dropout)\n",
        "        self.final_linear = nn.Linear(emb_size, emb_size)\n",
        "        self.ln = nn.LayerNorm(emb_size, eps = emb_size)\n",
        "\n",
        "\n",
        "    def forward(self, emb, att_mask):\n",
        "        '''\n",
        "        Args:\n",
        "            emb (torch.Tensor): The input embeddings with shape (B, T, C)\n",
        "            att_mask (torch.Tensor): The attention mask with shape (B, T)\n",
        "\n",
        "        Returns:\n",
        "            torch.Tensor: The output embeddings with shape (B, T, C)\n",
        "\n",
        "        1. You want to obtain the query (Q), key (K), and value (V) tensors from the input embeddings\n",
        "        2. Compute weights:\n",
        "            a. find dot product of Q and K\n",
        "            b. divide by the square root of the head size\n",
        "            c. apply the attention mask\n",
        "            d. apply softmax\n",
        "        3. Compute attention: multiply weights by V\n",
        "        4. Feed the attention through the final linear layer\n",
        "        5. Apply dropout, residual connection, and layer normalization\n",
        "\n",
        "        '''\n",
        "        B, T, C = emb.shape  # batch size, sequence length, embedding size\n",
        "\n",
        "        # TODO: 1. get the query, key, and value tensors\n",
        "\n",
        "        query = self.query(emb)\n",
        "        key = self.key(emb)\n",
        "        value = self.value(emb)\n",
        "\n",
        "\n",
        "        # TODO: 2. rearrange the tensors from B x T x C to B x n_heads x T x head_size\n",
        "\n",
        "\n",
        "        q = torch.reshape(query, (B, self.n_heads, T, self.head_size))\n",
        "        k = torch.reshape(key, (B, self.n_heads, T, self.head_size))\n",
        "        v = torch.reshape(value, (B, self.n_heads, T, self.head_size))\n",
        "\n",
        "        # TODO: compute the weights before attention mask\n",
        "        #because the last dimenion of q must match the second to last dimenion of k\n",
        "        #since they are currently the same size switching them should work\n",
        "        weights = torch.matmul(q, torch.transpose(k, -2, -1)*self.head_size**-0.5)\n",
        "        # set the pad tokens to -inf so that they equal zero after softmax\n",
        "        if att_mask != None:\n",
        "            att_mask = (att_mask > 0).unsqueeze(1).repeat(1, att_mask.size(1), 1).unsqueeze(1)\n",
        "            weights = weights.masked_fill(att_mask == 0, float('-inf'))\n",
        "\n",
        "        # apply softmax and dropout\n",
        "        weights = F.softmax(weights, dim = -1)\n",
        "        weights = self.dropout(weights)\n",
        "\n",
        "        # compute attention\n",
        "        attention = torch.matmul(weights, v)\n",
        "\n",
        "        # rearrange the attention tensor from B x n_heads x T x head_size to B x T x C\n",
        "        attention = torch.reshape(attention, (B, T, C))\n",
        "\n",
        "        # apply final linear layer, dropout, residual connection, and layer normalization\n",
        "        out = self.final_linear(attention)\n",
        "        out = self.dropout(out)\n",
        "        #need to add it back to the originals\n",
        "        out = out + emb\n",
        "        out = self.ln(out)\n",
        "\n",
        "        return out\n"
      ]
    },
    {
      "cell_type": "markdown",
      "metadata": {
        "id": "BGFBGcvJSRnn"
      },
      "source": [
        "### Side Note: Layer Normalization and Residual Connections\n",
        "\n",
        "- **Concept**: Techniques used within transformers to stabilize the learning process. Residual connections help in propagating gradients through deep networks without vanishing.\n",
        "- **Why Necessary**: Improves training efficiency and model performance by preventing the vanishing gradient problem."
      ]
    },
    {
      "cell_type": "markdown",
      "metadata": {
        "id": "DaHOxnsVSRno"
      },
      "source": [
        "## 3. Position-Wise Feed-Forward Networks\n",
        "\n",
        "The position-wise feed-forward network is a standard fully connected neural network that applies the same two linear transformations to each position independently and identically. It consists of two layers:\n",
        "- The first linear transformation maps the input dimension `emb_size` to a dimension `intermediate_size` (typically much larger, e.g., 2048).\n",
        "- The second linear transformation maps it back from `intermediate_size` to `emb_size`."
      ]
    },
    {
      "cell_type": "markdown",
      "metadata": {
        "id": "DxoNrioKSRno"
      },
      "source": [
        "### Why Position-wise Feed-Forward Networks\n",
        "\n",
        "This component of the transformer allows the model to consider each position separately and integrate non-linearity into the model. Each position in the encoder or decoder can be thought of as having its own little neural network that processes the information.\n",
        "\n",
        "Its role is two-fold:\n",
        "1. It increases the model's capacity by introducing additional learnable parameters.\n",
        "2. It facilitates the progressive enrichment and refinement of token representations as they pass through each encoder layer."
      ]
    },
    {
      "cell_type": "markdown",
      "metadata": {
        "id": "m1TmA011SRno"
      },
      "source": [
        "### Your Turn"
      ]
    },
    {
      "cell_type": "code",
      "execution_count": null,
      "metadata": {
        "id": "2wPg7fklSRno"
      },
      "outputs": [],
      "source": [
        "class PositionWiseFeedForward(nn.Module):\n",
        "\n",
        "    def __init__(self, emb_size, intermediate_size, dropout=0.1, layer_norm_eps=1e-12):\n",
        "        '''\n",
        "        Args:\n",
        "            emb_size (int): The size of the input embeddings\n",
        "            intermediate_size (int): The size of the intermediate layer\n",
        "            dropout (float): The dropout probability\n",
        "            layer_norm_eps (float): The epsilon value for layer normalization\n",
        "\n",
        "        We want to create two fully connected layers mapping from emb_size to intermediate_size and back\n",
        "        '''\n",
        "\n",
        "        # TODO: initialize the two fully connected layers, gelu, dropout, and layer norm\n",
        "        super().__init__()\n",
        "        self.fc1 = nn.Linear(emb_size, intermediate_size)\n",
        "        self.fc2 = nn.Linear(intermediate_size, emb_size)\n",
        "\n",
        "        # we want some non-linearity between the two layers, we are using GELU, feel free to experiment with other activations\n",
        "        self.gelu = nn.GELU()\n",
        "        self.dropout = nn.Dropout(p = dropout)\n",
        "        self.ln = nn.LayerNorm(emb_size, eps = layer_norm_eps)\n",
        "\n",
        "    def forward(self, att_out):\n",
        "        '''\n",
        "        Args:\n",
        "            att_out (torch.Tensor): The output embeddings from the multi-head attention layer with shape (B, T, C)\n",
        "\n",
        "        Returns:\n",
        "            torch.Tensor: The output embeddings with shape (B, T, C)\n",
        "\n",
        "        TODO:\n",
        "        1. Apply the first fully connected layer and non-linearity\n",
        "        2. Apply the second fully connected layer and dropout\n",
        "        3. Apply a residual connection and layer normalization\n",
        "        '''\n",
        "        #so applying these two linear layers to each of the position embeddings\n",
        "        #pytorch will do this if you give it the entire tensor\n",
        "        x = self.fc1(att_out)\n",
        "        x = self.gelu(x)\n",
        "        x = self.fc2(x)\n",
        "        x = x + att_out\n",
        "        out = self.ln(x)\n",
        "\n",
        "\n",
        "        return out"
      ]
    },
    {
      "cell_type": "markdown",
      "metadata": {
        "id": "nUKzx1PnSRnp"
      },
      "source": [
        "## Transformer Block: Putting It All Together\n",
        "\n",
        "Now that we have implemented the individual components of the transformer, we can combine them to create a single transformer block. This block will contain the following components:\n",
        "- Multi-Head Attention\n",
        "- Position-wise Feed-Forward Networks\n",
        "- Layer Normalization Residual Connections"
      ]
    },
    {
      "cell_type": "code",
      "execution_count": null,
      "metadata": {
        "id": "zq4oIIbySRnp"
      },
      "outputs": [],
      "source": [
        "class TransformerBlock(nn.Module):\n",
        "\n",
        "    def __init__(self, emb_size, n_heads, intermediate_size, dropout=0.1, layer_norm_eps=1e-12):\n",
        "        '''\n",
        "        Args:\n",
        "            emb_size (int): The size of the input embeddings\n",
        "            n_heads (int): The number of attention heads\n",
        "            intermediate_size (int): The size of the intermediate layer\n",
        "            dropout (float): The dropout probability\n",
        "            layer_norm_eps (float): The epsilon value for layer normalization\n",
        "\n",
        "        We want to create a transformer block that consists of a multi-head attention layer and a position-wise feed forward layer.\n",
        "        Note: We took care of layer normalization and residual connections in the previous MultiHeadAttention and PositionWiseFeedForward classes\n",
        "        '''\n",
        "\n",
        "        # TODO: initialization\n",
        "        super().__init__()\n",
        "        self.attn = MultiHeadAttention(emb_size, n_heads, dropout = dropout, layer_norm_eps = layer_norm_eps)\n",
        "        self.ff = PositionWiseFeedForward(emb_size, intermediate_size, dropout = dropout, layer_norm_eps = layer_norm_eps)\n",
        "\n",
        "    def forward(self, emb, att_mask):\n",
        "        '''\n",
        "        Args:\n",
        "            emb (torch.Tensor): The input embeddings with shape (B, T, C)\n",
        "            att_mask (torch.Tensor): The attention mask with shape (B, T)\n",
        "\n",
        "        Returns:\n",
        "            torch.Tensor: The output embeddings with shape (B, T, C)\n",
        "\n",
        "        Take emb and att_mask and pass them through the multi-head attention layer and position-wise feed forward layer\n",
        "        '''\n",
        "        x = self.attn.forward(emb, att_mask)\n",
        "        out = self.ff.forward(x)\n",
        "\n",
        "        return out"
      ]
    },
    {
      "cell_type": "markdown",
      "metadata": {
        "id": "dyG1LsujSRnq"
      },
      "source": [
        "## Your Own BERT\n",
        "\n",
        "Now, you have everything you need to create your own (simplified) BERT* model. This model will consist of the following components:\n",
        "\n",
        "1. Embedding Layer\n",
        "2. Encoder Block (multiple transformer blocks stacked together)\n",
        "3. Pooler (to aggregate information from the encoder)\n",
        "4. Classifier (to predict the sentiment of the input text)\n",
        "\n",
        "***Note**: we are not exactly replicating BERT, but rather creating a simplified version of it for educational purposes."
      ]
    },
    {
      "cell_type": "markdown",
      "metadata": {
        "id": "YRKZOqlTSRnq"
      },
      "source": [
        "## Encoder Block\n",
        "\n",
        "The power of BERT's encoder block comes from stacking multiple encoder layers together. Each layer outputs a higher-level representation of the input tokens. With each successive layer, the model can capture more complex dependencies and refine its understanding of the input context.\n",
        "\n",
        "The **output** of the **last encoder** layer serves as a **comprehensive representation of the input sequence**, embedding both the immediate meaning and broader context of each token."
      ]
    },
    {
      "cell_type": "code",
      "execution_count": null,
      "metadata": {
        "id": "HZ8dvnc2SRnq"
      },
      "outputs": [],
      "source": [
        "class EncoderBlock(nn.Module):\n",
        "\n",
        "    def __init__(self, emb_size, n_layers, n_heads, intermediate_size, dropout=0.1, layer_norm_eps=1e-12):\n",
        "        '''\n",
        "        Args:\n",
        "            emb_size (int): The size of the input embeddings\n",
        "            n_layers (int): The number of transformer blocks\n",
        "            n_heads (int): The number of attention heads\n",
        "            intermediate_size (int): The size of the intermediate layer\n",
        "            dropout (float): The dropout probability\n",
        "            layer_norm_eps (float): The epsilon value for layer normalization\n",
        "\n",
        "        We want to create n_layers of transformer blocks\n",
        "        '''\n",
        "        super().__init__()\n",
        "\n",
        "        # TODO: initialize transformer layers, (hint: checkout nn.ModuleList)\n",
        "        self.transformer_layers = nn.ModuleList([TransformerBlock(emb_size, n_heads, intermediate_size, dropout = dropout, layer_norm_eps = layer_norm_eps) for i in range(n_layers)])\n",
        "\n",
        "    def forward(self, emb, att_mask):\n",
        "        '''\n",
        "        Args:\n",
        "            emb (torch.Tensor): The input embeddings with shape (B, T, C)\n",
        "            att_mask (torch.Tensor): The attention mask with shape (B, T)\n",
        "\n",
        "        Returns:\n",
        "            torch.Tensor: The output embeddings with shape (B, T, C)\n",
        "\n",
        "        Pass the input embeddings through each transformer block\n",
        "        '''\n",
        "        # TODO:\n",
        "        for i in range(len(self.transformer_layers)):\n",
        "          emb = self.transformer_layers[i].forward(emb, att_mask)\n",
        "\n",
        "        return emb"
      ]
    },
    {
      "cell_type": "markdown",
      "metadata": {
        "id": "t1LvUWZrSRnq"
      },
      "source": [
        "Hang on tight, we're almost there! We have successfully implemented the BERT Encoder architecture, but now we have to tailor the model to a clasification task like sentiment analysis.\n",
        "\n",
        "The output from the encoder is a matrix where each row represents an enriched vector representation for the corresponding input token, capturing contextual and positional information through the self-attention and feed-forward layers. However, for sequence classification tasks, a single vector representation summarizing the meaning of the entire input sequence is required, rather than individual token representations. To achieve this, we will only process the representation of the `[CLS]` token (always inserted at the start of our input sequence), as it is expected to contain a contextualized, high-level representation of the entire sequence and therefore is a good candidate to be pooled for sequence classification."
      ]
    },
    {
      "cell_type": "markdown",
      "metadata": {
        "id": "NwEDRVT-SRnq"
      },
      "source": [
        "## Pooler\n",
        "\n",
        "The pooler component in BERT takes the output of the final encoder layer and transforms it to create a fixed-size output vector. Typically, it processes the output corresponding to the [CLS] token, which is the first token in the sequence. This token is specially designed to hold the aggregate representation of the input sequence after passing through the transformer blocks.\n",
        "\n",
        "### Why Pooler\n",
        "\n",
        "The main purpose of the pooler is to condense the complex and variable-length output of the encoder into a fixed-size embedding that can be used efficiently by downstream tasks, such as classification layers. For tasks like sentence classification, the model needs a singular representation of the entire input, which the pooler provides by transforming the [CLS] token's final hidden state.\n"
      ]
    },
    {
      "cell_type": "markdown",
      "metadata": {
        "id": "j0DjTzN2SRnr"
      },
      "source": [
        "### Your Turn\n",
        "\n",
        "Pooler involves 3 steps:\n",
        "1. Extract the hidden state corresponding to the [CLS] token.\n",
        "2. Apply a linear transformation to this hidden state: embedding_size -> embedding_size.\n",
        "3. Apply a non-linear activation function (like Tanh)"
      ]
    },
    {
      "cell_type": "code",
      "execution_count": null,
      "metadata": {
        "id": "0Qbd6wCZSRnr"
      },
      "outputs": [],
      "source": [
        "class Pooler(nn.Module):\n",
        "    def __init__(self, emb_size):\n",
        "        '''\n",
        "        Args:\n",
        "            emb_size (int): The size of the input embeddings\n",
        "        '''\n",
        "        super().__init__()\n",
        "\n",
        "        # TODO: Define the linear layer and activation function\n",
        "        self.dense = nn.Linear(emb_size, emb_size)\n",
        "        self.activation = nn.Tanh()\n",
        "\n",
        "    def forward(self, encoder_out):\n",
        "        '''\n",
        "        Args:\n",
        "            encoder_out (torch.Tensor): The output embeddings from the encoder with shape (B, T, C)\n",
        "\n",
        "        Returns:\n",
        "            torch.Tensor: The pooled embeddings with shape (B, C)\n",
        "        '''\n",
        "\n",
        "        # TODO: 1. extract the first token's embeddings\n",
        "        firsttoken = encoder_out[:,0]\n",
        "        # TODO: 2. apply the linear layer and activation function\n",
        "        x = self.dense(firsttoken)\n",
        "        out = self.activation(x)\n",
        "\n",
        "        return out"
      ]
    },
    {
      "cell_type": "markdown",
      "metadata": {
        "id": "oSGTXotNSRnr"
      },
      "source": [
        "## Final Simplified BERT Classifier\n",
        "\n",
        "Now that we have the pooler component, we can add a classification layer on top of it to predict the sentiment of the input text. This classification layer will be a simple linear layer that takes the pooled output from the pooler and maps it to `n_classes` output units."
      ]
    },
    {
      "cell_type": "markdown",
      "metadata": {
        "id": "VyIvP0bYSRnr"
      },
      "source": [
        "### Your Turn"
      ]
    },
    {
      "cell_type": "code",
      "execution_count": null,
      "metadata": {
        "id": "2HJ_o8QTSRnr"
      },
      "outputs": [],
      "source": [
        "class SimplifiedBertClassifier(nn.Module):\n",
        "    def __init__(self, vocab_size, emb_size, max_seq_length, n_layers, n_heads, intermediate_size,layer_norm_eps, dropout=0.1, n_classes=2):\n",
        "        '''\n",
        "        Args:\n",
        "            vocab_size (int): The size of the vocabulary\n",
        "            emb_size (int): The size of the input embeddings\n",
        "            n_layers (int): The number of transformer blocks\n",
        "            n_heads (int): The number of attention heads\n",
        "            intermediate_size (int): The size of the intermediate layer\n",
        "            dropout (float): The dropout probability\n",
        "            n_classes (int): The number of classes\n",
        "        '''\n",
        "        super().__init__()\n",
        "\n",
        "        # TODO: Initialization\n",
        "        self.embedding = EmbeddingLayer(vocab_size, emb_size, max_seq_length, layer_norm_eps, dropout)\n",
        "        self.encoder = EncoderBlock(emb_size, n_layers, n_heads, intermediate_size, dropout = dropout, layer_norm_eps = layer_norm_eps)\n",
        "        self.pooler = Pooler(emb_size)\n",
        "        self.dropout = nn.Dropout(p = dropout)\n",
        "        self.classifier = nn.Linear(emb_size, n_classes)\n",
        "\n",
        "    def forward(self, input_ids, attention_mask=None):\n",
        "        '''\n",
        "        Args:\n",
        "            input_ids (torch.Tensor): The input token IDs with shape (B, T)\n",
        "            attention_mask (torch.Tensor): The attention mask with shape (B, T)\n",
        "\n",
        "        Returns:\n",
        "            torch.Tensor: The logits with shape (B, n_classes)\n",
        "\n",
        "        1. Pass the input token IDs through the embedding layer, encoder, pooler\n",
        "        2. Apply dropout\n",
        "        3. Pass the output through the classifier\n",
        "        '''\n",
        "\n",
        "        # TODO:\n",
        "        x = self.embedding.forward(input_ids)\n",
        "        x = self.encoder.forward(x, attention_mask)\n",
        "        x = self.pooler.forward(x)\n",
        "        x = self.dropout(x)\n",
        "        logits = self.classifier(x)\n",
        "\n",
        "        return logits"
      ]
    },
    {
      "cell_type": "code",
      "source": [
        "pip install quanto"
      ],
      "metadata": {
        "id": "z3SByDKwMyb_"
      },
      "execution_count": null,
      "outputs": []
    },
    {
      "cell_type": "markdown",
      "metadata": {
        "id": "pmI4UyZ7SRns"
      },
      "source": [
        "We have successfully implemented our own transformer-based classifier for sentiment analysis! Let's train it and see how it compares to the pre-trained one."
      ]
    },
    {
      "cell_type": "code",
      "execution_count": null,
      "metadata": {
        "id": "AJnXyrZSSRnt",
        "colab": {
          "base_uri": "https://localhost:8080/"
        },
        "outputId": "e56429c9-3207-4e3e-8895-6254f970b7d0"
      },
      "outputs": [
        {
          "metadata": {
            "tags": null
          },
          "name": "stderr",
          "output_type": "stream",
          "text": [
            "Epoch 1/3: 100%|██████████| 400/400 [05:27<00:00,  1.22it/s, loss=0.693]\n"
          ]
        },
        {
          "metadata": {
            "tags": null
          },
          "name": "stdout",
          "output_type": "stream",
          "text": [
            "Test set: Average loss = 0.6931, Accuracy = 0.5050\n"
          ]
        },
        {
          "output_type": "stream",
          "name": "stderr",
          "text": [
            "Epoch 2/3:  60%|██████    | 241/400 [02:21<01:32,  1.72it/s, loss=0.693]"
          ]
        }
      ],
      "source": [
        "from quanto import quantize\n",
        "our_model = SimplifiedBertClassifier(vocab_size=VOCAB_SIZE, emb_size=EMB_SIZE, n_layers=N_LAYERS,\n",
        "                                     n_heads=N_HEADS, intermediate_size=INTERMEDIATE_SIZE, dropout=DROPOUT, n_classes=N_CLASSES, max_seq_length = MAX_SEQ_LEN, layer_norm_eps = LAYER_NORM_EPS)\n",
        "quantize(our_model, weights=quanto.qint8, activations=quanto.qint8)\n",
        "optimizer = torch.optim.AdamW(our_model.parameters(), lr=2e-5)\n",
        "criterion = nn.CrossEntropyLoss()\n",
        "\n",
        "loss_history, acc_history = train(our_model, train_loader, test_loader, optimizer, criterion, device, num_epochs=3, finetuning=False)\n",
        "torch.save(our_model.state_dict(), 'bert_from_scratch.pt')\n"
      ]
    },
    {
      "cell_type": "code",
      "source": [],
      "metadata": {
        "id": "3RxxvH1BMxjc"
      },
      "execution_count": null,
      "outputs": []
    },
    {
      "cell_type": "code",
      "execution_count": null,
      "metadata": {
        "id": "90zX_aJUSRnt"
      },
      "outputs": [],
      "source": [
        "plt.plot(loss_history)\n",
        "plt.xlabel('Iterations')\n",
        "plt.ylabel('Cross-entropy Loss')\n",
        "plt.title('BERT From Scratch, Loss history')\n",
        "plt.show()"
      ]
    },
    {
      "cell_type": "code",
      "execution_count": null,
      "metadata": {
        "id": "s_VyF-4ySRnt"
      },
      "outputs": [],
      "source": [
        "plt.plot(acc_history)\n",
        "plt.xlabel('Epochs')\n",
        "plt.ylabel('Test accuracy')\n",
        "plt.title('BERT From Scratch, Accuracy history')\n",
        "plt.show()\n",
        "print(acc_history)"
      ]
    },
    {
      "cell_type": "code",
      "source": [
        "pip install quanto"
      ],
      "metadata": {
        "id": "_HjiMESr1xh0",
        "colab": {
          "base_uri": "https://localhost:8080/"
        },
        "outputId": "d6c218fc-9754-48c6-b958-01ed3b7b71c8"
      },
      "execution_count": null,
      "outputs": [
        {
          "output_type": "stream",
          "name": "stdout",
          "text": [
            "Collecting quanto\n",
            "  Downloading quanto-0.1.0-py3-none-any.whl (41 kB)\n",
            "\u001b[2K     \u001b[90m━━━━━━━━━━━━━━━━━━━━━━━━━━━━━━━━━━━━━━━━\u001b[0m \u001b[32m41.8/41.8 kB\u001b[0m \u001b[31m1.8 MB/s\u001b[0m eta \u001b[36m0:00:00\u001b[0m\n",
            "\u001b[?25hRequirement already satisfied: torch>=2.2.0 in /usr/local/lib/python3.10/dist-packages (from quanto) (2.2.1+cu121)\n",
            "Collecting ninja (from quanto)\n",
            "  Downloading ninja-1.11.1.1-py2.py3-none-manylinux1_x86_64.manylinux_2_5_x86_64.whl (307 kB)\n",
            "\u001b[2K     \u001b[90m━━━━━━━━━━━━━━━━━━━━━━━━━━━━━━━━━━━━━━━━\u001b[0m \u001b[32m307.2/307.2 kB\u001b[0m \u001b[31m4.7 MB/s\u001b[0m eta \u001b[36m0:00:00\u001b[0m\n",
            "\u001b[?25hRequirement already satisfied: numpy in /usr/local/lib/python3.10/dist-packages (from quanto) (1.25.2)\n",
            "Requirement already satisfied: safetensors in /usr/local/lib/python3.10/dist-packages (from quanto) (0.4.3)\n",
            "Requirement already satisfied: filelock in /usr/local/lib/python3.10/dist-packages (from torch>=2.2.0->quanto) (3.14.0)\n",
            "Requirement already satisfied: typing-extensions>=4.8.0 in /usr/local/lib/python3.10/dist-packages (from torch>=2.2.0->quanto) (4.11.0)\n",
            "Requirement already satisfied: sympy in /usr/local/lib/python3.10/dist-packages (from torch>=2.2.0->quanto) (1.12)\n",
            "Requirement already satisfied: networkx in /usr/local/lib/python3.10/dist-packages (from torch>=2.2.0->quanto) (3.3)\n",
            "Requirement already satisfied: jinja2 in /usr/local/lib/python3.10/dist-packages (from torch>=2.2.0->quanto) (3.1.4)\n",
            "Requirement already satisfied: fsspec in /usr/local/lib/python3.10/dist-packages (from torch>=2.2.0->quanto) (2023.6.0)\n",
            "Collecting nvidia-cuda-nvrtc-cu12==12.1.105 (from torch>=2.2.0->quanto)\n",
            "  Using cached nvidia_cuda_nvrtc_cu12-12.1.105-py3-none-manylinux1_x86_64.whl (23.7 MB)\n",
            "Collecting nvidia-cuda-runtime-cu12==12.1.105 (from torch>=2.2.0->quanto)\n",
            "  Using cached nvidia_cuda_runtime_cu12-12.1.105-py3-none-manylinux1_x86_64.whl (823 kB)\n",
            "Collecting nvidia-cuda-cupti-cu12==12.1.105 (from torch>=2.2.0->quanto)\n",
            "  Using cached nvidia_cuda_cupti_cu12-12.1.105-py3-none-manylinux1_x86_64.whl (14.1 MB)\n",
            "Collecting nvidia-cudnn-cu12==8.9.2.26 (from torch>=2.2.0->quanto)\n",
            "  Using cached nvidia_cudnn_cu12-8.9.2.26-py3-none-manylinux1_x86_64.whl (731.7 MB)\n",
            "Collecting nvidia-cublas-cu12==12.1.3.1 (from torch>=2.2.0->quanto)\n",
            "  Using cached nvidia_cublas_cu12-12.1.3.1-py3-none-manylinux1_x86_64.whl (410.6 MB)\n",
            "Collecting nvidia-cufft-cu12==11.0.2.54 (from torch>=2.2.0->quanto)\n",
            "  Using cached nvidia_cufft_cu12-11.0.2.54-py3-none-manylinux1_x86_64.whl (121.6 MB)\n",
            "Collecting nvidia-curand-cu12==10.3.2.106 (from torch>=2.2.0->quanto)\n",
            "  Using cached nvidia_curand_cu12-10.3.2.106-py3-none-manylinux1_x86_64.whl (56.5 MB)\n",
            "Collecting nvidia-cusolver-cu12==11.4.5.107 (from torch>=2.2.0->quanto)\n",
            "  Using cached nvidia_cusolver_cu12-11.4.5.107-py3-none-manylinux1_x86_64.whl (124.2 MB)\n",
            "Collecting nvidia-cusparse-cu12==12.1.0.106 (from torch>=2.2.0->quanto)\n",
            "  Using cached nvidia_cusparse_cu12-12.1.0.106-py3-none-manylinux1_x86_64.whl (196.0 MB)\n",
            "Collecting nvidia-nccl-cu12==2.19.3 (from torch>=2.2.0->quanto)\n",
            "  Using cached nvidia_nccl_cu12-2.19.3-py3-none-manylinux1_x86_64.whl (166.0 MB)\n",
            "Collecting nvidia-nvtx-cu12==12.1.105 (from torch>=2.2.0->quanto)\n",
            "  Using cached nvidia_nvtx_cu12-12.1.105-py3-none-manylinux1_x86_64.whl (99 kB)\n",
            "Requirement already satisfied: triton==2.2.0 in /usr/local/lib/python3.10/dist-packages (from torch>=2.2.0->quanto) (2.2.0)\n",
            "Collecting nvidia-nvjitlink-cu12 (from nvidia-cusolver-cu12==11.4.5.107->torch>=2.2.0->quanto)\n",
            "  Using cached nvidia_nvjitlink_cu12-12.4.127-py3-none-manylinux2014_x86_64.whl (21.1 MB)\n",
            "Requirement already satisfied: MarkupSafe>=2.0 in /usr/local/lib/python3.10/dist-packages (from jinja2->torch>=2.2.0->quanto) (2.1.5)\n",
            "Requirement already satisfied: mpmath>=0.19 in /usr/local/lib/python3.10/dist-packages (from sympy->torch>=2.2.0->quanto) (1.3.0)\n",
            "Installing collected packages: ninja, nvidia-nvtx-cu12, nvidia-nvjitlink-cu12, nvidia-nccl-cu12, nvidia-curand-cu12, nvidia-cufft-cu12, nvidia-cuda-runtime-cu12, nvidia-cuda-nvrtc-cu12, nvidia-cuda-cupti-cu12, nvidia-cublas-cu12, nvidia-cusparse-cu12, nvidia-cudnn-cu12, nvidia-cusolver-cu12, quanto\n",
            "Successfully installed ninja-1.11.1.1 nvidia-cublas-cu12-12.1.3.1 nvidia-cuda-cupti-cu12-12.1.105 nvidia-cuda-nvrtc-cu12-12.1.105 nvidia-cuda-runtime-cu12-12.1.105 nvidia-cudnn-cu12-8.9.2.26 nvidia-cufft-cu12-11.0.2.54 nvidia-curand-cu12-10.3.2.106 nvidia-cusolver-cu12-11.4.5.107 nvidia-cusparse-cu12-12.1.0.106 nvidia-nccl-cu12-2.19.3 nvidia-nvjitlink-cu12-12.4.127 nvidia-nvtx-cu12-12.1.105 quanto-0.1.0\n"
          ]
        }
      ]
    },
    {
      "cell_type": "code",
      "source": [
        "\n"
      ],
      "metadata": {
        "id": "n9x1uyObJjik"
      },
      "execution_count": null,
      "outputs": []
    }
  ],
  "metadata": {
    "kernelspec": {
      "display_name": "Python (ml)",
      "language": "python",
      "name": "ml"
    },
    "language_info": {
      "codemirror_mode": {
        "name": "ipython",
        "version": 3
      },
      "file_extension": ".py",
      "mimetype": "text/x-python",
      "name": "python",
      "nbconvert_exporter": "python",
      "pygments_lexer": "ipython3",
      "version": "3.12.2"
    },
    "colab": {
      "provenance": [],
      "gpuType": "T4",
      "toc_visible": true,
      "include_colab_link": true
    },
    "widgets": {
      "application/vnd.jupyter.widget-state+json": {
        "2d4909a8c74c4593ab71e0f2aec380cf": {
          "model_module": "@jupyter-widgets/controls",
          "model_name": "HBoxModel",
          "model_module_version": "1.5.0",
          "state": {
            "_dom_classes": [],
            "_model_module": "@jupyter-widgets/controls",
            "_model_module_version": "1.5.0",
            "_model_name": "HBoxModel",
            "_view_count": null,
            "_view_module": "@jupyter-widgets/controls",
            "_view_module_version": "1.5.0",
            "_view_name": "HBoxView",
            "box_style": "",
            "children": [
              "IPY_MODEL_4188f094d59545e69253d1914539f61b",
              "IPY_MODEL_d9c58c0744034b3c9813fa22b5363a5d",
              "IPY_MODEL_559f92bcd6f94f4cbd5f347675e018bc"
            ],
            "layout": "IPY_MODEL_05683946c25749ec8c9f584970a26fe1"
          }
        },
        "4188f094d59545e69253d1914539f61b": {
          "model_module": "@jupyter-widgets/controls",
          "model_name": "HTMLModel",
          "model_module_version": "1.5.0",
          "state": {
            "_dom_classes": [],
            "_model_module": "@jupyter-widgets/controls",
            "_model_module_version": "1.5.0",
            "_model_name": "HTMLModel",
            "_view_count": null,
            "_view_module": "@jupyter-widgets/controls",
            "_view_module_version": "1.5.0",
            "_view_name": "HTMLView",
            "description": "",
            "description_tooltip": null,
            "layout": "IPY_MODEL_bf694fe47b9f44da915476aeb4986e16",
            "placeholder": "​",
            "style": "IPY_MODEL_f9f997e275aa456bbc7ab8a00020a260",
            "value": "tokenizer_config.json: 100%"
          }
        },
        "d9c58c0744034b3c9813fa22b5363a5d": {
          "model_module": "@jupyter-widgets/controls",
          "model_name": "FloatProgressModel",
          "model_module_version": "1.5.0",
          "state": {
            "_dom_classes": [],
            "_model_module": "@jupyter-widgets/controls",
            "_model_module_version": "1.5.0",
            "_model_name": "FloatProgressModel",
            "_view_count": null,
            "_view_module": "@jupyter-widgets/controls",
            "_view_module_version": "1.5.0",
            "_view_name": "ProgressView",
            "bar_style": "success",
            "description": "",
            "description_tooltip": null,
            "layout": "IPY_MODEL_0d448100982842e99aa0ad581b83ff28",
            "max": 48,
            "min": 0,
            "orientation": "horizontal",
            "style": "IPY_MODEL_4d5102e305d747d49e404f98dbb988f5",
            "value": 48
          }
        },
        "559f92bcd6f94f4cbd5f347675e018bc": {
          "model_module": "@jupyter-widgets/controls",
          "model_name": "HTMLModel",
          "model_module_version": "1.5.0",
          "state": {
            "_dom_classes": [],
            "_model_module": "@jupyter-widgets/controls",
            "_model_module_version": "1.5.0",
            "_model_name": "HTMLModel",
            "_view_count": null,
            "_view_module": "@jupyter-widgets/controls",
            "_view_module_version": "1.5.0",
            "_view_name": "HTMLView",
            "description": "",
            "description_tooltip": null,
            "layout": "IPY_MODEL_165f86e36c7b494ea51b92d58d652063",
            "placeholder": "​",
            "style": "IPY_MODEL_22fe82483edf4d4c8c4185f550d63e2c",
            "value": " 48.0/48.0 [00:00&lt;00:00, 1.06kB/s]"
          }
        },
        "05683946c25749ec8c9f584970a26fe1": {
          "model_module": "@jupyter-widgets/base",
          "model_name": "LayoutModel",
          "model_module_version": "1.2.0",
          "state": {
            "_model_module": "@jupyter-widgets/base",
            "_model_module_version": "1.2.0",
            "_model_name": "LayoutModel",
            "_view_count": null,
            "_view_module": "@jupyter-widgets/base",
            "_view_module_version": "1.2.0",
            "_view_name": "LayoutView",
            "align_content": null,
            "align_items": null,
            "align_self": null,
            "border": null,
            "bottom": null,
            "display": null,
            "flex": null,
            "flex_flow": null,
            "grid_area": null,
            "grid_auto_columns": null,
            "grid_auto_flow": null,
            "grid_auto_rows": null,
            "grid_column": null,
            "grid_gap": null,
            "grid_row": null,
            "grid_template_areas": null,
            "grid_template_columns": null,
            "grid_template_rows": null,
            "height": null,
            "justify_content": null,
            "justify_items": null,
            "left": null,
            "margin": null,
            "max_height": null,
            "max_width": null,
            "min_height": null,
            "min_width": null,
            "object_fit": null,
            "object_position": null,
            "order": null,
            "overflow": null,
            "overflow_x": null,
            "overflow_y": null,
            "padding": null,
            "right": null,
            "top": null,
            "visibility": null,
            "width": null
          }
        },
        "bf694fe47b9f44da915476aeb4986e16": {
          "model_module": "@jupyter-widgets/base",
          "model_name": "LayoutModel",
          "model_module_version": "1.2.0",
          "state": {
            "_model_module": "@jupyter-widgets/base",
            "_model_module_version": "1.2.0",
            "_model_name": "LayoutModel",
            "_view_count": null,
            "_view_module": "@jupyter-widgets/base",
            "_view_module_version": "1.2.0",
            "_view_name": "LayoutView",
            "align_content": null,
            "align_items": null,
            "align_self": null,
            "border": null,
            "bottom": null,
            "display": null,
            "flex": null,
            "flex_flow": null,
            "grid_area": null,
            "grid_auto_columns": null,
            "grid_auto_flow": null,
            "grid_auto_rows": null,
            "grid_column": null,
            "grid_gap": null,
            "grid_row": null,
            "grid_template_areas": null,
            "grid_template_columns": null,
            "grid_template_rows": null,
            "height": null,
            "justify_content": null,
            "justify_items": null,
            "left": null,
            "margin": null,
            "max_height": null,
            "max_width": null,
            "min_height": null,
            "min_width": null,
            "object_fit": null,
            "object_position": null,
            "order": null,
            "overflow": null,
            "overflow_x": null,
            "overflow_y": null,
            "padding": null,
            "right": null,
            "top": null,
            "visibility": null,
            "width": null
          }
        },
        "f9f997e275aa456bbc7ab8a00020a260": {
          "model_module": "@jupyter-widgets/controls",
          "model_name": "DescriptionStyleModel",
          "model_module_version": "1.5.0",
          "state": {
            "_model_module": "@jupyter-widgets/controls",
            "_model_module_version": "1.5.0",
            "_model_name": "DescriptionStyleModel",
            "_view_count": null,
            "_view_module": "@jupyter-widgets/base",
            "_view_module_version": "1.2.0",
            "_view_name": "StyleView",
            "description_width": ""
          }
        },
        "0d448100982842e99aa0ad581b83ff28": {
          "model_module": "@jupyter-widgets/base",
          "model_name": "LayoutModel",
          "model_module_version": "1.2.0",
          "state": {
            "_model_module": "@jupyter-widgets/base",
            "_model_module_version": "1.2.0",
            "_model_name": "LayoutModel",
            "_view_count": null,
            "_view_module": "@jupyter-widgets/base",
            "_view_module_version": "1.2.0",
            "_view_name": "LayoutView",
            "align_content": null,
            "align_items": null,
            "align_self": null,
            "border": null,
            "bottom": null,
            "display": null,
            "flex": null,
            "flex_flow": null,
            "grid_area": null,
            "grid_auto_columns": null,
            "grid_auto_flow": null,
            "grid_auto_rows": null,
            "grid_column": null,
            "grid_gap": null,
            "grid_row": null,
            "grid_template_areas": null,
            "grid_template_columns": null,
            "grid_template_rows": null,
            "height": null,
            "justify_content": null,
            "justify_items": null,
            "left": null,
            "margin": null,
            "max_height": null,
            "max_width": null,
            "min_height": null,
            "min_width": null,
            "object_fit": null,
            "object_position": null,
            "order": null,
            "overflow": null,
            "overflow_x": null,
            "overflow_y": null,
            "padding": null,
            "right": null,
            "top": null,
            "visibility": null,
            "width": null
          }
        },
        "4d5102e305d747d49e404f98dbb988f5": {
          "model_module": "@jupyter-widgets/controls",
          "model_name": "ProgressStyleModel",
          "model_module_version": "1.5.0",
          "state": {
            "_model_module": "@jupyter-widgets/controls",
            "_model_module_version": "1.5.0",
            "_model_name": "ProgressStyleModel",
            "_view_count": null,
            "_view_module": "@jupyter-widgets/base",
            "_view_module_version": "1.2.0",
            "_view_name": "StyleView",
            "bar_color": null,
            "description_width": ""
          }
        },
        "165f86e36c7b494ea51b92d58d652063": {
          "model_module": "@jupyter-widgets/base",
          "model_name": "LayoutModel",
          "model_module_version": "1.2.0",
          "state": {
            "_model_module": "@jupyter-widgets/base",
            "_model_module_version": "1.2.0",
            "_model_name": "LayoutModel",
            "_view_count": null,
            "_view_module": "@jupyter-widgets/base",
            "_view_module_version": "1.2.0",
            "_view_name": "LayoutView",
            "align_content": null,
            "align_items": null,
            "align_self": null,
            "border": null,
            "bottom": null,
            "display": null,
            "flex": null,
            "flex_flow": null,
            "grid_area": null,
            "grid_auto_columns": null,
            "grid_auto_flow": null,
            "grid_auto_rows": null,
            "grid_column": null,
            "grid_gap": null,
            "grid_row": null,
            "grid_template_areas": null,
            "grid_template_columns": null,
            "grid_template_rows": null,
            "height": null,
            "justify_content": null,
            "justify_items": null,
            "left": null,
            "margin": null,
            "max_height": null,
            "max_width": null,
            "min_height": null,
            "min_width": null,
            "object_fit": null,
            "object_position": null,
            "order": null,
            "overflow": null,
            "overflow_x": null,
            "overflow_y": null,
            "padding": null,
            "right": null,
            "top": null,
            "visibility": null,
            "width": null
          }
        },
        "22fe82483edf4d4c8c4185f550d63e2c": {
          "model_module": "@jupyter-widgets/controls",
          "model_name": "DescriptionStyleModel",
          "model_module_version": "1.5.0",
          "state": {
            "_model_module": "@jupyter-widgets/controls",
            "_model_module_version": "1.5.0",
            "_model_name": "DescriptionStyleModel",
            "_view_count": null,
            "_view_module": "@jupyter-widgets/base",
            "_view_module_version": "1.2.0",
            "_view_name": "StyleView",
            "description_width": ""
          }
        },
        "37e16bc02e014c73995425e3cc4251c7": {
          "model_module": "@jupyter-widgets/controls",
          "model_name": "HBoxModel",
          "model_module_version": "1.5.0",
          "state": {
            "_dom_classes": [],
            "_model_module": "@jupyter-widgets/controls",
            "_model_module_version": "1.5.0",
            "_model_name": "HBoxModel",
            "_view_count": null,
            "_view_module": "@jupyter-widgets/controls",
            "_view_module_version": "1.5.0",
            "_view_name": "HBoxView",
            "box_style": "",
            "children": [
              "IPY_MODEL_d6526e54d81647baa3333c97ba44ccf8",
              "IPY_MODEL_54e372c773904c19bb95a2525e0e0dcd",
              "IPY_MODEL_657b5a259eb8443faf95461d6c3b68f7"
            ],
            "layout": "IPY_MODEL_5f45f9c8166746da99ef49a22a1b935a"
          }
        },
        "d6526e54d81647baa3333c97ba44ccf8": {
          "model_module": "@jupyter-widgets/controls",
          "model_name": "HTMLModel",
          "model_module_version": "1.5.0",
          "state": {
            "_dom_classes": [],
            "_model_module": "@jupyter-widgets/controls",
            "_model_module_version": "1.5.0",
            "_model_name": "HTMLModel",
            "_view_count": null,
            "_view_module": "@jupyter-widgets/controls",
            "_view_module_version": "1.5.0",
            "_view_name": "HTMLView",
            "description": "",
            "description_tooltip": null,
            "layout": "IPY_MODEL_43fb983d4a4442aea9a13c53859944be",
            "placeholder": "​",
            "style": "IPY_MODEL_9a893a9f8ad4436ea700962e482b16dc",
            "value": "vocab.txt: 100%"
          }
        },
        "54e372c773904c19bb95a2525e0e0dcd": {
          "model_module": "@jupyter-widgets/controls",
          "model_name": "FloatProgressModel",
          "model_module_version": "1.5.0",
          "state": {
            "_dom_classes": [],
            "_model_module": "@jupyter-widgets/controls",
            "_model_module_version": "1.5.0",
            "_model_name": "FloatProgressModel",
            "_view_count": null,
            "_view_module": "@jupyter-widgets/controls",
            "_view_module_version": "1.5.0",
            "_view_name": "ProgressView",
            "bar_style": "success",
            "description": "",
            "description_tooltip": null,
            "layout": "IPY_MODEL_5465e2eda0844af29d4968edcd195a11",
            "max": 231508,
            "min": 0,
            "orientation": "horizontal",
            "style": "IPY_MODEL_8b6af9fb376346ab9ec4522228d04cc8",
            "value": 231508
          }
        },
        "657b5a259eb8443faf95461d6c3b68f7": {
          "model_module": "@jupyter-widgets/controls",
          "model_name": "HTMLModel",
          "model_module_version": "1.5.0",
          "state": {
            "_dom_classes": [],
            "_model_module": "@jupyter-widgets/controls",
            "_model_module_version": "1.5.0",
            "_model_name": "HTMLModel",
            "_view_count": null,
            "_view_module": "@jupyter-widgets/controls",
            "_view_module_version": "1.5.0",
            "_view_name": "HTMLView",
            "description": "",
            "description_tooltip": null,
            "layout": "IPY_MODEL_dc8f77026e914b51b26aef203c0b7dc7",
            "placeholder": "​",
            "style": "IPY_MODEL_9729743c10ce45f88b20c37e05b3d730",
            "value": " 232k/232k [00:00&lt;00:00, 2.60MB/s]"
          }
        },
        "5f45f9c8166746da99ef49a22a1b935a": {
          "model_module": "@jupyter-widgets/base",
          "model_name": "LayoutModel",
          "model_module_version": "1.2.0",
          "state": {
            "_model_module": "@jupyter-widgets/base",
            "_model_module_version": "1.2.0",
            "_model_name": "LayoutModel",
            "_view_count": null,
            "_view_module": "@jupyter-widgets/base",
            "_view_module_version": "1.2.0",
            "_view_name": "LayoutView",
            "align_content": null,
            "align_items": null,
            "align_self": null,
            "border": null,
            "bottom": null,
            "display": null,
            "flex": null,
            "flex_flow": null,
            "grid_area": null,
            "grid_auto_columns": null,
            "grid_auto_flow": null,
            "grid_auto_rows": null,
            "grid_column": null,
            "grid_gap": null,
            "grid_row": null,
            "grid_template_areas": null,
            "grid_template_columns": null,
            "grid_template_rows": null,
            "height": null,
            "justify_content": null,
            "justify_items": null,
            "left": null,
            "margin": null,
            "max_height": null,
            "max_width": null,
            "min_height": null,
            "min_width": null,
            "object_fit": null,
            "object_position": null,
            "order": null,
            "overflow": null,
            "overflow_x": null,
            "overflow_y": null,
            "padding": null,
            "right": null,
            "top": null,
            "visibility": null,
            "width": null
          }
        },
        "43fb983d4a4442aea9a13c53859944be": {
          "model_module": "@jupyter-widgets/base",
          "model_name": "LayoutModel",
          "model_module_version": "1.2.0",
          "state": {
            "_model_module": "@jupyter-widgets/base",
            "_model_module_version": "1.2.0",
            "_model_name": "LayoutModel",
            "_view_count": null,
            "_view_module": "@jupyter-widgets/base",
            "_view_module_version": "1.2.0",
            "_view_name": "LayoutView",
            "align_content": null,
            "align_items": null,
            "align_self": null,
            "border": null,
            "bottom": null,
            "display": null,
            "flex": null,
            "flex_flow": null,
            "grid_area": null,
            "grid_auto_columns": null,
            "grid_auto_flow": null,
            "grid_auto_rows": null,
            "grid_column": null,
            "grid_gap": null,
            "grid_row": null,
            "grid_template_areas": null,
            "grid_template_columns": null,
            "grid_template_rows": null,
            "height": null,
            "justify_content": null,
            "justify_items": null,
            "left": null,
            "margin": null,
            "max_height": null,
            "max_width": null,
            "min_height": null,
            "min_width": null,
            "object_fit": null,
            "object_position": null,
            "order": null,
            "overflow": null,
            "overflow_x": null,
            "overflow_y": null,
            "padding": null,
            "right": null,
            "top": null,
            "visibility": null,
            "width": null
          }
        },
        "9a893a9f8ad4436ea700962e482b16dc": {
          "model_module": "@jupyter-widgets/controls",
          "model_name": "DescriptionStyleModel",
          "model_module_version": "1.5.0",
          "state": {
            "_model_module": "@jupyter-widgets/controls",
            "_model_module_version": "1.5.0",
            "_model_name": "DescriptionStyleModel",
            "_view_count": null,
            "_view_module": "@jupyter-widgets/base",
            "_view_module_version": "1.2.0",
            "_view_name": "StyleView",
            "description_width": ""
          }
        },
        "5465e2eda0844af29d4968edcd195a11": {
          "model_module": "@jupyter-widgets/base",
          "model_name": "LayoutModel",
          "model_module_version": "1.2.0",
          "state": {
            "_model_module": "@jupyter-widgets/base",
            "_model_module_version": "1.2.0",
            "_model_name": "LayoutModel",
            "_view_count": null,
            "_view_module": "@jupyter-widgets/base",
            "_view_module_version": "1.2.0",
            "_view_name": "LayoutView",
            "align_content": null,
            "align_items": null,
            "align_self": null,
            "border": null,
            "bottom": null,
            "display": null,
            "flex": null,
            "flex_flow": null,
            "grid_area": null,
            "grid_auto_columns": null,
            "grid_auto_flow": null,
            "grid_auto_rows": null,
            "grid_column": null,
            "grid_gap": null,
            "grid_row": null,
            "grid_template_areas": null,
            "grid_template_columns": null,
            "grid_template_rows": null,
            "height": null,
            "justify_content": null,
            "justify_items": null,
            "left": null,
            "margin": null,
            "max_height": null,
            "max_width": null,
            "min_height": null,
            "min_width": null,
            "object_fit": null,
            "object_position": null,
            "order": null,
            "overflow": null,
            "overflow_x": null,
            "overflow_y": null,
            "padding": null,
            "right": null,
            "top": null,
            "visibility": null,
            "width": null
          }
        },
        "8b6af9fb376346ab9ec4522228d04cc8": {
          "model_module": "@jupyter-widgets/controls",
          "model_name": "ProgressStyleModel",
          "model_module_version": "1.5.0",
          "state": {
            "_model_module": "@jupyter-widgets/controls",
            "_model_module_version": "1.5.0",
            "_model_name": "ProgressStyleModel",
            "_view_count": null,
            "_view_module": "@jupyter-widgets/base",
            "_view_module_version": "1.2.0",
            "_view_name": "StyleView",
            "bar_color": null,
            "description_width": ""
          }
        },
        "dc8f77026e914b51b26aef203c0b7dc7": {
          "model_module": "@jupyter-widgets/base",
          "model_name": "LayoutModel",
          "model_module_version": "1.2.0",
          "state": {
            "_model_module": "@jupyter-widgets/base",
            "_model_module_version": "1.2.0",
            "_model_name": "LayoutModel",
            "_view_count": null,
            "_view_module": "@jupyter-widgets/base",
            "_view_module_version": "1.2.0",
            "_view_name": "LayoutView",
            "align_content": null,
            "align_items": null,
            "align_self": null,
            "border": null,
            "bottom": null,
            "display": null,
            "flex": null,
            "flex_flow": null,
            "grid_area": null,
            "grid_auto_columns": null,
            "grid_auto_flow": null,
            "grid_auto_rows": null,
            "grid_column": null,
            "grid_gap": null,
            "grid_row": null,
            "grid_template_areas": null,
            "grid_template_columns": null,
            "grid_template_rows": null,
            "height": null,
            "justify_content": null,
            "justify_items": null,
            "left": null,
            "margin": null,
            "max_height": null,
            "max_width": null,
            "min_height": null,
            "min_width": null,
            "object_fit": null,
            "object_position": null,
            "order": null,
            "overflow": null,
            "overflow_x": null,
            "overflow_y": null,
            "padding": null,
            "right": null,
            "top": null,
            "visibility": null,
            "width": null
          }
        },
        "9729743c10ce45f88b20c37e05b3d730": {
          "model_module": "@jupyter-widgets/controls",
          "model_name": "DescriptionStyleModel",
          "model_module_version": "1.5.0",
          "state": {
            "_model_module": "@jupyter-widgets/controls",
            "_model_module_version": "1.5.0",
            "_model_name": "DescriptionStyleModel",
            "_view_count": null,
            "_view_module": "@jupyter-widgets/base",
            "_view_module_version": "1.2.0",
            "_view_name": "StyleView",
            "description_width": ""
          }
        },
        "667e21c3848b4067bed1a57053a2ccb1": {
          "model_module": "@jupyter-widgets/controls",
          "model_name": "HBoxModel",
          "model_module_version": "1.5.0",
          "state": {
            "_dom_classes": [],
            "_model_module": "@jupyter-widgets/controls",
            "_model_module_version": "1.5.0",
            "_model_name": "HBoxModel",
            "_view_count": null,
            "_view_module": "@jupyter-widgets/controls",
            "_view_module_version": "1.5.0",
            "_view_name": "HBoxView",
            "box_style": "",
            "children": [
              "IPY_MODEL_02faf5451e79456caeedda7cf01e6590",
              "IPY_MODEL_87d000feb93848149c4d7fd2e19c3962",
              "IPY_MODEL_0cd14b83b1f54aeeaa4087b33d015010"
            ],
            "layout": "IPY_MODEL_a8c7d291b5714962a508dd0fd4d16938"
          }
        },
        "02faf5451e79456caeedda7cf01e6590": {
          "model_module": "@jupyter-widgets/controls",
          "model_name": "HTMLModel",
          "model_module_version": "1.5.0",
          "state": {
            "_dom_classes": [],
            "_model_module": "@jupyter-widgets/controls",
            "_model_module_version": "1.5.0",
            "_model_name": "HTMLModel",
            "_view_count": null,
            "_view_module": "@jupyter-widgets/controls",
            "_view_module_version": "1.5.0",
            "_view_name": "HTMLView",
            "description": "",
            "description_tooltip": null,
            "layout": "IPY_MODEL_55c607dd32e044b689309e332a387a30",
            "placeholder": "​",
            "style": "IPY_MODEL_724daed6c4484c6b944d39248fc002a6",
            "value": "tokenizer.json: 100%"
          }
        },
        "87d000feb93848149c4d7fd2e19c3962": {
          "model_module": "@jupyter-widgets/controls",
          "model_name": "FloatProgressModel",
          "model_module_version": "1.5.0",
          "state": {
            "_dom_classes": [],
            "_model_module": "@jupyter-widgets/controls",
            "_model_module_version": "1.5.0",
            "_model_name": "FloatProgressModel",
            "_view_count": null,
            "_view_module": "@jupyter-widgets/controls",
            "_view_module_version": "1.5.0",
            "_view_name": "ProgressView",
            "bar_style": "success",
            "description": "",
            "description_tooltip": null,
            "layout": "IPY_MODEL_91a8e985d74042f586a8192e6f1e32c6",
            "max": 466062,
            "min": 0,
            "orientation": "horizontal",
            "style": "IPY_MODEL_0b72fa660d764fb7b9a7b2fb9fca8a51",
            "value": 466062
          }
        },
        "0cd14b83b1f54aeeaa4087b33d015010": {
          "model_module": "@jupyter-widgets/controls",
          "model_name": "HTMLModel",
          "model_module_version": "1.5.0",
          "state": {
            "_dom_classes": [],
            "_model_module": "@jupyter-widgets/controls",
            "_model_module_version": "1.5.0",
            "_model_name": "HTMLModel",
            "_view_count": null,
            "_view_module": "@jupyter-widgets/controls",
            "_view_module_version": "1.5.0",
            "_view_name": "HTMLView",
            "description": "",
            "description_tooltip": null,
            "layout": "IPY_MODEL_3c659a8baddd433391ea92cb08fd15f9",
            "placeholder": "​",
            "style": "IPY_MODEL_82f05d882d514db3b6aa87f0836eecc7",
            "value": " 466k/466k [00:00&lt;00:00, 2.65MB/s]"
          }
        },
        "a8c7d291b5714962a508dd0fd4d16938": {
          "model_module": "@jupyter-widgets/base",
          "model_name": "LayoutModel",
          "model_module_version": "1.2.0",
          "state": {
            "_model_module": "@jupyter-widgets/base",
            "_model_module_version": "1.2.0",
            "_model_name": "LayoutModel",
            "_view_count": null,
            "_view_module": "@jupyter-widgets/base",
            "_view_module_version": "1.2.0",
            "_view_name": "LayoutView",
            "align_content": null,
            "align_items": null,
            "align_self": null,
            "border": null,
            "bottom": null,
            "display": null,
            "flex": null,
            "flex_flow": null,
            "grid_area": null,
            "grid_auto_columns": null,
            "grid_auto_flow": null,
            "grid_auto_rows": null,
            "grid_column": null,
            "grid_gap": null,
            "grid_row": null,
            "grid_template_areas": null,
            "grid_template_columns": null,
            "grid_template_rows": null,
            "height": null,
            "justify_content": null,
            "justify_items": null,
            "left": null,
            "margin": null,
            "max_height": null,
            "max_width": null,
            "min_height": null,
            "min_width": null,
            "object_fit": null,
            "object_position": null,
            "order": null,
            "overflow": null,
            "overflow_x": null,
            "overflow_y": null,
            "padding": null,
            "right": null,
            "top": null,
            "visibility": null,
            "width": null
          }
        },
        "55c607dd32e044b689309e332a387a30": {
          "model_module": "@jupyter-widgets/base",
          "model_name": "LayoutModel",
          "model_module_version": "1.2.0",
          "state": {
            "_model_module": "@jupyter-widgets/base",
            "_model_module_version": "1.2.0",
            "_model_name": "LayoutModel",
            "_view_count": null,
            "_view_module": "@jupyter-widgets/base",
            "_view_module_version": "1.2.0",
            "_view_name": "LayoutView",
            "align_content": null,
            "align_items": null,
            "align_self": null,
            "border": null,
            "bottom": null,
            "display": null,
            "flex": null,
            "flex_flow": null,
            "grid_area": null,
            "grid_auto_columns": null,
            "grid_auto_flow": null,
            "grid_auto_rows": null,
            "grid_column": null,
            "grid_gap": null,
            "grid_row": null,
            "grid_template_areas": null,
            "grid_template_columns": null,
            "grid_template_rows": null,
            "height": null,
            "justify_content": null,
            "justify_items": null,
            "left": null,
            "margin": null,
            "max_height": null,
            "max_width": null,
            "min_height": null,
            "min_width": null,
            "object_fit": null,
            "object_position": null,
            "order": null,
            "overflow": null,
            "overflow_x": null,
            "overflow_y": null,
            "padding": null,
            "right": null,
            "top": null,
            "visibility": null,
            "width": null
          }
        },
        "724daed6c4484c6b944d39248fc002a6": {
          "model_module": "@jupyter-widgets/controls",
          "model_name": "DescriptionStyleModel",
          "model_module_version": "1.5.0",
          "state": {
            "_model_module": "@jupyter-widgets/controls",
            "_model_module_version": "1.5.0",
            "_model_name": "DescriptionStyleModel",
            "_view_count": null,
            "_view_module": "@jupyter-widgets/base",
            "_view_module_version": "1.2.0",
            "_view_name": "StyleView",
            "description_width": ""
          }
        },
        "91a8e985d74042f586a8192e6f1e32c6": {
          "model_module": "@jupyter-widgets/base",
          "model_name": "LayoutModel",
          "model_module_version": "1.2.0",
          "state": {
            "_model_module": "@jupyter-widgets/base",
            "_model_module_version": "1.2.0",
            "_model_name": "LayoutModel",
            "_view_count": null,
            "_view_module": "@jupyter-widgets/base",
            "_view_module_version": "1.2.0",
            "_view_name": "LayoutView",
            "align_content": null,
            "align_items": null,
            "align_self": null,
            "border": null,
            "bottom": null,
            "display": null,
            "flex": null,
            "flex_flow": null,
            "grid_area": null,
            "grid_auto_columns": null,
            "grid_auto_flow": null,
            "grid_auto_rows": null,
            "grid_column": null,
            "grid_gap": null,
            "grid_row": null,
            "grid_template_areas": null,
            "grid_template_columns": null,
            "grid_template_rows": null,
            "height": null,
            "justify_content": null,
            "justify_items": null,
            "left": null,
            "margin": null,
            "max_height": null,
            "max_width": null,
            "min_height": null,
            "min_width": null,
            "object_fit": null,
            "object_position": null,
            "order": null,
            "overflow": null,
            "overflow_x": null,
            "overflow_y": null,
            "padding": null,
            "right": null,
            "top": null,
            "visibility": null,
            "width": null
          }
        },
        "0b72fa660d764fb7b9a7b2fb9fca8a51": {
          "model_module": "@jupyter-widgets/controls",
          "model_name": "ProgressStyleModel",
          "model_module_version": "1.5.0",
          "state": {
            "_model_module": "@jupyter-widgets/controls",
            "_model_module_version": "1.5.0",
            "_model_name": "ProgressStyleModel",
            "_view_count": null,
            "_view_module": "@jupyter-widgets/base",
            "_view_module_version": "1.2.0",
            "_view_name": "StyleView",
            "bar_color": null,
            "description_width": ""
          }
        },
        "3c659a8baddd433391ea92cb08fd15f9": {
          "model_module": "@jupyter-widgets/base",
          "model_name": "LayoutModel",
          "model_module_version": "1.2.0",
          "state": {
            "_model_module": "@jupyter-widgets/base",
            "_model_module_version": "1.2.0",
            "_model_name": "LayoutModel",
            "_view_count": null,
            "_view_module": "@jupyter-widgets/base",
            "_view_module_version": "1.2.0",
            "_view_name": "LayoutView",
            "align_content": null,
            "align_items": null,
            "align_self": null,
            "border": null,
            "bottom": null,
            "display": null,
            "flex": null,
            "flex_flow": null,
            "grid_area": null,
            "grid_auto_columns": null,
            "grid_auto_flow": null,
            "grid_auto_rows": null,
            "grid_column": null,
            "grid_gap": null,
            "grid_row": null,
            "grid_template_areas": null,
            "grid_template_columns": null,
            "grid_template_rows": null,
            "height": null,
            "justify_content": null,
            "justify_items": null,
            "left": null,
            "margin": null,
            "max_height": null,
            "max_width": null,
            "min_height": null,
            "min_width": null,
            "object_fit": null,
            "object_position": null,
            "order": null,
            "overflow": null,
            "overflow_x": null,
            "overflow_y": null,
            "padding": null,
            "right": null,
            "top": null,
            "visibility": null,
            "width": null
          }
        },
        "82f05d882d514db3b6aa87f0836eecc7": {
          "model_module": "@jupyter-widgets/controls",
          "model_name": "DescriptionStyleModel",
          "model_module_version": "1.5.0",
          "state": {
            "_model_module": "@jupyter-widgets/controls",
            "_model_module_version": "1.5.0",
            "_model_name": "DescriptionStyleModel",
            "_view_count": null,
            "_view_module": "@jupyter-widgets/base",
            "_view_module_version": "1.2.0",
            "_view_name": "StyleView",
            "description_width": ""
          }
        },
        "7f7bfb2408644266825fee157c81104f": {
          "model_module": "@jupyter-widgets/controls",
          "model_name": "HBoxModel",
          "model_module_version": "1.5.0",
          "state": {
            "_dom_classes": [],
            "_model_module": "@jupyter-widgets/controls",
            "_model_module_version": "1.5.0",
            "_model_name": "HBoxModel",
            "_view_count": null,
            "_view_module": "@jupyter-widgets/controls",
            "_view_module_version": "1.5.0",
            "_view_name": "HBoxView",
            "box_style": "",
            "children": [
              "IPY_MODEL_30bc9b56888c4b67aa8824e8b09ee05f",
              "IPY_MODEL_dcaf007f045f4a5c8d7003f1b7a4e2de",
              "IPY_MODEL_1fcccc20d9754e2ab9bf8dba72d8e435"
            ],
            "layout": "IPY_MODEL_b93e12b2778743e5be3dd3ebe9c195ce"
          }
        },
        "30bc9b56888c4b67aa8824e8b09ee05f": {
          "model_module": "@jupyter-widgets/controls",
          "model_name": "HTMLModel",
          "model_module_version": "1.5.0",
          "state": {
            "_dom_classes": [],
            "_model_module": "@jupyter-widgets/controls",
            "_model_module_version": "1.5.0",
            "_model_name": "HTMLModel",
            "_view_count": null,
            "_view_module": "@jupyter-widgets/controls",
            "_view_module_version": "1.5.0",
            "_view_name": "HTMLView",
            "description": "",
            "description_tooltip": null,
            "layout": "IPY_MODEL_412b0f09a9f94d6fb550592af20f3303",
            "placeholder": "​",
            "style": "IPY_MODEL_b4597547eb864b61b6dd23c37f99dcb3",
            "value": "config.json: 100%"
          }
        },
        "dcaf007f045f4a5c8d7003f1b7a4e2de": {
          "model_module": "@jupyter-widgets/controls",
          "model_name": "FloatProgressModel",
          "model_module_version": "1.5.0",
          "state": {
            "_dom_classes": [],
            "_model_module": "@jupyter-widgets/controls",
            "_model_module_version": "1.5.0",
            "_model_name": "FloatProgressModel",
            "_view_count": null,
            "_view_module": "@jupyter-widgets/controls",
            "_view_module_version": "1.5.0",
            "_view_name": "ProgressView",
            "bar_style": "success",
            "description": "",
            "description_tooltip": null,
            "layout": "IPY_MODEL_d149b3f7c06c497e946c068732ce2381",
            "max": 570,
            "min": 0,
            "orientation": "horizontal",
            "style": "IPY_MODEL_f774637dda2b49c29f0dc0f3a133de07",
            "value": 570
          }
        },
        "1fcccc20d9754e2ab9bf8dba72d8e435": {
          "model_module": "@jupyter-widgets/controls",
          "model_name": "HTMLModel",
          "model_module_version": "1.5.0",
          "state": {
            "_dom_classes": [],
            "_model_module": "@jupyter-widgets/controls",
            "_model_module_version": "1.5.0",
            "_model_name": "HTMLModel",
            "_view_count": null,
            "_view_module": "@jupyter-widgets/controls",
            "_view_module_version": "1.5.0",
            "_view_name": "HTMLView",
            "description": "",
            "description_tooltip": null,
            "layout": "IPY_MODEL_26a6f2baa69f4c77880f5160d506c359",
            "placeholder": "​",
            "style": "IPY_MODEL_fdd75eabda9a4aef8c34ce4538b8cdd3",
            "value": " 570/570 [00:00&lt;00:00, 6.01kB/s]"
          }
        },
        "b93e12b2778743e5be3dd3ebe9c195ce": {
          "model_module": "@jupyter-widgets/base",
          "model_name": "LayoutModel",
          "model_module_version": "1.2.0",
          "state": {
            "_model_module": "@jupyter-widgets/base",
            "_model_module_version": "1.2.0",
            "_model_name": "LayoutModel",
            "_view_count": null,
            "_view_module": "@jupyter-widgets/base",
            "_view_module_version": "1.2.0",
            "_view_name": "LayoutView",
            "align_content": null,
            "align_items": null,
            "align_self": null,
            "border": null,
            "bottom": null,
            "display": null,
            "flex": null,
            "flex_flow": null,
            "grid_area": null,
            "grid_auto_columns": null,
            "grid_auto_flow": null,
            "grid_auto_rows": null,
            "grid_column": null,
            "grid_gap": null,
            "grid_row": null,
            "grid_template_areas": null,
            "grid_template_columns": null,
            "grid_template_rows": null,
            "height": null,
            "justify_content": null,
            "justify_items": null,
            "left": null,
            "margin": null,
            "max_height": null,
            "max_width": null,
            "min_height": null,
            "min_width": null,
            "object_fit": null,
            "object_position": null,
            "order": null,
            "overflow": null,
            "overflow_x": null,
            "overflow_y": null,
            "padding": null,
            "right": null,
            "top": null,
            "visibility": null,
            "width": null
          }
        },
        "412b0f09a9f94d6fb550592af20f3303": {
          "model_module": "@jupyter-widgets/base",
          "model_name": "LayoutModel",
          "model_module_version": "1.2.0",
          "state": {
            "_model_module": "@jupyter-widgets/base",
            "_model_module_version": "1.2.0",
            "_model_name": "LayoutModel",
            "_view_count": null,
            "_view_module": "@jupyter-widgets/base",
            "_view_module_version": "1.2.0",
            "_view_name": "LayoutView",
            "align_content": null,
            "align_items": null,
            "align_self": null,
            "border": null,
            "bottom": null,
            "display": null,
            "flex": null,
            "flex_flow": null,
            "grid_area": null,
            "grid_auto_columns": null,
            "grid_auto_flow": null,
            "grid_auto_rows": null,
            "grid_column": null,
            "grid_gap": null,
            "grid_row": null,
            "grid_template_areas": null,
            "grid_template_columns": null,
            "grid_template_rows": null,
            "height": null,
            "justify_content": null,
            "justify_items": null,
            "left": null,
            "margin": null,
            "max_height": null,
            "max_width": null,
            "min_height": null,
            "min_width": null,
            "object_fit": null,
            "object_position": null,
            "order": null,
            "overflow": null,
            "overflow_x": null,
            "overflow_y": null,
            "padding": null,
            "right": null,
            "top": null,
            "visibility": null,
            "width": null
          }
        },
        "b4597547eb864b61b6dd23c37f99dcb3": {
          "model_module": "@jupyter-widgets/controls",
          "model_name": "DescriptionStyleModel",
          "model_module_version": "1.5.0",
          "state": {
            "_model_module": "@jupyter-widgets/controls",
            "_model_module_version": "1.5.0",
            "_model_name": "DescriptionStyleModel",
            "_view_count": null,
            "_view_module": "@jupyter-widgets/base",
            "_view_module_version": "1.2.0",
            "_view_name": "StyleView",
            "description_width": ""
          }
        },
        "d149b3f7c06c497e946c068732ce2381": {
          "model_module": "@jupyter-widgets/base",
          "model_name": "LayoutModel",
          "model_module_version": "1.2.0",
          "state": {
            "_model_module": "@jupyter-widgets/base",
            "_model_module_version": "1.2.0",
            "_model_name": "LayoutModel",
            "_view_count": null,
            "_view_module": "@jupyter-widgets/base",
            "_view_module_version": "1.2.0",
            "_view_name": "LayoutView",
            "align_content": null,
            "align_items": null,
            "align_self": null,
            "border": null,
            "bottom": null,
            "display": null,
            "flex": null,
            "flex_flow": null,
            "grid_area": null,
            "grid_auto_columns": null,
            "grid_auto_flow": null,
            "grid_auto_rows": null,
            "grid_column": null,
            "grid_gap": null,
            "grid_row": null,
            "grid_template_areas": null,
            "grid_template_columns": null,
            "grid_template_rows": null,
            "height": null,
            "justify_content": null,
            "justify_items": null,
            "left": null,
            "margin": null,
            "max_height": null,
            "max_width": null,
            "min_height": null,
            "min_width": null,
            "object_fit": null,
            "object_position": null,
            "order": null,
            "overflow": null,
            "overflow_x": null,
            "overflow_y": null,
            "padding": null,
            "right": null,
            "top": null,
            "visibility": null,
            "width": null
          }
        },
        "f774637dda2b49c29f0dc0f3a133de07": {
          "model_module": "@jupyter-widgets/controls",
          "model_name": "ProgressStyleModel",
          "model_module_version": "1.5.0",
          "state": {
            "_model_module": "@jupyter-widgets/controls",
            "_model_module_version": "1.5.0",
            "_model_name": "ProgressStyleModel",
            "_view_count": null,
            "_view_module": "@jupyter-widgets/base",
            "_view_module_version": "1.2.0",
            "_view_name": "StyleView",
            "bar_color": null,
            "description_width": ""
          }
        },
        "26a6f2baa69f4c77880f5160d506c359": {
          "model_module": "@jupyter-widgets/base",
          "model_name": "LayoutModel",
          "model_module_version": "1.2.0",
          "state": {
            "_model_module": "@jupyter-widgets/base",
            "_model_module_version": "1.2.0",
            "_model_name": "LayoutModel",
            "_view_count": null,
            "_view_module": "@jupyter-widgets/base",
            "_view_module_version": "1.2.0",
            "_view_name": "LayoutView",
            "align_content": null,
            "align_items": null,
            "align_self": null,
            "border": null,
            "bottom": null,
            "display": null,
            "flex": null,
            "flex_flow": null,
            "grid_area": null,
            "grid_auto_columns": null,
            "grid_auto_flow": null,
            "grid_auto_rows": null,
            "grid_column": null,
            "grid_gap": null,
            "grid_row": null,
            "grid_template_areas": null,
            "grid_template_columns": null,
            "grid_template_rows": null,
            "height": null,
            "justify_content": null,
            "justify_items": null,
            "left": null,
            "margin": null,
            "max_height": null,
            "max_width": null,
            "min_height": null,
            "min_width": null,
            "object_fit": null,
            "object_position": null,
            "order": null,
            "overflow": null,
            "overflow_x": null,
            "overflow_y": null,
            "padding": null,
            "right": null,
            "top": null,
            "visibility": null,
            "width": null
          }
        },
        "fdd75eabda9a4aef8c34ce4538b8cdd3": {
          "model_module": "@jupyter-widgets/controls",
          "model_name": "DescriptionStyleModel",
          "model_module_version": "1.5.0",
          "state": {
            "_model_module": "@jupyter-widgets/controls",
            "_model_module_version": "1.5.0",
            "_model_name": "DescriptionStyleModel",
            "_view_count": null,
            "_view_module": "@jupyter-widgets/base",
            "_view_module_version": "1.2.0",
            "_view_name": "StyleView",
            "description_width": ""
          }
        },
        "973d466b7cf6401b9ae3b3c1861ade3a": {
          "model_module": "@jupyter-widgets/controls",
          "model_name": "HBoxModel",
          "model_module_version": "1.5.0",
          "state": {
            "_dom_classes": [],
            "_model_module": "@jupyter-widgets/controls",
            "_model_module_version": "1.5.0",
            "_model_name": "HBoxModel",
            "_view_count": null,
            "_view_module": "@jupyter-widgets/controls",
            "_view_module_version": "1.5.0",
            "_view_name": "HBoxView",
            "box_style": "",
            "children": [
              "IPY_MODEL_f985242f75cb4ae0ba30231723c724cf",
              "IPY_MODEL_1cbfdcf6a37848c7bac4d71a33765f61",
              "IPY_MODEL_78ab365a65e9417abdf0b2ba62887fd7"
            ],
            "layout": "IPY_MODEL_858ff829b446478cab264a956babcc21"
          }
        },
        "f985242f75cb4ae0ba30231723c724cf": {
          "model_module": "@jupyter-widgets/controls",
          "model_name": "HTMLModel",
          "model_module_version": "1.5.0",
          "state": {
            "_dom_classes": [],
            "_model_module": "@jupyter-widgets/controls",
            "_model_module_version": "1.5.0",
            "_model_name": "HTMLModel",
            "_view_count": null,
            "_view_module": "@jupyter-widgets/controls",
            "_view_module_version": "1.5.0",
            "_view_name": "HTMLView",
            "description": "",
            "description_tooltip": null,
            "layout": "IPY_MODEL_ba96102178e8434999a154fb0d4dcdd4",
            "placeholder": "​",
            "style": "IPY_MODEL_8314a1f015994621a547cf932cddf667",
            "value": "model.safetensors: 100%"
          }
        },
        "1cbfdcf6a37848c7bac4d71a33765f61": {
          "model_module": "@jupyter-widgets/controls",
          "model_name": "FloatProgressModel",
          "model_module_version": "1.5.0",
          "state": {
            "_dom_classes": [],
            "_model_module": "@jupyter-widgets/controls",
            "_model_module_version": "1.5.0",
            "_model_name": "FloatProgressModel",
            "_view_count": null,
            "_view_module": "@jupyter-widgets/controls",
            "_view_module_version": "1.5.0",
            "_view_name": "ProgressView",
            "bar_style": "success",
            "description": "",
            "description_tooltip": null,
            "layout": "IPY_MODEL_1b3981c7e1494e629dd67728ac393077",
            "max": 440449768,
            "min": 0,
            "orientation": "horizontal",
            "style": "IPY_MODEL_a4c89f42c2874e2b83404ef9060fe325",
            "value": 440449768
          }
        },
        "78ab365a65e9417abdf0b2ba62887fd7": {
          "model_module": "@jupyter-widgets/controls",
          "model_name": "HTMLModel",
          "model_module_version": "1.5.0",
          "state": {
            "_dom_classes": [],
            "_model_module": "@jupyter-widgets/controls",
            "_model_module_version": "1.5.0",
            "_model_name": "HTMLModel",
            "_view_count": null,
            "_view_module": "@jupyter-widgets/controls",
            "_view_module_version": "1.5.0",
            "_view_name": "HTMLView",
            "description": "",
            "description_tooltip": null,
            "layout": "IPY_MODEL_ff0205b63e2b431a9f8783a545f28828",
            "placeholder": "​",
            "style": "IPY_MODEL_35753eaa1df24c73a49e8a6b49f28da3",
            "value": " 440M/440M [00:03&lt;00:00, 159MB/s]"
          }
        },
        "858ff829b446478cab264a956babcc21": {
          "model_module": "@jupyter-widgets/base",
          "model_name": "LayoutModel",
          "model_module_version": "1.2.0",
          "state": {
            "_model_module": "@jupyter-widgets/base",
            "_model_module_version": "1.2.0",
            "_model_name": "LayoutModel",
            "_view_count": null,
            "_view_module": "@jupyter-widgets/base",
            "_view_module_version": "1.2.0",
            "_view_name": "LayoutView",
            "align_content": null,
            "align_items": null,
            "align_self": null,
            "border": null,
            "bottom": null,
            "display": null,
            "flex": null,
            "flex_flow": null,
            "grid_area": null,
            "grid_auto_columns": null,
            "grid_auto_flow": null,
            "grid_auto_rows": null,
            "grid_column": null,
            "grid_gap": null,
            "grid_row": null,
            "grid_template_areas": null,
            "grid_template_columns": null,
            "grid_template_rows": null,
            "height": null,
            "justify_content": null,
            "justify_items": null,
            "left": null,
            "margin": null,
            "max_height": null,
            "max_width": null,
            "min_height": null,
            "min_width": null,
            "object_fit": null,
            "object_position": null,
            "order": null,
            "overflow": null,
            "overflow_x": null,
            "overflow_y": null,
            "padding": null,
            "right": null,
            "top": null,
            "visibility": null,
            "width": null
          }
        },
        "ba96102178e8434999a154fb0d4dcdd4": {
          "model_module": "@jupyter-widgets/base",
          "model_name": "LayoutModel",
          "model_module_version": "1.2.0",
          "state": {
            "_model_module": "@jupyter-widgets/base",
            "_model_module_version": "1.2.0",
            "_model_name": "LayoutModel",
            "_view_count": null,
            "_view_module": "@jupyter-widgets/base",
            "_view_module_version": "1.2.0",
            "_view_name": "LayoutView",
            "align_content": null,
            "align_items": null,
            "align_self": null,
            "border": null,
            "bottom": null,
            "display": null,
            "flex": null,
            "flex_flow": null,
            "grid_area": null,
            "grid_auto_columns": null,
            "grid_auto_flow": null,
            "grid_auto_rows": null,
            "grid_column": null,
            "grid_gap": null,
            "grid_row": null,
            "grid_template_areas": null,
            "grid_template_columns": null,
            "grid_template_rows": null,
            "height": null,
            "justify_content": null,
            "justify_items": null,
            "left": null,
            "margin": null,
            "max_height": null,
            "max_width": null,
            "min_height": null,
            "min_width": null,
            "object_fit": null,
            "object_position": null,
            "order": null,
            "overflow": null,
            "overflow_x": null,
            "overflow_y": null,
            "padding": null,
            "right": null,
            "top": null,
            "visibility": null,
            "width": null
          }
        },
        "8314a1f015994621a547cf932cddf667": {
          "model_module": "@jupyter-widgets/controls",
          "model_name": "DescriptionStyleModel",
          "model_module_version": "1.5.0",
          "state": {
            "_model_module": "@jupyter-widgets/controls",
            "_model_module_version": "1.5.0",
            "_model_name": "DescriptionStyleModel",
            "_view_count": null,
            "_view_module": "@jupyter-widgets/base",
            "_view_module_version": "1.2.0",
            "_view_name": "StyleView",
            "description_width": ""
          }
        },
        "1b3981c7e1494e629dd67728ac393077": {
          "model_module": "@jupyter-widgets/base",
          "model_name": "LayoutModel",
          "model_module_version": "1.2.0",
          "state": {
            "_model_module": "@jupyter-widgets/base",
            "_model_module_version": "1.2.0",
            "_model_name": "LayoutModel",
            "_view_count": null,
            "_view_module": "@jupyter-widgets/base",
            "_view_module_version": "1.2.0",
            "_view_name": "LayoutView",
            "align_content": null,
            "align_items": null,
            "align_self": null,
            "border": null,
            "bottom": null,
            "display": null,
            "flex": null,
            "flex_flow": null,
            "grid_area": null,
            "grid_auto_columns": null,
            "grid_auto_flow": null,
            "grid_auto_rows": null,
            "grid_column": null,
            "grid_gap": null,
            "grid_row": null,
            "grid_template_areas": null,
            "grid_template_columns": null,
            "grid_template_rows": null,
            "height": null,
            "justify_content": null,
            "justify_items": null,
            "left": null,
            "margin": null,
            "max_height": null,
            "max_width": null,
            "min_height": null,
            "min_width": null,
            "object_fit": null,
            "object_position": null,
            "order": null,
            "overflow": null,
            "overflow_x": null,
            "overflow_y": null,
            "padding": null,
            "right": null,
            "top": null,
            "visibility": null,
            "width": null
          }
        },
        "a4c89f42c2874e2b83404ef9060fe325": {
          "model_module": "@jupyter-widgets/controls",
          "model_name": "ProgressStyleModel",
          "model_module_version": "1.5.0",
          "state": {
            "_model_module": "@jupyter-widgets/controls",
            "_model_module_version": "1.5.0",
            "_model_name": "ProgressStyleModel",
            "_view_count": null,
            "_view_module": "@jupyter-widgets/base",
            "_view_module_version": "1.2.0",
            "_view_name": "StyleView",
            "bar_color": null,
            "description_width": ""
          }
        },
        "ff0205b63e2b431a9f8783a545f28828": {
          "model_module": "@jupyter-widgets/base",
          "model_name": "LayoutModel",
          "model_module_version": "1.2.0",
          "state": {
            "_model_module": "@jupyter-widgets/base",
            "_model_module_version": "1.2.0",
            "_model_name": "LayoutModel",
            "_view_count": null,
            "_view_module": "@jupyter-widgets/base",
            "_view_module_version": "1.2.0",
            "_view_name": "LayoutView",
            "align_content": null,
            "align_items": null,
            "align_self": null,
            "border": null,
            "bottom": null,
            "display": null,
            "flex": null,
            "flex_flow": null,
            "grid_area": null,
            "grid_auto_columns": null,
            "grid_auto_flow": null,
            "grid_auto_rows": null,
            "grid_column": null,
            "grid_gap": null,
            "grid_row": null,
            "grid_template_areas": null,
            "grid_template_columns": null,
            "grid_template_rows": null,
            "height": null,
            "justify_content": null,
            "justify_items": null,
            "left": null,
            "margin": null,
            "max_height": null,
            "max_width": null,
            "min_height": null,
            "min_width": null,
            "object_fit": null,
            "object_position": null,
            "order": null,
            "overflow": null,
            "overflow_x": null,
            "overflow_y": null,
            "padding": null,
            "right": null,
            "top": null,
            "visibility": null,
            "width": null
          }
        },
        "35753eaa1df24c73a49e8a6b49f28da3": {
          "model_module": "@jupyter-widgets/controls",
          "model_name": "DescriptionStyleModel",
          "model_module_version": "1.5.0",
          "state": {
            "_model_module": "@jupyter-widgets/controls",
            "_model_module_version": "1.5.0",
            "_model_name": "DescriptionStyleModel",
            "_view_count": null,
            "_view_module": "@jupyter-widgets/base",
            "_view_module_version": "1.2.0",
            "_view_name": "StyleView",
            "description_width": ""
          }
        }
      }
    },
    "accelerator": "GPU"
  },
  "nbformat": 4,
  "nbformat_minor": 0
}