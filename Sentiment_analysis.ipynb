{
  "cells": [
    {
      "cell_type": "markdown",
      "metadata": {
        "id": "view-in-github",
        "colab_type": "text"
      },
      "source": [
        "<a href=\"https://colab.research.google.com/github/avagonick/Sentient-Analysis/blob/main/Sentiment_analysis.ipynb\" target=\"_parent\"><img src=\"https://colab.research.google.com/assets/colab-badge.svg\" alt=\"Open In Colab\"/></a>"
      ]
    },
    {
      "cell_type": "markdown",
      "metadata": {
        "id": "ZoyQ2s2hSRnT"
      },
      "source": [
        "# Sentiment-140 Classification"
      ]
    },
    {
      "cell_type": "code",
      "source": [
        "from google.colab import drive\n",
        "drive.mount('/content/drive')"
      ],
      "metadata": {
        "colab": {
          "base_uri": "https://localhost:8080/"
        },
        "id": "0ffSyYIoh3eO",
        "outputId": "f7ffc8ae-3a64-4d27-e863-59cf3afab1a8"
      },
      "execution_count": null,
      "outputs": [
        {
          "output_type": "stream",
          "name": "stdout",
          "text": [
            "Mounted at /content/drive\n"
          ]
        }
      ]
    },
    {
      "cell_type": "code",
      "execution_count": null,
      "metadata": {
        "id": "2Jg21hVASRnW"
      },
      "outputs": [],
      "source": [
        "import torch\n",
        "import csv\n",
        "import torch.nn as nn\n",
        "import torch.nn.functional as F\n",
        "from torch.utils.data import Dataset, DataLoader, SubsetRandomSampler\n",
        "from tqdm import tqdm\n",
        "import matplotlib.pyplot as plt\n",
        "import numpy as np\n",
        "from transformers import BertTokenizer, BertForSequenceClassification\n"
      ]
    },
    {
      "cell_type": "markdown",
      "metadata": {
        "id": "TvjjPglISRnY"
      },
      "source": [
        "## Loading the data"
      ]
    },
    {
      "cell_type": "code",
      "source": [
        "class SentimentDataset(Dataset):\n",
        "\n",
        "    def __init__(self, csv_path, training_set=True):\n",
        "        tweets = []\n",
        "        labels = []\n",
        "        with open(csv_path, 'r') as file:\n",
        "            csv_reader = csv.reader(file)\n",
        "            for row in csv_reader:\n",
        "                tweets.append(row[0])\n",
        "                labels.append(int(row[1]))\n",
        "\n",
        "        total_tweets = len(tweets)\n",
        "        train_indices = np.random.choice(total_tweets, int(0.8 * total_tweets), replace=False)\n",
        "        test_indices = np.setdiff1d(np.arange(total_tweets), train_indices)\n",
        "\n",
        "        if training_set:\n",
        "            self.tweets = [tweets[i] for i in train_indices]\n",
        "            self.labels = [labels[i] for i in train_indices]\n",
        "        else:\n",
        "            self.tweets = [tweets[i] for i in test_indices]\n",
        "            self.labels = [labels[i] for i in test_indices]\n",
        "\n",
        "    def __len__(self):\n",
        "        return len(self.tweets)\n",
        "\n",
        "    def __getitem__(self, idx):\n",
        "        return self.tweets[idx], self.labels[idx]"
      ],
      "metadata": {
        "id": "6cCMTmMWTcSX"
      },
      "execution_count": null,
      "outputs": []
    },
    {
      "cell_type": "code",
      "execution_count": null,
      "metadata": {
        "id": "WyDXyQsYSRnY"
      },
      "outputs": [],
      "source": [
        "use_subset_of_data = True\n",
        "subset_percentage = 0.01 # set the percentage of original dataset when running on CoLab so it doesn't take forever"
      ]
    },
    {
      "cell_type": "code",
      "execution_count": 10,
      "metadata": {
        "id": "gAl8fJXRSRnZ"
      },
      "outputs": [],
      "source": [
        "data_loc = '/content/drive/MyDrive/Older stuff/ACM AI Projects/dataset.csv'\n",
        "\n",
        "train_data = SentimentDataset(data_loc, training_set=True)\n",
        "test_data = SentimentDataset(data_loc, training_set=False)\n",
        "\n",
        "if use_subset_of_data:\n",
        "    train_set_len = int(subset_percentage * len(train_data))\n",
        "    test_set_len = int(subset_percentage * len(test_data))\n",
        "\n",
        "    train_subset_indices = np.random.choice(len(train_data), size=train_set_len, replace=False)\n",
        "    train_sampler = SubsetRandomSampler(train_subset_indices)\n",
        "\n",
        "    test_subset_indices = np.random.choice(len(test_data), size=test_set_len, replace=False)\n",
        "    test_sampler = SubsetRandomSampler(test_subset_indices)\n",
        "\n",
        "    train_loader = DataLoader(train_data, batch_size=32, sampler=train_sampler)\n",
        "    test_loader = DataLoader(test_data, batch_size=32, sampler=test_sampler)\n",
        "\n",
        "else:\n",
        "    train_loader = DataLoader(train_data, batch_size=32, shuffle=True)\n",
        "    test_loader = DataLoader(test_data, batch_size=32, shuffle=False)"
      ]
    },
    {
      "cell_type": "markdown",
      "metadata": {
        "id": "6GFQ2jehSRna"
      },
      "source": [
        "#Write Out Example Data"
      ]
    },
    {
      "cell_type": "code",
      "execution_count": null,
      "metadata": {
        "id": "9-7dRH69SRna",
        "colab": {
          "base_uri": "https://localhost:8080/"
        },
        "outputId": "35f15062-86ba-4b13-ff94-77d6eae61eaa"
      },
      "outputs": [
        {
          "output_type": "stream",
          "name": "stdout",
          "text": [
            "Sample tweet:  @blondishnet even I can't FTP to Fan History.  No FTP installed. \n",
            "Ground truth label:  0\n"
          ]
        }
      ],
      "source": [
        "tweets, labels = next(iter(train_loader))\n",
        "print(\"Sample tweet: \", tweets[0])\n",
        "print(\"Ground truth label: \", labels[0].numpy())"
      ]
    },
    {
      "cell_type": "markdown",
      "metadata": {
        "id": "fCawovxkSRnc"
      },
      "source": [
        "## Start By Fine-tuning BERT from Hugging Face"
      ]
    },
    {
      "cell_type": "code",
      "execution_count": 11,
      "metadata": {
        "id": "_WKFezQySRnc",
        "colab": {
          "base_uri": "https://localhost:8080/",
          "height": 367,
          "referenced_widgets": [
            "697d437d27a24219854df72b9095214b",
            "a4a4b1bf42604ba3ae806630695f1156",
            "26ea52a29d7048d59032674b37a48fb5",
            "5a12ce0eed264fe798414537a607bdef",
            "59f2f594bb404c74833eb2cfda39369e",
            "48c2f9ae63e04393868567ad374dafd3",
            "6823086017964f6995c9554d0530cdf3",
            "16879440fb484e6bbaa5366650ea01b5",
            "42c7c7b60b4d43288a3a23f1ca1da2a3",
            "4cd67f35cb7547f1a702dad4cc3b0ece",
            "d38b542925884f439e33195166fb57ad",
            "f71ab66546c44269afb7cc91d3d2e0ed",
            "ed6ccc7759a048418f74cda2c79ae92a",
            "8c19979b7f57448b83463d36c39552a5",
            "5e8ecc64ad184f8985ff5da62ece470f",
            "1e66d5fe7dc5454c9f1936ec05a0a492",
            "e8da07359c204073b968b4a22f905bad",
            "4c54a424fe074946b552ff692f558a85",
            "eafb52e1f6384e3ba194fa62d9517b5b",
            "84cc46758eba46648368ece17b321c95",
            "e4041aa964ad4727adc1bb33fc1ed01a",
            "217cdf35c7574355950e729f94e17b94",
            "13109416a274425b81b509749afaec39",
            "c39cb9568d4640ebb96473a2f1d1e125",
            "b226c73ee4144a79a50ee2e833e449b4",
            "b8951ace86b64f36ad1c2aeabf5e09f9",
            "917af2c684524b659d97a2afa97a573e",
            "c87fe1a1857540d4be082d7af5addf2c",
            "2b4de77d2f40443fbdabb3d9b1fe5193",
            "3f4b969b83064c60a5fbf9fa4767631a",
            "34c268657b5e4f7c9743d5a6dde74c5b",
            "0c8e3f2865d5450f82c6af15eb998df0",
            "99e9a6ab386242f69cd41c1ef9d267af",
            "1bde683b891342c08625b0615aa40978",
            "8ef5892cbb634f22bbf08bbc9e225d65",
            "181a73c2ee834b8e904b0875bf6538c4",
            "bf3b79ea23db4b0e97f399b8dd215ede",
            "feea631a8a2a45a793ecc286db70d8cf",
            "2f78b29b41fa4a2cab6a299bb4c706a4",
            "9e976ebfb87e462d962c9e08b87c17aa",
            "534ad077795a4c6a859b25ce64073367",
            "ef0d03c3a4de4c06a625d2aca4f07eac",
            "083c755450724fb2940ed3ef056db4c0",
            "46c8d21742444503b75a1d423d2e9fde",
            "0eefc5b5e9634ffba9a932a7290a46e7",
            "0c9acc0561fc42e9b8add6cbcac0503b",
            "8edab4e3f8d5495bb5dfb0b1178cb945",
            "0438a45febae4d419a5b18582a2fb913",
            "faf5e59b3daf4386a88f5a9dec477574",
            "81f05e519b8a4bb193c0c836e2746275",
            "53e36d2808b74e13a5519bac82a94532",
            "1ce6577978134e3dacf69e3b01723c82",
            "8acab4900971431294e8a869a8ace505",
            "7828cdebeede4bf4939b76fea6f4bc31",
            "88282ce1557b44ec86f0ed0efadc0f12"
          ]
        },
        "outputId": "b05e5b24-f78e-4d80-a19f-bd16c85d5a1d"
      },
      "outputs": [
        {
          "output_type": "stream",
          "name": "stderr",
          "text": [
            "/usr/local/lib/python3.10/dist-packages/huggingface_hub/utils/_token.py:89: UserWarning: \n",
            "The secret `HF_TOKEN` does not exist in your Colab secrets.\n",
            "To authenticate with the Hugging Face Hub, create a token in your settings tab (https://huggingface.co/settings/tokens), set it as secret in your Google Colab and restart your session.\n",
            "You will be able to reuse this secret in all of your notebooks.\n",
            "Please note that authentication is recommended but still optional to access public models or datasets.\n",
            "  warnings.warn(\n"
          ]
        },
        {
          "output_type": "display_data",
          "data": {
            "text/plain": [
              "tokenizer_config.json:   0%|          | 0.00/48.0 [00:00<?, ?B/s]"
            ],
            "application/vnd.jupyter.widget-view+json": {
              "version_major": 2,
              "version_minor": 0,
              "model_id": "697d437d27a24219854df72b9095214b"
            }
          },
          "metadata": {}
        },
        {
          "output_type": "display_data",
          "data": {
            "text/plain": [
              "vocab.txt:   0%|          | 0.00/232k [00:00<?, ?B/s]"
            ],
            "application/vnd.jupyter.widget-view+json": {
              "version_major": 2,
              "version_minor": 0,
              "model_id": "f71ab66546c44269afb7cc91d3d2e0ed"
            }
          },
          "metadata": {}
        },
        {
          "output_type": "display_data",
          "data": {
            "text/plain": [
              "tokenizer.json:   0%|          | 0.00/466k [00:00<?, ?B/s]"
            ],
            "application/vnd.jupyter.widget-view+json": {
              "version_major": 2,
              "version_minor": 0,
              "model_id": "13109416a274425b81b509749afaec39"
            }
          },
          "metadata": {}
        },
        {
          "output_type": "stream",
          "name": "stderr",
          "text": [
            "/usr/local/lib/python3.10/dist-packages/huggingface_hub/file_download.py:1132: FutureWarning: `resume_download` is deprecated and will be removed in version 1.0.0. Downloads always resume when possible. If you want to force a new download, use `force_download=True`.\n",
            "  warnings.warn(\n"
          ]
        },
        {
          "output_type": "display_data",
          "data": {
            "text/plain": [
              "config.json:   0%|          | 0.00/570 [00:00<?, ?B/s]"
            ],
            "application/vnd.jupyter.widget-view+json": {
              "version_major": 2,
              "version_minor": 0,
              "model_id": "1bde683b891342c08625b0615aa40978"
            }
          },
          "metadata": {}
        },
        {
          "output_type": "display_data",
          "data": {
            "text/plain": [
              "model.safetensors:   0%|          | 0.00/440M [00:00<?, ?B/s]"
            ],
            "application/vnd.jupyter.widget-view+json": {
              "version_major": 2,
              "version_minor": 0,
              "model_id": "0eefc5b5e9634ffba9a932a7290a46e7"
            }
          },
          "metadata": {}
        },
        {
          "output_type": "stream",
          "name": "stderr",
          "text": [
            "Some weights of BertForSequenceClassification were not initialized from the model checkpoint at bert-base-uncased and are newly initialized: ['classifier.bias', 'classifier.weight']\n",
            "You should probably TRAIN this model on a down-stream task to be able to use it for predictions and inference.\n"
          ]
        }
      ],
      "source": [
        "model_name = \"bert-base-uncased\"\n",
        "tokenizer = BertTokenizer.from_pretrained(model_name)\n",
        "pretrained_model = BertForSequenceClassification.from_pretrained(model_name, num_labels=2)"
      ]
    },
    {
      "cell_type": "markdown",
      "metadata": {
        "id": "t0_xzC8lSRnd"
      },
      "source": [
        "#Preprocess data to get tokens and attention masks"
      ]
    },
    {
      "cell_type": "code",
      "execution_count": null,
      "metadata": {
        "id": "ekl3P1hJSRne"
      },
      "outputs": [],
      "source": [
        "def preprocess(tweets):\n",
        "\n",
        "    encoded_batch = tokenizer.batch_encode_plus(\n",
        "        tweets,\n",
        "        add_special_tokens=True,\n",
        "        max_length=128,\n",
        "        padding='max_length',\n",
        "        truncation=True,\n",
        "        return_attention_mask=True,\n",
        "        return_tensors='pt'\n",
        "    )\n",
        "\n",
        "    input_ids = encoded_batch['input_ids']\n",
        "    attention_masks = encoded_batch['attention_mask']\n",
        "\n",
        "    return input_ids, attention_masks"
      ]
    },
    {
      "cell_type": "markdown",
      "metadata": {
        "id": "WYB5hfYYSRnf"
      },
      "source": [
        "#Write Train and Eval Loop"
      ]
    },
    {
      "cell_type": "code",
      "execution_count": null,
      "metadata": {
        "id": "jywnftxLSRnf"
      },
      "outputs": [],
      "source": [
        "def train(model, train_loader, val_loader, optimizer, criterion, device,\n",
        "          num_epochs, finetuning=False):\n",
        "\n",
        "    # Place model on device, this is for when using the GPU\n",
        "    model = model.to(device)\n",
        "\n",
        "    loss_history = []\n",
        "    acc_history = []\n",
        "\n",
        "    for epoch in range(num_epochs):\n",
        "        model.train()  # Set model to training mode\n",
        "\n",
        "        # Use tqdm to display a progress bar during training\n",
        "        with tqdm(total=len(train_loader),\n",
        "                  desc=f'Epoch {epoch + 1}/{num_epochs}',\n",
        "                  position=0,\n",
        "                  leave=True) as pbar:\n",
        "\n",
        "            for inputs, labels in train_loader:\n",
        "\n",
        "                input_ids, attention_masks = preprocess(inputs)\n",
        "                # Move inputs and labels to device\n",
        "                input_ids = input_ids.to(device)\n",
        "                attention_masks = attention_masks.to(device)\n",
        "                labels = labels.to(device)\n",
        "\n",
        "                # Zero out gradients\n",
        "                optimizer.zero_grad()\n",
        "\n",
        "                # Compute the logits and loss\n",
        "                outputs = model(input_ids=input_ids, attention_mask=attention_masks)\n",
        "                if finetuning:\n",
        "                    outputs = outputs.logits\n",
        "                loss = criterion(outputs, labels)\n",
        "\n",
        "                # Backpropagate the loss\n",
        "                loss.backward()\n",
        "\n",
        "                # Update the weights\n",
        "                optimizer.step()\n",
        "\n",
        "                # Update the progress bar\n",
        "                pbar.update(1)\n",
        "                pbar.set_postfix(loss=loss.item())\n",
        "\n",
        "                loss_history.append(loss.item())\n",
        "\n",
        "\n",
        "        avg_loss, accuracy = evaluate(model, val_loader, criterion, device, finetuning)\n",
        "        print(\n",
        "            f'Test set: Average loss = {avg_loss:.4f}, Accuracy = {accuracy:.4f}'\n",
        "        )\n",
        "        acc_history.append(accuracy)\n",
        "\n",
        "    return loss_history, acc_history\n",
        "\n",
        "\n",
        "def evaluate(model, test_loader, criterion, device, finetuning=False):\n",
        "\n",
        "    model.eval()  # Set model to evaluation mode\n",
        "\n",
        "    with torch.no_grad():\n",
        "        total_loss = 0.0\n",
        "        num_correct = 0\n",
        "        num_samples = 0\n",
        "\n",
        "        for inputs, labels in test_loader:\n",
        "\n",
        "            input_ids, attention_masks = preprocess(inputs)\n",
        "            # Move inputs and labels to device\n",
        "            input_ids = input_ids.to(device)\n",
        "            attention_masks = attention_masks.to(device)\n",
        "            labels = labels.to(device)\n",
        "\n",
        "            # Compute the logits and loss\n",
        "            outputs = model(input_ids=input_ids, attention_mask=attention_masks)\n",
        "            if finetuning:\n",
        "                outputs = outputs.logits\n",
        "            loss = criterion(outputs, labels)\n",
        "            total_loss += loss.item()\n",
        "\n",
        "            # Compute the accuracy\n",
        "            _, predictions = torch.max(outputs, dim=1)\n",
        "            num_correct += (predictions == labels).sum().item()\n",
        "            num_samples += len(labels)\n",
        "\n",
        "    # Compute the average loss and accuracy\n",
        "    avg_loss = total_loss / len(test_loader)\n",
        "    accuracy = num_correct / num_samples\n",
        "\n",
        "    return avg_loss, accuracy"
      ]
    },
    {
      "cell_type": "markdown",
      "metadata": {
        "id": "vzPrg-0ASRng"
      },
      "source": [
        "Get device, because when on gpu can use cude"
      ]
    },
    {
      "cell_type": "code",
      "execution_count": null,
      "metadata": {
        "id": "0uLCkctsSRng",
        "colab": {
          "base_uri": "https://localhost:8080/"
        },
        "outputId": "b0e14cae-1388-4528-9a72-b7fd83345b61"
      },
      "outputs": [
        {
          "output_type": "stream",
          "name": "stdout",
          "text": [
            "cuda\n"
          ]
        }
      ],
      "source": [
        "device = torch.device('cuda' if torch.cuda.is_available() else 'cpu')\n",
        "print(device)"
      ]
    },
    {
      "cell_type": "markdown",
      "metadata": {
        "id": "khW1-hpSSRnh"
      },
      "source": [
        "#Fine Tune BERT\n",
        "Here just doing a small amount to make sure the code works"
      ]
    },
    {
      "cell_type": "code",
      "execution_count": null,
      "metadata": {
        "id": "xNjE6tf0SRnh",
        "colab": {
          "base_uri": "https://localhost:8080/"
        },
        "outputId": "457201e1-25c1-4788-ec33-b09e3175b22c"
      },
      "outputs": [
        {
          "output_type": "stream",
          "name": "stderr",
          "text": [
            "Epoch 1/1: 100%|██████████| 40/40 [00:24<00:00,  1.63it/s, loss=0.602]\n"
          ]
        },
        {
          "output_type": "stream",
          "name": "stdout",
          "text": [
            "Test set: Average loss = 0.5313, Accuracy = 0.7250\n"
          ]
        }
      ],
      "source": [
        "optimizer = torch.optim.AdamW(pretrained_model.parameters(), lr=2e-5)\n",
        "criterion = nn.CrossEntropyLoss()\n",
        "\n",
        "loss_history, acc_history = train(pretrained_model, train_loader, test_loader, optimizer, criterion, device, num_epochs=1, finetuning=True)\n",
        "\n",
        "# Let's save our trained weights\n",
        "torch.save(pretrained_model.state_dict(), '/content/drive/MyDrive/bert_fine_tuned.pt')\n",
        "\n"
      ]
    },
    {
      "cell_type": "code",
      "source": [
        "#in model.eval can pass in own things and test\n",
        "test_regular = [(\"hello\", 1), (\"bad\", 0)]\n",
        "test_loaded = DataLoader(test_regular)\n",
        "print(evaluate(pretrained_model,test_loaded, criterion, device, finetuning = True ))"
      ],
      "metadata": {
        "colab": {
          "base_uri": "https://localhost:8080/"
        },
        "id": "sVsFlUo4-r-Y",
        "outputId": "1f9b0bd9-90bf-4992-a03f-b21d149783ce"
      },
      "execution_count": null,
      "outputs": [
        {
          "output_type": "stream",
          "name": "stdout",
          "text": [
            "(0.241719551384449, 1.0)\n"
          ]
        }
      ]
    },
    {
      "cell_type": "markdown",
      "metadata": {
        "id": "EeMZdPmtSRnh"
      },
      "source": [
        "Next, let's plot our training loss and test accuracy history that documents the fine-tuning process."
      ]
    },
    {
      "cell_type": "code",
      "execution_count": null,
      "metadata": {
        "id": "w0BSe1nmSRnh",
        "colab": {
          "base_uri": "https://localhost:8080/",
          "height": 472
        },
        "outputId": "6d7293df-63c9-424f-9810-3c91625d68a8"
      },
      "outputs": [
        {
          "output_type": "display_data",
          "data": {
            "text/plain": [
              "<Figure size 640x480 with 1 Axes>"
            ],
            "image/png": "[encoded data removed]"
          },
          "metadata": {}
        }
      ],
      "source": [
        "plt.plot(loss_history)\n",
        "plt.xlabel('Iterations')\n",
        "plt.ylabel('Cross-entropy Loss')\n",
        "plt.title('BERT Fine-tuning, Loss history')\n",
        "plt.show()"
      ]
    },
    {
      "cell_type": "markdown",
      "metadata": {
        "id": "5il8EwNtSRni"
      },
      "source": [
        "## Creating own Transformer architecture from scratch"
      ]
    },
    {
      "cell_type": "markdown",
      "metadata": {
        "id": "d6K-0IoGSRni"
      },
      "source": [
        "Some Hyperparameters To Use"
      ]
    },
    {
      "cell_type": "code",
      "execution_count": null,
      "metadata": {
        "id": "HBbm2_FDSRni"
      },
      "outputs": [],
      "source": [
        "MAX_SEQ_LEN = 128 # Maximum length of tokenized input sequence (we already covered this above!)\n",
        "VOCAB_SIZE = 30522 # number of different token -> ID mappings, specific to the BERT Tokenizer (do not change)\n",
        "N_LAYERS = 12 # number of transformer layers stacked on top of each other\n",
        "N_HEADS = 12 # number of heads of the transformer, input sequence will be split and equally distributed to each head\n",
        "EMB_SIZE = 768 # refers to the dimensionality of the vector representations used to encode input tokens\n",
        "INTERMEDIATE_SIZE = EMB_SIZE * 4 # dimensionality of output of the Intermediate layer\n",
        "DROPOUT = 0.1 # probability of dropping a neuron during training\n",
        "N_CLASSES = 2 # we are classifying the sentiment of each tweet simply as POSITIVE or NEGATIVE\n",
        "LAYER_NORM_EPS = 1e-12 # value used in Layer Norm for numerical stability"
      ]
    },
    {
      "cell_type": "markdown",
      "metadata": {
        "id": "j7tE375oSRnl"
      },
      "source": [
        "#Make Embedding Layer"
      ]
    },
    {
      "cell_type": "code",
      "execution_count": null,
      "metadata": {
        "id": "aRVSUyLpSRnm"
      },
      "outputs": [],
      "source": [
        "class EmbeddingLayer(nn.Module):\n",
        "\n",
        "    def __init__(self, vocab_size, emb_size, max_seq_length, layer_norm_eps=1e-12, dropout=0.1):\n",
        "        super().__init__()\n",
        "\n",
        "        # TODO: Initialize word embeddings\n",
        "        self.word_embeddings = nn.Embedding(vocab_size, emb_size)\n",
        "        #take in position then output embedding\n",
        "        #padding our input to max sequence length\n",
        "        self.position_embeddings = nn.Embedding(max_seq_length, emb_size)\n",
        "        self.ln = nn.LayerNorm(emb_size, eps = layer_norm_eps)\n",
        "        self.dropout = nn.Dropout(dropout)\n",
        "\n",
        "        # sets self.position_ids to a tensor containing values from 0 to max_seq_length, reshaped to (1, max_seq_length)\n",
        "        # register_buffer makes it so that this does NOT get updated during training\n",
        "        self.register_buffer(\"position_ids\", torch.arange(max_seq_length).expand((1, -1)))\n",
        "\n",
        "#now need to make the forward pass\n",
        "    def forward(self, input_ids):\n",
        "      wordEmbed = self.word_embeddings(input_ids)\n",
        "      posEmbed = self.position_embeddings(self.position_ids)\n",
        "      normalize = self.ln(wordEmbed + posEmbed)\n",
        "      emb = self.dropout(normalize)\n",
        "\n",
        "      return emb\n"
      ]
    },
    {
      "cell_type": "markdown",
      "source": [
        "#Make Multi Head Attention Layer"
      ],
      "metadata": {
        "id": "obpg5yRQm7bZ"
      }
    },
    {
      "cell_type": "code",
      "execution_count": null,
      "metadata": {
        "id": "GXvQsqdrSRnn"
      },
      "outputs": [],
      "source": [
        "class MultiHeadAttention(nn.Module):\n",
        "\n",
        "    def __init__(self, emb_size, n_heads, dropout=0.1, layer_norm_eps=1e-12):\n",
        "        '''\n",
        "        Args:\n",
        "            emb_size (int): The size of the input embeddings\n",
        "            n_heads (int): The number of attention heads\n",
        "            dropout (float): The dropout probability\n",
        "            layer_norm_eps (float): The epsilon value for layer normalization\n",
        "\n",
        "        '''\n",
        "        super().__init__()\n",
        "        assert emb_size % n_heads == 0, \"emb_size must be divisible by n_heads\"\n",
        "\n",
        "\n",
        "        # you want to use nn.Linear, nn.Dropout, nn.LayerNorm\n",
        "        # query, key, value, final_linear should map from emb_size to emb_size\n",
        "        self.head_size = emb_size // n_heads\n",
        "        self.n_heads = n_heads\n",
        "        self.query = nn.Linear(emb_size, emb_size)\n",
        "        self.key = nn.Linear(emb_size, emb_size)\n",
        "        self.value = nn.Linear(emb_size, emb_size)\n",
        "        self.dropout = nn.Dropout(p = dropout)\n",
        "        self.final_linear = nn.Linear(emb_size, emb_size)\n",
        "        self.ln = nn.LayerNorm(emb_size, eps = emb_size)\n",
        "\n",
        "\n",
        "    def forward(self, emb, att_mask):\n",
        "        '''\n",
        "        Args:\n",
        "            emb (torch.Tensor): The input embeddings with shape (B, T, C)\n",
        "            att_mask (torch.Tensor): The attention mask with shape (B, T)\n",
        "\n",
        "        Returns:\n",
        "            torch.Tensor: The output embeddings with shape (B, T, C)\n",
        "\n",
        "        1. You want to obtain the query (Q), key (K), and value (V) tensors from the input embeddings\n",
        "        2. Compute weights:\n",
        "            a. find dot product of Q and K\n",
        "            b. divide by the square root of the head size\n",
        "            c. apply the attention mask\n",
        "            d. apply softmax\n",
        "        3. Compute attention: multiply weights by V\n",
        "        4. Feed the attention through the final linear layer\n",
        "        5. Apply dropout, residual connection, and layer normalization\n",
        "\n",
        "        '''\n",
        "        B, T, C = emb.shape  # batch size, sequence length, embedding size\n",
        "\n",
        "        #get the query, key, and value tensors\n",
        "\n",
        "        query = self.query(emb)\n",
        "        key = self.key(emb)\n",
        "        value = self.value(emb)\n",
        "\n",
        "\n",
        "        # rearrange the tensors from B x T x C to B x n_heads x T x head_size\n",
        "\n",
        "\n",
        "        q = torch.reshape(query, (B, self.n_heads, T, self.head_size))\n",
        "        k = torch.reshape(key, (B, self.n_heads, T, self.head_size))\n",
        "        v = torch.reshape(value, (B, self.n_heads, T, self.head_size))\n",
        "\n",
        "        #compute the weights before attention mask\n",
        "        #because the last dimenion of q must match the second to last dimenion of k\n",
        "        #since they are currently the same size switching them should work\n",
        "        weights = torch.matmul(q, torch.transpose(k, -2, -1)*self.head_size**-0.5)\n",
        "        # set the pad tokens to -inf so that they equal zero after softmax\n",
        "        if att_mask != None:\n",
        "            att_mask = (att_mask > 0).unsqueeze(1).repeat(1, att_mask.size(1), 1).unsqueeze(1)\n",
        "            weights = weights.masked_fill(att_mask == 0, float('-inf'))\n",
        "\n",
        "        # apply softmax and dropout\n",
        "        weights = F.softmax(weights, dim = -1)\n",
        "        weights = self.dropout(weights)\n",
        "\n",
        "        # compute attention\n",
        "        attention = torch.matmul(weights, v)\n",
        "\n",
        "        # rearrange the attention tensor from B x n_heads x T x head_size to B x T x C\n",
        "        attention = torch.reshape(attention, (B, T, C))\n",
        "\n",
        "        # apply final linear layer, dropout, residual connection, and layer normalization\n",
        "        out = self.final_linear(attention)\n",
        "        out = self.dropout(out)\n",
        "        #need to add it back to the originals\n",
        "        out = out + emb\n",
        "        out = self.ln(out)\n",
        "\n",
        "        return out\n"
      ]
    },
    {
      "cell_type": "markdown",
      "metadata": {
        "id": "m1TmA011SRno"
      },
      "source": [
        "# Feed Forward Layer"
      ]
    },
    {
      "cell_type": "code",
      "execution_count": null,
      "metadata": {
        "id": "2wPg7fklSRno"
      },
      "outputs": [],
      "source": [
        "class PositionWiseFeedForward(nn.Module):\n",
        "\n",
        "    def __init__(self, emb_size, intermediate_size, dropout=0.1, layer_norm_eps=1e-12):\n",
        "        '''\n",
        "        Args:\n",
        "            emb_size (int): The size of the input embeddings\n",
        "            intermediate_size (int): The size of the intermediate layer\n",
        "            dropout (float): The dropout probability\n",
        "            layer_norm_eps (float): The epsilon value for layer normalization\n",
        "\n",
        "        We want to create two fully connected layers mapping from emb_size to intermediate_size and back\n",
        "        '''\n",
        "\n",
        "        #initialize the two fully connected layers, gelu, dropout, and layer norm\n",
        "        super().__init__()\n",
        "        self.fc1 = nn.Linear(emb_size, intermediate_size)\n",
        "        self.fc2 = nn.Linear(intermediate_size, emb_size)\n",
        "\n",
        "        self.gelu = nn.GELU()\n",
        "        self.dropout = nn.Dropout(p = dropout)\n",
        "        self.ln = nn.LayerNorm(emb_size, eps = layer_norm_eps)\n",
        "\n",
        "    def forward(self, att_out):\n",
        "        '''\n",
        "        Args:\n",
        "            att_out (torch.Tensor): The output embeddings from the multi-head attention layer with shape (B, T, C)\n",
        "\n",
        "        Returns:\n",
        "            torch.Tensor: The output embeddings with shape (B, T, C)\n",
        "\n",
        "        TODO:\n",
        "        1. Apply the first fully connected layer and non-linearity\n",
        "        2. Apply the second fully connected layer and dropout\n",
        "        3. Apply a residual connection and layer normalization\n",
        "        '''\n",
        "        #so applying these two linear layers to each of the position embeddings\n",
        "        #pytorch will do this if you give it the entire tensor\n",
        "        x = self.fc1(att_out)\n",
        "        x = self.gelu(x)\n",
        "        x = self.fc2(x)\n",
        "        x = x + att_out\n",
        "        out = self.ln(x)\n",
        "\n",
        "\n",
        "        return out"
      ]
    },
    {
      "cell_type": "markdown",
      "metadata": {
        "id": "nUKzx1PnSRnp"
      },
      "source": [
        "# Transformer Block: Putting It All Together"
      ]
    },
    {
      "cell_type": "code",
      "execution_count": null,
      "metadata": {
        "id": "zq4oIIbySRnp"
      },
      "outputs": [],
      "source": [
        "class TransformerBlock(nn.Module):\n",
        "\n",
        "    def __init__(self, emb_size, n_heads, intermediate_size, dropout=0.1, layer_norm_eps=1e-12):\n",
        "        '''\n",
        "        Args:\n",
        "            emb_size (int): The size of the input embeddings\n",
        "            n_heads (int): The number of attention heads\n",
        "            intermediate_size (int): The size of the intermediate layer\n",
        "            dropout (float): The dropout probability\n",
        "            layer_norm_eps (float): The epsilon value for layer normalization\n",
        "\n",
        "        We want to create a transformer block that consists of a multi-head attention layer and a position-wise feed forward layer.\n",
        "        Note: We took care of layer normalization and residual connections in the previous MultiHeadAttention and PositionWiseFeedForward classes\n",
        "        '''\n",
        "\n",
        "        #initialization\n",
        "        super().__init__()\n",
        "        self.attn = MultiHeadAttention(emb_size, n_heads, dropout = dropout, layer_norm_eps = layer_norm_eps)\n",
        "        self.ff = PositionWiseFeedForward(emb_size, intermediate_size, dropout = dropout, layer_norm_eps = layer_norm_eps)\n",
        "\n",
        "    def forward(self, emb, att_mask):\n",
        "        '''\n",
        "        Args:\n",
        "            emb (torch.Tensor): The input embeddings with shape (B, T, C)\n",
        "            att_mask (torch.Tensor): The attention mask with shape (B, T)\n",
        "\n",
        "        Returns:\n",
        "            torch.Tensor: The output embeddings with shape (B, T, C)\n",
        "\n",
        "        Take emb and att_mask and pass them through the multi-head attention layer and position-wise feed forward layer\n",
        "        '''\n",
        "        x = self.attn.forward(emb, att_mask)\n",
        "        out = self.ff.forward(x)\n",
        "\n",
        "        return out"
      ]
    },
    {
      "cell_type": "markdown",
      "metadata": {
        "id": "YRKZOqlTSRnq"
      },
      "source": [
        "# Encoder Block\n"
      ]
    },
    {
      "cell_type": "code",
      "execution_count": null,
      "metadata": {
        "id": "HZ8dvnc2SRnq"
      },
      "outputs": [],
      "source": [
        "class EncoderBlock(nn.Module):\n",
        "\n",
        "    def __init__(self, emb_size, n_layers, n_heads, intermediate_size, dropout=0.1, layer_norm_eps=1e-12):\n",
        "        '''\n",
        "        Args:\n",
        "            emb_size (int): The size of the input embeddings\n",
        "            n_layers (int): The number of transformer blocks\n",
        "            n_heads (int): The number of attention heads\n",
        "            intermediate_size (int): The size of the intermediate layer\n",
        "            dropout (float): The dropout probability\n",
        "            layer_norm_eps (float): The epsilon value for layer normalization\n",
        "\n",
        "        We want to create n_layers of transformer blocks\n",
        "        '''\n",
        "        super().__init__()\n",
        "\n",
        "        #initialize transformer layers\n",
        "        self.transformer_layers = nn.ModuleList([TransformerBlock(emb_size, n_heads, intermediate_size, dropout = dropout, layer_norm_eps = layer_norm_eps) for i in range(n_layers)])\n",
        "\n",
        "    def forward(self, emb, att_mask):\n",
        "        '''\n",
        "        Args:\n",
        "            emb (torch.Tensor): The input embeddings with shape (B, T, C)\n",
        "            att_mask (torch.Tensor): The attention mask with shape (B, T)\n",
        "\n",
        "        Returns:\n",
        "            torch.Tensor: The output embeddings with shape (B, T, C)\n",
        "\n",
        "        Pass the input embeddings through each transformer block\n",
        "        '''\n",
        "        for i in range(len(self.transformer_layers)):\n",
        "          emb = self.transformer_layers[i].forward(emb, att_mask)\n",
        "\n",
        "        return emb"
      ]
    },
    {
      "cell_type": "markdown",
      "metadata": {
        "id": "j0DjTzN2SRnr"
      },
      "source": [
        "#Pooler activation function"
      ]
    },
    {
      "cell_type": "code",
      "execution_count": null,
      "metadata": {
        "id": "0Qbd6wCZSRnr"
      },
      "outputs": [],
      "source": [
        "class Pooler(nn.Module):\n",
        "    def __init__(self, emb_size):\n",
        "        '''\n",
        "        Args:\n",
        "            emb_size (int): The size of the input embeddings\n",
        "        '''\n",
        "        super().__init__()\n",
        "\n",
        "        #Define the linear layer and activation function\n",
        "        self.dense = nn.Linear(emb_size, emb_size)\n",
        "        self.activation = nn.Tanh()\n",
        "\n",
        "    def forward(self, encoder_out):\n",
        "        '''\n",
        "        Args:\n",
        "            encoder_out (torch.Tensor): The output embeddings from the encoder with shape (B, T, C)\n",
        "\n",
        "        Returns:\n",
        "            torch.Tensor: The pooled embeddings with shape (B, C)\n",
        "        '''\n",
        "\n",
        "        # TODO: 1. extract the first token's embeddings\n",
        "        firsttoken = encoder_out[:,0]\n",
        "        # TODO: 2. apply the linear layer and activation function\n",
        "        x = self.dense(firsttoken)\n",
        "        out = self.activation(x)\n",
        "\n",
        "        return out"
      ]
    },
    {
      "cell_type": "markdown",
      "metadata": {
        "id": "oSGTXotNSRnr"
      },
      "source": [
        "#Final Model"
      ]
    },
    {
      "cell_type": "code",
      "execution_count": null,
      "metadata": {
        "id": "2HJ_o8QTSRnr"
      },
      "outputs": [],
      "source": [
        "class SimplifiedBertClassifier(nn.Module):\n",
        "    def __init__(self, vocab_size, emb_size, max_seq_length, n_layers, n_heads, intermediate_size,layer_norm_eps, dropout=0.1, n_classes=2):\n",
        "        '''\n",
        "        Args:\n",
        "            vocab_size (int): The size of the vocabulary\n",
        "            emb_size (int): The size of the input embeddings\n",
        "            n_layers (int): The number of transformer blocks\n",
        "            n_heads (int): The number of attention heads\n",
        "            intermediate_size (int): The size of the intermediate layer\n",
        "            dropout (float): The dropout probability\n",
        "            n_classes (int): The number of classes\n",
        "        '''\n",
        "        super().__init__()\n",
        "\n",
        "        # TODO: Initialization\n",
        "        self.embedding = EmbeddingLayer(vocab_size, emb_size, max_seq_length, layer_norm_eps, dropout)\n",
        "        self.encoder = EncoderBlock(emb_size, n_layers, n_heads, intermediate_size, dropout = dropout, layer_norm_eps = layer_norm_eps)\n",
        "        self.pooler = Pooler(emb_size)\n",
        "        self.dropout = nn.Dropout(p = dropout)\n",
        "        self.classifier = nn.Linear(emb_size, n_classes)\n",
        "\n",
        "    def forward(self, input_ids, attention_mask=None):\n",
        "        '''\n",
        "        Args:\n",
        "            input_ids (torch.Tensor): The input token IDs with shape (B, T)\n",
        "            attention_mask (torch.Tensor): The attention mask with shape (B, T)\n",
        "\n",
        "        Returns:\n",
        "            torch.Tensor: The logits with shape (B, n_classes)\n",
        "\n",
        "        1. Pass the input token IDs through the embedding layer, encoder, pooler\n",
        "        2. Apply dropout\n",
        "        3. Pass the output through the classifier\n",
        "        '''\n",
        "\n",
        "        # TODO:\n",
        "        x = self.embedding.forward(input_ids)\n",
        "        x = self.encoder.forward(x, attention_mask)\n",
        "        x = self.pooler.forward(x)\n",
        "        x = self.dropout(x)\n",
        "        logits = self.classifier(x)\n",
        "\n",
        "        return logits"
      ]
    },
    {
      "cell_type": "markdown",
      "source": [
        "#Train Model, using quantization when on CoLab to speed it up"
      ],
      "metadata": {
        "id": "N5qYXI7knvpf"
      }
    },
    {
      "cell_type": "code",
      "source": [
        "pip install quanto"
      ],
      "metadata": {
        "id": "z3SByDKwMyb_"
      },
      "execution_count": null,
      "outputs": []
    },
    {
      "cell_type": "code",
      "execution_count": null,
      "metadata": {
        "id": "AJnXyrZSSRnt",
        "colab": {
          "base_uri": "https://localhost:8080/"
        },
        "outputId": "e56429c9-3207-4e3e-8895-6254f970b7d0"
      },
      "outputs": [
        {
          "metadata": {
            "tags": null
          },
          "name": "stderr",
          "output_type": "stream",
          "text": [
            "Epoch 1/3: 100%|██████████| 400/400 [05:27<00:00,  1.22it/s, loss=0.693]\n"
          ]
        },
        {
          "metadata": {
            "tags": null
          },
          "name": "stdout",
          "output_type": "stream",
          "text": [
            "Test set: Average loss = 0.6931, Accuracy = 0.5050\n"
          ]
        },
        {
          "output_type": "stream",
          "name": "stderr",
          "text": [
            "Epoch 2/3: 100%|██████████| 400/400 [03:55<00:00,  1.70it/s, loss=0.693]\n"
          ]
        },
        {
          "output_type": "stream",
          "name": "stdout",
          "text": [
            "Test set: Average loss = 0.6931, Accuracy = 0.5050\n"
          ]
        },
        {
          "output_type": "stream",
          "name": "stderr",
          "text": [
            "Epoch 3/3: 100%|██████████| 400/400 [03:54<00:00,  1.71it/s, loss=0.693]\n"
          ]
        },
        {
          "output_type": "stream",
          "name": "stdout",
          "text": [
            "Test set: Average loss = 0.6931, Accuracy = 0.5050\n"
          ]
        }
      ],
      "source": [
        "from quanto import quantize\n",
        "our_model = SimplifiedBertClassifier(vocab_size=VOCAB_SIZE, emb_size=EMB_SIZE, n_layers=N_LAYERS,\n",
        "                                     n_heads=N_HEADS, intermediate_size=INTERMEDIATE_SIZE, dropout=DROPOUT, n_classes=N_CLASSES, max_seq_length = MAX_SEQ_LEN, layer_norm_eps = LAYER_NORM_EPS)\n",
        "quantize(our_model, weights=quanto.qint8, activations=quanto.qint8)\n",
        "optimizer = torch.optim.AdamW(our_model.parameters(), lr=2e-5)\n",
        "criterion = nn.CrossEntropyLoss()\n",
        "\n",
        "loss_history, acc_history = train(our_model, train_loader, test_loader, optimizer, criterion, device, num_epochs=3, finetuning=False)\n",
        "torch.save(our_model.state_dict(), 'bert_from_scratch.pt')\n"
      ]
    },
    {
      "cell_type": "code",
      "execution_count": null,
      "metadata": {
        "id": "90zX_aJUSRnt"
      },
      "outputs": [],
      "source": [
        "plt.plot(loss_history)\n",
        "plt.xlabel('Iterations')\n",
        "plt.ylabel('Cross-entropy Loss')\n",
        "plt.title('BERT From Scratch, Loss history')\n",
        "plt.show()"
      ]
    },
    {
      "cell_type": "code",
      "execution_count": null,
      "metadata": {
        "id": "s_VyF-4ySRnt"
      },
      "outputs": [],
      "source": [
        "plt.plot(acc_history)\n",
        "plt.xlabel('Epochs')\n",
        "plt.ylabel('Test accuracy')\n",
        "plt.title('BERT From Scratch, Accuracy history')\n",
        "plt.show()\n",
        "print(acc_history)"
      ]
    }
  ],
  "metadata": {
    "kernelspec": {
      "display_name": "Python (ml)",
      "language": "python",
      "name": "ml"
    },
    "language_info": {
      "codemirror_mode": {
        "name": "ipython",
        "version": 3
      },
      "file_extension": ".py",
      "mimetype": "text/x-python",
      "name": "python",
      "nbconvert_exporter": "python",
      "pygments_lexer": "ipython3",
      "version": "3.12.2"
    },
    "colab": {
      "provenance": [],
      "gpuType": "T4",
      "include_colab_link": true
    },
    "widgets": {
      "application/vnd.jupyter.widget-state+json": {
        "697d437d27a24219854df72b9095214b": {
          "model_module": "@jupyter-widgets/controls",
          "model_name": "HBoxModel",
          "model_module_version": "1.5.0",
          "state": {
            "_dom_classes": [],
            "_model_module": "@jupyter-widgets/controls",
            "_model_module_version": "1.5.0",
            "_model_name": "HBoxModel",
            "_view_count": null,
            "_view_module": "@jupyter-widgets/controls",
            "_view_module_version": "1.5.0",
            "_view_name": "HBoxView",
            "box_style": "",
            "children": [
              "IPY_MODEL_a4a4b1bf42604ba3ae806630695f1156",
              "IPY_MODEL_26ea52a29d7048d59032674b37a48fb5",
              "IPY_MODEL_5a12ce0eed264fe798414537a607bdef"
            ],
            "layout": "IPY_MODEL_59f2f594bb404c74833eb2cfda39369e"
          }
        },
        "a4a4b1bf42604ba3ae806630695f1156": {
          "model_module": "@jupyter-widgets/controls",
          "model_name": "HTMLModel",
          "model_module_version": "1.5.0",
          "state": {
            "_dom_classes": [],
            "_model_module": "@jupyter-widgets/controls",
            "_model_module_version": "1.5.0",
            "_model_name": "HTMLModel",
            "_view_count": null,
            "_view_module": "@jupyter-widgets/controls",
            "_view_module_version": "1.5.0",
            "_view_name": "HTMLView",
            "description": "",
            "description_tooltip": null,
            "layout": "IPY_MODEL_48c2f9ae63e04393868567ad374dafd3",
            "placeholder": "​",
            "style": "IPY_MODEL_6823086017964f6995c9554d0530cdf3",
            "value": "tokenizer_config.json: 100%"
          }
        },
        "26ea52a29d7048d59032674b37a48fb5": {
          "model_module": "@jupyter-widgets/controls",
          "model_name": "FloatProgressModel",
          "model_module_version": "1.5.0",
          "state": {
            "_dom_classes": [],
            "_model_module": "@jupyter-widgets/controls",
            "_model_module_version": "1.5.0",
            "_model_name": "FloatProgressModel",
            "_view_count": null,
            "_view_module": "@jupyter-widgets/controls",
            "_view_module_version": "1.5.0",
            "_view_name": "ProgressView",
            "bar_style": "success",
            "description": "",
            "description_tooltip": null,
            "layout": "IPY_MODEL_16879440fb484e6bbaa5366650ea01b5",
            "max": 48,
            "min": 0,
            "orientation": "horizontal",
            "style": "IPY_MODEL_42c7c7b60b4d43288a3a23f1ca1da2a3",
            "value": 48
          }
        },
        "5a12ce0eed264fe798414537a607bdef": {
          "model_module": "@jupyter-widgets/controls",
          "model_name": "HTMLModel",
          "model_module_version": "1.5.0",
          "state": {
            "_dom_classes": [],
            "_model_module": "@jupyter-widgets/controls",
            "_model_module_version": "1.5.0",
            "_model_name": "HTMLModel",
            "_view_count": null,
            "_view_module": "@jupyter-widgets/controls",
            "_view_module_version": "1.5.0",
            "_view_name": "HTMLView",
            "description": "",
            "description_tooltip": null,
            "layout": "IPY_MODEL_4cd67f35cb7547f1a702dad4cc3b0ece",
            "placeholder": "​",
            "style": "IPY_MODEL_d38b542925884f439e33195166fb57ad",
            "value": " 48.0/48.0 [00:00&lt;00:00, 2.01kB/s]"
          }
        },
        "59f2f594bb404c74833eb2cfda39369e": {
          "model_module": "@jupyter-widgets/base",
          "model_name": "LayoutModel",
          "model_module_version": "1.2.0",
          "state": {
            "_model_module": "@jupyter-widgets/base",
            "_model_module_version": "1.2.0",
            "_model_name": "LayoutModel",
            "_view_count": null,
            "_view_module": "@jupyter-widgets/base",
            "_view_module_version": "1.2.0",
            "_view_name": "LayoutView",
            "align_content": null,
            "align_items": null,
            "align_self": null,
            "border": null,
            "bottom": null,
            "display": null,
            "flex": null,
            "flex_flow": null,
            "grid_area": null,
            "grid_auto_columns": null,
            "grid_auto_flow": null,
            "grid_auto_rows": null,
            "grid_column": null,
            "grid_gap": null,
            "grid_row": null,
            "grid_template_areas": null,
            "grid_template_columns": null,
            "grid_template_rows": null,
            "height": null,
            "justify_content": null,
            "justify_items": null,
            "left": null,
            "margin": null,
            "max_height": null,
            "max_width": null,
            "min_height": null,
            "min_width": null,
            "object_fit": null,
            "object_position": null,
            "order": null,
            "overflow": null,
            "overflow_x": null,
            "overflow_y": null,
            "padding": null,
            "right": null,
            "top": null,
            "visibility": null,
            "width": null
          }
        },
        "48c2f9ae63e04393868567ad374dafd3": {
          "model_module": "@jupyter-widgets/base",
          "model_name": "LayoutModel",
          "model_module_version": "1.2.0",
          "state": {
            "_model_module": "@jupyter-widgets/base",
            "_model_module_version": "1.2.0",
            "_model_name": "LayoutModel",
            "_view_count": null,
            "_view_module": "@jupyter-widgets/base",
            "_view_module_version": "1.2.0",
            "_view_name": "LayoutView",
            "align_content": null,
            "align_items": null,
            "align_self": null,
            "border": null,
            "bottom": null,
            "display": null,
            "flex": null,
            "flex_flow": null,
            "grid_area": null,
            "grid_auto_columns": null,
            "grid_auto_flow": null,
            "grid_auto_rows": null,
            "grid_column": null,
            "grid_gap": null,
            "grid_row": null,
            "grid_template_areas": null,
            "grid_template_columns": null,
            "grid_template_rows": null,
            "height": null,
            "justify_content": null,
            "justify_items": null,
            "left": null,
            "margin": null,
            "max_height": null,
            "max_width": null,
            "min_height": null,
            "min_width": null,
            "object_fit": null,
            "object_position": null,
            "order": null,
            "overflow": null,
            "overflow_x": null,
            "overflow_y": null,
            "padding": null,
            "right": null,
            "top": null,
            "visibility": null,
            "width": null
          }
        },
        "6823086017964f6995c9554d0530cdf3": {
          "model_module": "@jupyter-widgets/controls",
          "model_name": "DescriptionStyleModel",
          "model_module_version": "1.5.0",
          "state": {
            "_model_module": "@jupyter-widgets/controls",
            "_model_module_version": "1.5.0",
            "_model_name": "DescriptionStyleModel",
            "_view_count": null,
            "_view_module": "@jupyter-widgets/base",
            "_view_module_version": "1.2.0",
            "_view_name": "StyleView",
            "description_width": ""
          }
        },
        "16879440fb484e6bbaa5366650ea01b5": {
          "model_module": "@jupyter-widgets/base",
          "model_name": "LayoutModel",
          "model_module_version": "1.2.0",
          "state": {
            "_model_module": "@jupyter-widgets/base",
            "_model_module_version": "1.2.0",
            "_model_name": "LayoutModel",
            "_view_count": null,
            "_view_module": "@jupyter-widgets/base",
            "_view_module_version": "1.2.0",
            "_view_name": "LayoutView",
            "align_content": null,
            "align_items": null,
            "align_self": null,
            "border": null,
            "bottom": null,
            "display": null,
            "flex": null,
            "flex_flow": null,
            "grid_area": null,
            "grid_auto_columns": null,
            "grid_auto_flow": null,
            "grid_auto_rows": null,
            "grid_column": null,
            "grid_gap": null,
            "grid_row": null,
            "grid_template_areas": null,
            "grid_template_columns": null,
            "grid_template_rows": null,
            "height": null,
            "justify_content": null,
            "justify_items": null,
            "left": null,
            "margin": null,
            "max_height": null,
            "max_width": null,
            "min_height": null,
            "min_width": null,
            "object_fit": null,
            "object_position": null,
            "order": null,
            "overflow": null,
            "overflow_x": null,
            "overflow_y": null,
            "padding": null,
            "right": null,
            "top": null,
            "visibility": null,
            "width": null
          }
        },
        "42c7c7b60b4d43288a3a23f1ca1da2a3": {
          "model_module": "@jupyter-widgets/controls",
          "model_name": "ProgressStyleModel",
          "model_module_version": "1.5.0",
          "state": {
            "_model_module": "@jupyter-widgets/controls",
            "_model_module_version": "1.5.0",
            "_model_name": "ProgressStyleModel",
            "_view_count": null,
            "_view_module": "@jupyter-widgets/base",
            "_view_module_version": "1.2.0",
            "_view_name": "StyleView",
            "bar_color": null,
            "description_width": ""
          }
        },
        "4cd67f35cb7547f1a702dad4cc3b0ece": {
          "model_module": "@jupyter-widgets/base",
          "model_name": "LayoutModel",
          "model_module_version": "1.2.0",
          "state": {
            "_model_module": "@jupyter-widgets/base",
            "_model_module_version": "1.2.0",
            "_model_name": "LayoutModel",
            "_view_count": null,
            "_view_module": "@jupyter-widgets/base",
            "_view_module_version": "1.2.0",
            "_view_name": "LayoutView",
            "align_content": null,
            "align_items": null,
            "align_self": null,
            "border": null,
            "bottom": null,
            "display": null,
            "flex": null,
            "flex_flow": null,
            "grid_area": null,
            "grid_auto_columns": null,
            "grid_auto_flow": null,
            "grid_auto_rows": null,
            "grid_column": null,
            "grid_gap": null,
            "grid_row": null,
            "grid_template_areas": null,
            "grid_template_columns": null,
            "grid_template_rows": null,
            "height": null,
            "justify_content": null,
            "justify_items": null,
            "left": null,
            "margin": null,
            "max_height": null,
            "max_width": null,
            "min_height": null,
            "min_width": null,
            "object_fit": null,
            "object_position": null,
            "order": null,
            "overflow": null,
            "overflow_x": null,
            "overflow_y": null,
            "padding": null,
            "right": null,
            "top": null,
            "visibility": null,
            "width": null
          }
        },
        "d38b542925884f439e33195166fb57ad": {
          "model_module": "@jupyter-widgets/controls",
          "model_name": "DescriptionStyleModel",
          "model_module_version": "1.5.0",
          "state": {
            "_model_module": "@jupyter-widgets/controls",
            "_model_module_version": "1.5.0",
            "_model_name": "DescriptionStyleModel",
            "_view_count": null,
            "_view_module": "@jupyter-widgets/base",
            "_view_module_version": "1.2.0",
            "_view_name": "StyleView",
            "description_width": ""
          }
        },
        "f71ab66546c44269afb7cc91d3d2e0ed": {
          "model_module": "@jupyter-widgets/controls",
          "model_name": "HBoxModel",
          "model_module_version": "1.5.0",
          "state": {
            "_dom_classes": [],
            "_model_module": "@jupyter-widgets/controls",
            "_model_module_version": "1.5.0",
            "_model_name": "HBoxModel",
            "_view_count": null,
            "_view_module": "@jupyter-widgets/controls",
            "_view_module_version": "1.5.0",
            "_view_name": "HBoxView",
            "box_style": "",
            "children": [
              "IPY_MODEL_ed6ccc7759a048418f74cda2c79ae92a",
              "IPY_MODEL_8c19979b7f57448b83463d36c39552a5",
              "IPY_MODEL_5e8ecc64ad184f8985ff5da62ece470f"
            ],
            "layout": "IPY_MODEL_1e66d5fe7dc5454c9f1936ec05a0a492"
          }
        },
        "ed6ccc7759a048418f74cda2c79ae92a": {
          "model_module": "@jupyter-widgets/controls",
          "model_name": "HTMLModel",
          "model_module_version": "1.5.0",
          "state": {
            "_dom_classes": [],
            "_model_module": "@jupyter-widgets/controls",
            "_model_module_version": "1.5.0",
            "_model_name": "HTMLModel",
            "_view_count": null,
            "_view_module": "@jupyter-widgets/controls",
            "_view_module_version": "1.5.0",
            "_view_name": "HTMLView",
            "description": "",
            "description_tooltip": null,
            "layout": "IPY_MODEL_e8da07359c204073b968b4a22f905bad",
            "placeholder": "​",
            "style": "IPY_MODEL_4c54a424fe074946b552ff692f558a85",
            "value": "vocab.txt: 100%"
          }
        },
        "8c19979b7f57448b83463d36c39552a5": {
          "model_module": "@jupyter-widgets/controls",
          "model_name": "FloatProgressModel",
          "model_module_version": "1.5.0",
          "state": {
            "_dom_classes": [],
            "_model_module": "@jupyter-widgets/controls",
            "_model_module_version": "1.5.0",
            "_model_name": "FloatProgressModel",
            "_view_count": null,
            "_view_module": "@jupyter-widgets/controls",
            "_view_module_version": "1.5.0",
            "_view_name": "ProgressView",
            "bar_style": "success",
            "description": "",
            "description_tooltip": null,
            "layout": "IPY_MODEL_eafb52e1f6384e3ba194fa62d9517b5b",
            "max": 231508,
            "min": 0,
            "orientation": "horizontal",
            "style": "IPY_MODEL_84cc46758eba46648368ece17b321c95",
            "value": 231508
          }
        },
        "5e8ecc64ad184f8985ff5da62ece470f": {
          "model_module": "@jupyter-widgets/controls",
          "model_name": "HTMLModel",
          "model_module_version": "1.5.0",
          "state": {
            "_dom_classes": [],
            "_model_module": "@jupyter-widgets/controls",
            "_model_module_version": "1.5.0",
            "_model_name": "HTMLModel",
            "_view_count": null,
            "_view_module": "@jupyter-widgets/controls",
            "_view_module_version": "1.5.0",
            "_view_name": "HTMLView",
            "description": "",
            "description_tooltip": null,
            "layout": "IPY_MODEL_e4041aa964ad4727adc1bb33fc1ed01a",
            "placeholder": "​",
            "style": "IPY_MODEL_217cdf35c7574355950e729f94e17b94",
            "value": " 232k/232k [00:00&lt;00:00, 3.73MB/s]"
          }
        },
        "1e66d5fe7dc5454c9f1936ec05a0a492": {
          "model_module": "@jupyter-widgets/base",
          "model_name": "LayoutModel",
          "model_module_version": "1.2.0",
          "state": {
            "_model_module": "@jupyter-widgets/base",
            "_model_module_version": "1.2.0",
            "_model_name": "LayoutModel",
            "_view_count": null,
            "_view_module": "@jupyter-widgets/base",
            "_view_module_version": "1.2.0",
            "_view_name": "LayoutView",
            "align_content": null,
            "align_items": null,
            "align_self": null,
            "border": null,
            "bottom": null,
            "display": null,
            "flex": null,
            "flex_flow": null,
            "grid_area": null,
            "grid_auto_columns": null,
            "grid_auto_flow": null,
            "grid_auto_rows": null,
            "grid_column": null,
            "grid_gap": null,
            "grid_row": null,
            "grid_template_areas": null,
            "grid_template_columns": null,
            "grid_template_rows": null,
            "height": null,
            "justify_content": null,
            "justify_items": null,
            "left": null,
            "margin": null,
            "max_height": null,
            "max_width": null,
            "min_height": null,
            "min_width": null,
            "object_fit": null,
            "object_position": null,
            "order": null,
            "overflow": null,
            "overflow_x": null,
            "overflow_y": null,
            "padding": null,
            "right": null,
            "top": null,
            "visibility": null,
            "width": null
          }
        },
        "e8da07359c204073b968b4a22f905bad": {
          "model_module": "@jupyter-widgets/base",
          "model_name": "LayoutModel",
          "model_module_version": "1.2.0",
          "state": {
            "_model_module": "@jupyter-widgets/base",
            "_model_module_version": "1.2.0",
            "_model_name": "LayoutModel",
            "_view_count": null,
            "_view_module": "@jupyter-widgets/base",
            "_view_module_version": "1.2.0",
            "_view_name": "LayoutView",
            "align_content": null,
            "align_items": null,
            "align_self": null,
            "border": null,
            "bottom": null,
            "display": null,
            "flex": null,
            "flex_flow": null,
            "grid_area": null,
            "grid_auto_columns": null,
            "grid_auto_flow": null,
            "grid_auto_rows": null,
            "grid_column": null,
            "grid_gap": null,
            "grid_row": null,
            "grid_template_areas": null,
            "grid_template_columns": null,
            "grid_template_rows": null,
            "height": null,
            "justify_content": null,
            "justify_items": null,
            "left": null,
            "margin": null,
            "max_height": null,
            "max_width": null,
            "min_height": null,
            "min_width": null,
            "object_fit": null,
            "object_position": null,
            "order": null,
            "overflow": null,
            "overflow_x": null,
            "overflow_y": null,
            "padding": null,
            "right": null,
            "top": null,
            "visibility": null,
            "width": null
          }
        },
        "4c54a424fe074946b552ff692f558a85": {
          "model_module": "@jupyter-widgets/controls",
          "model_name": "DescriptionStyleModel",
          "model_module_version": "1.5.0",
          "state": {
            "_model_module": "@jupyter-widgets/controls",
            "_model_module_version": "1.5.0",
            "_model_name": "DescriptionStyleModel",
            "_view_count": null,
            "_view_module": "@jupyter-widgets/base",
            "_view_module_version": "1.2.0",
            "_view_name": "StyleView",
            "description_width": ""
          }
        },
        "eafb52e1f6384e3ba194fa62d9517b5b": {
          "model_module": "@jupyter-widgets/base",
          "model_name": "LayoutModel",
          "model_module_version": "1.2.0",
          "state": {
            "_model_module": "@jupyter-widgets/base",
            "_model_module_version": "1.2.0",
            "_model_name": "LayoutModel",
            "_view_count": null,
            "_view_module": "@jupyter-widgets/base",
            "_view_module_version": "1.2.0",
            "_view_name": "LayoutView",
            "align_content": null,
            "align_items": null,
            "align_self": null,
            "border": null,
            "bottom": null,
            "display": null,
            "flex": null,
            "flex_flow": null,
            "grid_area": null,
            "grid_auto_columns": null,
            "grid_auto_flow": null,
            "grid_auto_rows": null,
            "grid_column": null,
            "grid_gap": null,
            "grid_row": null,
            "grid_template_areas": null,
            "grid_template_columns": null,
            "grid_template_rows": null,
            "height": null,
            "justify_content": null,
            "justify_items": null,
            "left": null,
            "margin": null,
            "max_height": null,
            "max_width": null,
            "min_height": null,
            "min_width": null,
            "object_fit": null,
            "object_position": null,
            "order": null,
            "overflow": null,
            "overflow_x": null,
            "overflow_y": null,
            "padding": null,
            "right": null,
            "top": null,
            "visibility": null,
            "width": null
          }
        },
        "84cc46758eba46648368ece17b321c95": {
          "model_module": "@jupyter-widgets/controls",
          "model_name": "ProgressStyleModel",
          "model_module_version": "1.5.0",
          "state": {
            "_model_module": "@jupyter-widgets/controls",
            "_model_module_version": "1.5.0",
            "_model_name": "ProgressStyleModel",
            "_view_count": null,
            "_view_module": "@jupyter-widgets/base",
            "_view_module_version": "1.2.0",
            "_view_name": "StyleView",
            "bar_color": null,
            "description_width": ""
          }
        },
        "e4041aa964ad4727adc1bb33fc1ed01a": {
          "model_module": "@jupyter-widgets/base",
          "model_name": "LayoutModel",
          "model_module_version": "1.2.0",
          "state": {
            "_model_module": "@jupyter-widgets/base",
            "_model_module_version": "1.2.0",
            "_model_name": "LayoutModel",
            "_view_count": null,
            "_view_module": "@jupyter-widgets/base",
            "_view_module_version": "1.2.0",
            "_view_name": "LayoutView",
            "align_content": null,
            "align_items": null,
            "align_self": null,
            "border": null,
            "bottom": null,
            "display": null,
            "flex": null,
            "flex_flow": null,
            "grid_area": null,
            "grid_auto_columns": null,
            "grid_auto_flow": null,
            "grid_auto_rows": null,
            "grid_column": null,
            "grid_gap": null,
            "grid_row": null,
            "grid_template_areas": null,
            "grid_template_columns": null,
            "grid_template_rows": null,
            "height": null,
            "justify_content": null,
            "justify_items": null,
            "left": null,
            "margin": null,
            "max_height": null,
            "max_width": null,
            "min_height": null,
            "min_width": null,
            "object_fit": null,
            "object_position": null,
            "order": null,
            "overflow": null,
            "overflow_x": null,
            "overflow_y": null,
            "padding": null,
            "right": null,
            "top": null,
            "visibility": null,
            "width": null
          }
        },
        "217cdf35c7574355950e729f94e17b94": {
          "model_module": "@jupyter-widgets/controls",
          "model_name": "DescriptionStyleModel",
          "model_module_version": "1.5.0",
          "state": {
            "_model_module": "@jupyter-widgets/controls",
            "_model_module_version": "1.5.0",
            "_model_name": "DescriptionStyleModel",
            "_view_count": null,
            "_view_module": "@jupyter-widgets/base",
            "_view_module_version": "1.2.0",
            "_view_name": "StyleView",
            "description_width": ""
          }
        },
        "13109416a274425b81b509749afaec39": {
          "model_module": "@jupyter-widgets/controls",
          "model_name": "HBoxModel",
          "model_module_version": "1.5.0",
          "state": {
            "_dom_classes": [],
            "_model_module": "@jupyter-widgets/controls",
            "_model_module_version": "1.5.0",
            "_model_name": "HBoxModel",
            "_view_count": null,
            "_view_module": "@jupyter-widgets/controls",
            "_view_module_version": "1.5.0",
            "_view_name": "HBoxView",
            "box_style": "",
            "children": [
              "IPY_MODEL_c39cb9568d4640ebb96473a2f1d1e125",
              "IPY_MODEL_b226c73ee4144a79a50ee2e833e449b4",
              "IPY_MODEL_b8951ace86b64f36ad1c2aeabf5e09f9"
            ],
            "layout": "IPY_MODEL_917af2c684524b659d97a2afa97a573e"
          }
        },
        "c39cb9568d4640ebb96473a2f1d1e125": {
          "model_module": "@jupyter-widgets/controls",
          "model_name": "HTMLModel",
          "model_module_version": "1.5.0",
          "state": {
            "_dom_classes": [],
            "_model_module": "@jupyter-widgets/controls",
            "_model_module_version": "1.5.0",
            "_model_name": "HTMLModel",
            "_view_count": null,
            "_view_module": "@jupyter-widgets/controls",
            "_view_module_version": "1.5.0",
            "_view_name": "HTMLView",
            "description": "",
            "description_tooltip": null,
            "layout": "IPY_MODEL_c87fe1a1857540d4be082d7af5addf2c",
            "placeholder": "​",
            "style": "IPY_MODEL_2b4de77d2f40443fbdabb3d9b1fe5193",
            "value": "tokenizer.json: 100%"
          }
        },
        "b226c73ee4144a79a50ee2e833e449b4": {
          "model_module": "@jupyter-widgets/controls",
          "model_name": "FloatProgressModel",
          "model_module_version": "1.5.0",
          "state": {
            "_dom_classes": [],
            "_model_module": "@jupyter-widgets/controls",
            "_model_module_version": "1.5.0",
            "_model_name": "FloatProgressModel",
            "_view_count": null,
            "_view_module": "@jupyter-widgets/controls",
            "_view_module_version": "1.5.0",
            "_view_name": "ProgressView",
            "bar_style": "success",
            "description": "",
            "description_tooltip": null,
            "layout": "IPY_MODEL_3f4b969b83064c60a5fbf9fa4767631a",
            "max": 466062,
            "min": 0,
            "orientation": "horizontal",
            "style": "IPY_MODEL_34c268657b5e4f7c9743d5a6dde74c5b",
            "value": 466062
          }
        },
        "b8951ace86b64f36ad1c2aeabf5e09f9": {
          "model_module": "@jupyter-widgets/controls",
          "model_name": "HTMLModel",
          "model_module_version": "1.5.0",
          "state": {
            "_dom_classes": [],
            "_model_module": "@jupyter-widgets/controls",
            "_model_module_version": "1.5.0",
            "_model_name": "HTMLModel",
            "_view_count": null,
            "_view_module": "@jupyter-widgets/controls",
            "_view_module_version": "1.5.0",
            "_view_name": "HTMLView",
            "description": "",
            "description_tooltip": null,
            "layout": "IPY_MODEL_0c8e3f2865d5450f82c6af15eb998df0",
            "placeholder": "​",
            "style": "IPY_MODEL_99e9a6ab386242f69cd41c1ef9d267af",
            "value": " 466k/466k [00:00&lt;00:00, 6.28MB/s]"
          }
        },
        "917af2c684524b659d97a2afa97a573e": {
          "model_module": "@jupyter-widgets/base",
          "model_name": "LayoutModel",
          "model_module_version": "1.2.0",
          "state": {
            "_model_module": "@jupyter-widgets/base",
            "_model_module_version": "1.2.0",
            "_model_name": "LayoutModel",
            "_view_count": null,
            "_view_module": "@jupyter-widgets/base",
            "_view_module_version": "1.2.0",
            "_view_name": "LayoutView",
            "align_content": null,
            "align_items": null,
            "align_self": null,
            "border": null,
            "bottom": null,
            "display": null,
            "flex": null,
            "flex_flow": null,
            "grid_area": null,
            "grid_auto_columns": null,
            "grid_auto_flow": null,
            "grid_auto_rows": null,
            "grid_column": null,
            "grid_gap": null,
            "grid_row": null,
            "grid_template_areas": null,
            "grid_template_columns": null,
            "grid_template_rows": null,
            "height": null,
            "justify_content": null,
            "justify_items": null,
            "left": null,
            "margin": null,
            "max_height": null,
            "max_width": null,
            "min_height": null,
            "min_width": null,
            "object_fit": null,
            "object_position": null,
            "order": null,
            "overflow": null,
            "overflow_x": null,
            "overflow_y": null,
            "padding": null,
            "right": null,
            "top": null,
            "visibility": null,
            "width": null
          }
        },
        "c87fe1a1857540d4be082d7af5addf2c": {
          "model_module": "@jupyter-widgets/base",
          "model_name": "LayoutModel",
          "model_module_version": "1.2.0",
          "state": {
            "_model_module": "@jupyter-widgets/base",
            "_model_module_version": "1.2.0",
            "_model_name": "LayoutModel",
            "_view_count": null,
            "_view_module": "@jupyter-widgets/base",
            "_view_module_version": "1.2.0",
            "_view_name": "LayoutView",
            "align_content": null,
            "align_items": null,
            "align_self": null,
            "border": null,
            "bottom": null,
            "display": null,
            "flex": null,
            "flex_flow": null,
            "grid_area": null,
            "grid_auto_columns": null,
            "grid_auto_flow": null,
            "grid_auto_rows": null,
            "grid_column": null,
            "grid_gap": null,
            "grid_row": null,
            "grid_template_areas": null,
            "grid_template_columns": null,
            "grid_template_rows": null,
            "height": null,
            "justify_content": null,
            "justify_items": null,
            "left": null,
            "margin": null,
            "max_height": null,
            "max_width": null,
            "min_height": null,
            "min_width": null,
            "object_fit": null,
            "object_position": null,
            "order": null,
            "overflow": null,
            "overflow_x": null,
            "overflow_y": null,
            "padding": null,
            "right": null,
            "top": null,
            "visibility": null,
            "width": null
          }
        },
        "2b4de77d2f40443fbdabb3d9b1fe5193": {
          "model_module": "@jupyter-widgets/controls",
          "model_name": "DescriptionStyleModel",
          "model_module_version": "1.5.0",
          "state": {
            "_model_module": "@jupyter-widgets/controls",
            "_model_module_version": "1.5.0",
            "_model_name": "DescriptionStyleModel",
            "_view_count": null,
            "_view_module": "@jupyter-widgets/base",
            "_view_module_version": "1.2.0",
            "_view_name": "StyleView",
            "description_width": ""
          }
        },
        "3f4b969b83064c60a5fbf9fa4767631a": {
          "model_module": "@jupyter-widgets/base",
          "model_name": "LayoutModel",
          "model_module_version": "1.2.0",
          "state": {
            "_model_module": "@jupyter-widgets/base",
            "_model_module_version": "1.2.0",
            "_model_name": "LayoutModel",
            "_view_count": null,
            "_view_module": "@jupyter-widgets/base",
            "_view_module_version": "1.2.0",
            "_view_name": "LayoutView",
            "align_content": null,
            "align_items": null,
            "align_self": null,
            "border": null,
            "bottom": null,
            "display": null,
            "flex": null,
            "flex_flow": null,
            "grid_area": null,
            "grid_auto_columns": null,
            "grid_auto_flow": null,
            "grid_auto_rows": null,
            "grid_column": null,
            "grid_gap": null,
            "grid_row": null,
            "grid_template_areas": null,
            "grid_template_columns": null,
            "grid_template_rows": null,
            "height": null,
            "justify_content": null,
            "justify_items": null,
            "left": null,
            "margin": null,
            "max_height": null,
            "max_width": null,
            "min_height": null,
            "min_width": null,
            "object_fit": null,
            "object_position": null,
            "order": null,
            "overflow": null,
            "overflow_x": null,
            "overflow_y": null,
            "padding": null,
            "right": null,
            "top": null,
            "visibility": null,
            "width": null
          }
        },
        "34c268657b5e4f7c9743d5a6dde74c5b": {
          "model_module": "@jupyter-widgets/controls",
          "model_name": "ProgressStyleModel",
          "model_module_version": "1.5.0",
          "state": {
            "_model_module": "@jupyter-widgets/controls",
            "_model_module_version": "1.5.0",
            "_model_name": "ProgressStyleModel",
            "_view_count": null,
            "_view_module": "@jupyter-widgets/base",
            "_view_module_version": "1.2.0",
            "_view_name": "StyleView",
            "bar_color": null,
            "description_width": ""
          }
        },
        "0c8e3f2865d5450f82c6af15eb998df0": {
          "model_module": "@jupyter-widgets/base",
          "model_name": "LayoutModel",
          "model_module_version": "1.2.0",
          "state": {
            "_model_module": "@jupyter-widgets/base",
            "_model_module_version": "1.2.0",
            "_model_name": "LayoutModel",
            "_view_count": null,
            "_view_module": "@jupyter-widgets/base",
            "_view_module_version": "1.2.0",
            "_view_name": "LayoutView",
            "align_content": null,
            "align_items": null,
            "align_self": null,
            "border": null,
            "bottom": null,
            "display": null,
            "flex": null,
            "flex_flow": null,
            "grid_area": null,
            "grid_auto_columns": null,
            "grid_auto_flow": null,
            "grid_auto_rows": null,
            "grid_column": null,
            "grid_gap": null,
            "grid_row": null,
            "grid_template_areas": null,
            "grid_template_columns": null,
            "grid_template_rows": null,
            "height": null,
            "justify_content": null,
            "justify_items": null,
            "left": null,
            "margin": null,
            "max_height": null,
            "max_width": null,
            "min_height": null,
            "min_width": null,
            "object_fit": null,
            "object_position": null,
            "order": null,
            "overflow": null,
            "overflow_x": null,
            "overflow_y": null,
            "padding": null,
            "right": null,
            "top": null,
            "visibility": null,
            "width": null
          }
        },
        "99e9a6ab386242f69cd41c1ef9d267af": {
          "model_module": "@jupyter-widgets/controls",
          "model_name": "DescriptionStyleModel",
          "model_module_version": "1.5.0",
          "state": {
            "_model_module": "@jupyter-widgets/controls",
            "_model_module_version": "1.5.0",
            "_model_name": "DescriptionStyleModel",
            "_view_count": null,
            "_view_module": "@jupyter-widgets/base",
            "_view_module_version": "1.2.0",
            "_view_name": "StyleView",
            "description_width": ""
          }
        },
        "1bde683b891342c08625b0615aa40978": {
          "model_module": "@jupyter-widgets/controls",
          "model_name": "HBoxModel",
          "model_module_version": "1.5.0",
          "state": {
            "_dom_classes": [],
            "_model_module": "@jupyter-widgets/controls",
            "_model_module_version": "1.5.0",
            "_model_name": "HBoxModel",
            "_view_count": null,
            "_view_module": "@jupyter-widgets/controls",
            "_view_module_version": "1.5.0",
            "_view_name": "HBoxView",
            "box_style": "",
            "children": [
              "IPY_MODEL_8ef5892cbb634f22bbf08bbc9e225d65",
              "IPY_MODEL_181a73c2ee834b8e904b0875bf6538c4",
              "IPY_MODEL_bf3b79ea23db4b0e97f399b8dd215ede"
            ],
            "layout": "IPY_MODEL_feea631a8a2a45a793ecc286db70d8cf"
          }
        },
        "8ef5892cbb634f22bbf08bbc9e225d65": {
          "model_module": "@jupyter-widgets/controls",
          "model_name": "HTMLModel",
          "model_module_version": "1.5.0",
          "state": {
            "_dom_classes": [],
            "_model_module": "@jupyter-widgets/controls",
            "_model_module_version": "1.5.0",
            "_model_name": "HTMLModel",
            "_view_count": null,
            "_view_module": "@jupyter-widgets/controls",
            "_view_module_version": "1.5.0",
            "_view_name": "HTMLView",
            "description": "",
            "description_tooltip": null,
            "layout": "IPY_MODEL_2f78b29b41fa4a2cab6a299bb4c706a4",
            "placeholder": "​",
            "style": "IPY_MODEL_9e976ebfb87e462d962c9e08b87c17aa",
            "value": "config.json: 100%"
          }
        },
        "181a73c2ee834b8e904b0875bf6538c4": {
          "model_module": "@jupyter-widgets/controls",
          "model_name": "FloatProgressModel",
          "model_module_version": "1.5.0",
          "state": {
            "_dom_classes": [],
            "_model_module": "@jupyter-widgets/controls",
            "_model_module_version": "1.5.0",
            "_model_name": "FloatProgressModel",
            "_view_count": null,
            "_view_module": "@jupyter-widgets/controls",
            "_view_module_version": "1.5.0",
            "_view_name": "ProgressView",
            "bar_style": "success",
            "description": "",
            "description_tooltip": null,
            "layout": "IPY_MODEL_534ad077795a4c6a859b25ce64073367",
            "max": 570,
            "min": 0,
            "orientation": "horizontal",
            "style": "IPY_MODEL_ef0d03c3a4de4c06a625d2aca4f07eac",
            "value": 570
          }
        },
        "bf3b79ea23db4b0e97f399b8dd215ede": {
          "model_module": "@jupyter-widgets/controls",
          "model_name": "HTMLModel",
          "model_module_version": "1.5.0",
          "state": {
            "_dom_classes": [],
            "_model_module": "@jupyter-widgets/controls",
            "_model_module_version": "1.5.0",
            "_model_name": "HTMLModel",
            "_view_count": null,
            "_view_module": "@jupyter-widgets/controls",
            "_view_module_version": "1.5.0",
            "_view_name": "HTMLView",
            "description": "",
            "description_tooltip": null,
            "layout": "IPY_MODEL_083c755450724fb2940ed3ef056db4c0",
            "placeholder": "​",
            "style": "IPY_MODEL_46c8d21742444503b75a1d423d2e9fde",
            "value": " 570/570 [00:00&lt;00:00, 11.0kB/s]"
          }
        },
        "feea631a8a2a45a793ecc286db70d8cf": {
          "model_module": "@jupyter-widgets/base",
          "model_name": "LayoutModel",
          "model_module_version": "1.2.0",
          "state": {
            "_model_module": "@jupyter-widgets/base",
            "_model_module_version": "1.2.0",
            "_model_name": "LayoutModel",
            "_view_count": null,
            "_view_module": "@jupyter-widgets/base",
            "_view_module_version": "1.2.0",
            "_view_name": "LayoutView",
            "align_content": null,
            "align_items": null,
            "align_self": null,
            "border": null,
            "bottom": null,
            "display": null,
            "flex": null,
            "flex_flow": null,
            "grid_area": null,
            "grid_auto_columns": null,
            "grid_auto_flow": null,
            "grid_auto_rows": null,
            "grid_column": null,
            "grid_gap": null,
            "grid_row": null,
            "grid_template_areas": null,
            "grid_template_columns": null,
            "grid_template_rows": null,
            "height": null,
            "justify_content": null,
            "justify_items": null,
            "left": null,
            "margin": null,
            "max_height": null,
            "max_width": null,
            "min_height": null,
            "min_width": null,
            "object_fit": null,
            "object_position": null,
            "order": null,
            "overflow": null,
            "overflow_x": null,
            "overflow_y": null,
            "padding": null,
            "right": null,
            "top": null,
            "visibility": null,
            "width": null
          }
        },
        "2f78b29b41fa4a2cab6a299bb4c706a4": {
          "model_module": "@jupyter-widgets/base",
          "model_name": "LayoutModel",
          "model_module_version": "1.2.0",
          "state": {
            "_model_module": "@jupyter-widgets/base",
            "_model_module_version": "1.2.0",
            "_model_name": "LayoutModel",
            "_view_count": null,
            "_view_module": "@jupyter-widgets/base",
            "_view_module_version": "1.2.0",
            "_view_name": "LayoutView",
            "align_content": null,
            "align_items": null,
            "align_self": null,
            "border": null,
            "bottom": null,
            "display": null,
            "flex": null,
            "flex_flow": null,
            "grid_area": null,
            "grid_auto_columns": null,
            "grid_auto_flow": null,
            "grid_auto_rows": null,
            "grid_column": null,
            "grid_gap": null,
            "grid_row": null,
            "grid_template_areas": null,
            "grid_template_columns": null,
            "grid_template_rows": null,
            "height": null,
            "justify_content": null,
            "justify_items": null,
            "left": null,
            "margin": null,
            "max_height": null,
            "max_width": null,
            "min_height": null,
            "min_width": null,
            "object_fit": null,
            "object_position": null,
            "order": null,
            "overflow": null,
            "overflow_x": null,
            "overflow_y": null,
            "padding": null,
            "right": null,
            "top": null,
            "visibility": null,
            "width": null
          }
        },
        "9e976ebfb87e462d962c9e08b87c17aa": {
          "model_module": "@jupyter-widgets/controls",
          "model_name": "DescriptionStyleModel",
          "model_module_version": "1.5.0",
          "state": {
            "_model_module": "@jupyter-widgets/controls",
            "_model_module_version": "1.5.0",
            "_model_name": "DescriptionStyleModel",
            "_view_count": null,
            "_view_module": "@jupyter-widgets/base",
            "_view_module_version": "1.2.0",
            "_view_name": "StyleView",
            "description_width": ""
          }
        },
        "534ad077795a4c6a859b25ce64073367": {
          "model_module": "@jupyter-widgets/base",
          "model_name": "LayoutModel",
          "model_module_version": "1.2.0",
          "state": {
            "_model_module": "@jupyter-widgets/base",
            "_model_module_version": "1.2.0",
            "_model_name": "LayoutModel",
            "_view_count": null,
            "_view_module": "@jupyter-widgets/base",
            "_view_module_version": "1.2.0",
            "_view_name": "LayoutView",
            "align_content": null,
            "align_items": null,
            "align_self": null,
            "border": null,
            "bottom": null,
            "display": null,
            "flex": null,
            "flex_flow": null,
            "grid_area": null,
            "grid_auto_columns": null,
            "grid_auto_flow": null,
            "grid_auto_rows": null,
            "grid_column": null,
            "grid_gap": null,
            "grid_row": null,
            "grid_template_areas": null,
            "grid_template_columns": null,
            "grid_template_rows": null,
            "height": null,
            "justify_content": null,
            "justify_items": null,
            "left": null,
            "margin": null,
            "max_height": null,
            "max_width": null,
            "min_height": null,
            "min_width": null,
            "object_fit": null,
            "object_position": null,
            "order": null,
            "overflow": null,
            "overflow_x": null,
            "overflow_y": null,
            "padding": null,
            "right": null,
            "top": null,
            "visibility": null,
            "width": null
          }
        },
        "ef0d03c3a4de4c06a625d2aca4f07eac": {
          "model_module": "@jupyter-widgets/controls",
          "model_name": "ProgressStyleModel",
          "model_module_version": "1.5.0",
          "state": {
            "_model_module": "@jupyter-widgets/controls",
            "_model_module_version": "1.5.0",
            "_model_name": "ProgressStyleModel",
            "_view_count": null,
            "_view_module": "@jupyter-widgets/base",
            "_view_module_version": "1.2.0",
            "_view_name": "StyleView",
            "bar_color": null,
            "description_width": ""
          }
        },
        "083c755450724fb2940ed3ef056db4c0": {
          "model_module": "@jupyter-widgets/base",
          "model_name": "LayoutModel",
          "model_module_version": "1.2.0",
          "state": {
            "_model_module": "@jupyter-widgets/base",
            "_model_module_version": "1.2.0",
            "_model_name": "LayoutModel",
            "_view_count": null,
            "_view_module": "@jupyter-widgets/base",
            "_view_module_version": "1.2.0",
            "_view_name": "LayoutView",
            "align_content": null,
            "align_items": null,
            "align_self": null,
            "border": null,
            "bottom": null,
            "display": null,
            "flex": null,
            "flex_flow": null,
            "grid_area": null,
            "grid_auto_columns": null,
            "grid_auto_flow": null,
            "grid_auto_rows": null,
            "grid_column": null,
            "grid_gap": null,
            "grid_row": null,
            "grid_template_areas": null,
            "grid_template_columns": null,
            "grid_template_rows": null,
            "height": null,
            "justify_content": null,
            "justify_items": null,
            "left": null,
            "margin": null,
            "max_height": null,
            "max_width": null,
            "min_height": null,
            "min_width": null,
            "object_fit": null,
            "object_position": null,
            "order": null,
            "overflow": null,
            "overflow_x": null,
            "overflow_y": null,
            "padding": null,
            "right": null,
            "top": null,
            "visibility": null,
            "width": null
          }
        },
        "46c8d21742444503b75a1d423d2e9fde": {
          "model_module": "@jupyter-widgets/controls",
          "model_name": "DescriptionStyleModel",
          "model_module_version": "1.5.0",
          "state": {
            "_model_module": "@jupyter-widgets/controls",
            "_model_module_version": "1.5.0",
            "_model_name": "DescriptionStyleModel",
            "_view_count": null,
            "_view_module": "@jupyter-widgets/base",
            "_view_module_version": "1.2.0",
            "_view_name": "StyleView",
            "description_width": ""
          }
        },
        "0eefc5b5e9634ffba9a932a7290a46e7": {
          "model_module": "@jupyter-widgets/controls",
          "model_name": "HBoxModel",
          "model_module_version": "1.5.0",
          "state": {
            "_dom_classes": [],
            "_model_module": "@jupyter-widgets/controls",
            "_model_module_version": "1.5.0",
            "_model_name": "HBoxModel",
            "_view_count": null,
            "_view_module": "@jupyter-widgets/controls",
            "_view_module_version": "1.5.0",
            "_view_name": "HBoxView",
            "box_style": "",
            "children": [
              "IPY_MODEL_0c9acc0561fc42e9b8add6cbcac0503b",
              "IPY_MODEL_8edab4e3f8d5495bb5dfb0b1178cb945",
              "IPY_MODEL_0438a45febae4d419a5b18582a2fb913"
            ],
            "layout": "IPY_MODEL_faf5e59b3daf4386a88f5a9dec477574"
          }
        },
        "0c9acc0561fc42e9b8add6cbcac0503b": {
          "model_module": "@jupyter-widgets/controls",
          "model_name": "HTMLModel",
          "model_module_version": "1.5.0",
          "state": {
            "_dom_classes": [],
            "_model_module": "@jupyter-widgets/controls",
            "_model_module_version": "1.5.0",
            "_model_name": "HTMLModel",
            "_view_count": null,
            "_view_module": "@jupyter-widgets/controls",
            "_view_module_version": "1.5.0",
            "_view_name": "HTMLView",
            "description": "",
            "description_tooltip": null,
            "layout": "IPY_MODEL_81f05e519b8a4bb193c0c836e2746275",
            "placeholder": "​",
            "style": "IPY_MODEL_53e36d2808b74e13a5519bac82a94532",
            "value": "model.safetensors: 100%"
          }
        },
        "8edab4e3f8d5495bb5dfb0b1178cb945": {
          "model_module": "@jupyter-widgets/controls",
          "model_name": "FloatProgressModel",
          "model_module_version": "1.5.0",
          "state": {
            "_dom_classes": [],
            "_model_module": "@jupyter-widgets/controls",
            "_model_module_version": "1.5.0",
            "_model_name": "FloatProgressModel",
            "_view_count": null,
            "_view_module": "@jupyter-widgets/controls",
            "_view_module_version": "1.5.0",
            "_view_name": "ProgressView",
            "bar_style": "success",
            "description": "",
            "description_tooltip": null,
            "layout": "IPY_MODEL_1ce6577978134e3dacf69e3b01723c82",
            "max": 440449768,
            "min": 0,
            "orientation": "horizontal",
            "style": "IPY_MODEL_8acab4900971431294e8a869a8ace505",
            "value": 440449768
          }
        },
        "0438a45febae4d419a5b18582a2fb913": {
          "model_module": "@jupyter-widgets/controls",
          "model_name": "HTMLModel",
          "model_module_version": "1.5.0",
          "state": {
            "_dom_classes": [],
            "_model_module": "@jupyter-widgets/controls",
            "_model_module_version": "1.5.0",
            "_model_name": "HTMLModel",
            "_view_count": null,
            "_view_module": "@jupyter-widgets/controls",
            "_view_module_version": "1.5.0",
            "_view_name": "HTMLView",
            "description": "",
            "description_tooltip": null,
            "layout": "IPY_MODEL_7828cdebeede4bf4939b76fea6f4bc31",
            "placeholder": "​",
            "style": "IPY_MODEL_88282ce1557b44ec86f0ed0efadc0f12",
            "value": " 440M/440M [00:02&lt;00:00, 192MB/s]"
          }
        },
        "faf5e59b3daf4386a88f5a9dec477574": {
          "model_module": "@jupyter-widgets/base",
          "model_name": "LayoutModel",
          "model_module_version": "1.2.0",
          "state": {
            "_model_module": "@jupyter-widgets/base",
            "_model_module_version": "1.2.0",
            "_model_name": "LayoutModel",
            "_view_count": null,
            "_view_module": "@jupyter-widgets/base",
            "_view_module_version": "1.2.0",
            "_view_name": "LayoutView",
            "align_content": null,
            "align_items": null,
            "align_self": null,
            "border": null,
            "bottom": null,
            "display": null,
            "flex": null,
            "flex_flow": null,
            "grid_area": null,
            "grid_auto_columns": null,
            "grid_auto_flow": null,
            "grid_auto_rows": null,
            "grid_column": null,
            "grid_gap": null,
            "grid_row": null,
            "grid_template_areas": null,
            "grid_template_columns": null,
            "grid_template_rows": null,
            "height": null,
            "justify_content": null,
            "justify_items": null,
            "left": null,
            "margin": null,
            "max_height": null,
            "max_width": null,
            "min_height": null,
            "min_width": null,
            "object_fit": null,
            "object_position": null,
            "order": null,
            "overflow": null,
            "overflow_x": null,
            "overflow_y": null,
            "padding": null,
            "right": null,
            "top": null,
            "visibility": null,
            "width": null
          }
        },
        "81f05e519b8a4bb193c0c836e2746275": {
          "model_module": "@jupyter-widgets/base",
          "model_name": "LayoutModel",
          "model_module_version": "1.2.0",
          "state": {
            "_model_module": "@jupyter-widgets/base",
            "_model_module_version": "1.2.0",
            "_model_name": "LayoutModel",
            "_view_count": null,
            "_view_module": "@jupyter-widgets/base",
            "_view_module_version": "1.2.0",
            "_view_name": "LayoutView",
            "align_content": null,
            "align_items": null,
            "align_self": null,
            "border": null,
            "bottom": null,
            "display": null,
            "flex": null,
            "flex_flow": null,
            "grid_area": null,
            "grid_auto_columns": null,
            "grid_auto_flow": null,
            "grid_auto_rows": null,
            "grid_column": null,
            "grid_gap": null,
            "grid_row": null,
            "grid_template_areas": null,
            "grid_template_columns": null,
            "grid_template_rows": null,
            "height": null,
            "justify_content": null,
            "justify_items": null,
            "left": null,
            "margin": null,
            "max_height": null,
            "max_width": null,
            "min_height": null,
            "min_width": null,
            "object_fit": null,
            "object_position": null,
            "order": null,
            "overflow": null,
            "overflow_x": null,
            "overflow_y": null,
            "padding": null,
            "right": null,
            "top": null,
            "visibility": null,
            "width": null
          }
        },
        "53e36d2808b74e13a5519bac82a94532": {
          "model_module": "@jupyter-widgets/controls",
          "model_name": "DescriptionStyleModel",
          "model_module_version": "1.5.0",
          "state": {
            "_model_module": "@jupyter-widgets/controls",
            "_model_module_version": "1.5.0",
            "_model_name": "DescriptionStyleModel",
            "_view_count": null,
            "_view_module": "@jupyter-widgets/base",
            "_view_module_version": "1.2.0",
            "_view_name": "StyleView",
            "description_width": ""
          }
        },
        "1ce6577978134e3dacf69e3b01723c82": {
          "model_module": "@jupyter-widgets/base",
          "model_name": "LayoutModel",
          "model_module_version": "1.2.0",
          "state": {
            "_model_module": "@jupyter-widgets/base",
            "_model_module_version": "1.2.0",
            "_model_name": "LayoutModel",
            "_view_count": null,
            "_view_module": "@jupyter-widgets/base",
            "_view_module_version": "1.2.0",
            "_view_name": "LayoutView",
            "align_content": null,
            "align_items": null,
            "align_self": null,
            "border": null,
            "bottom": null,
            "display": null,
            "flex": null,
            "flex_flow": null,
            "grid_area": null,
            "grid_auto_columns": null,
            "grid_auto_flow": null,
            "grid_auto_rows": null,
            "grid_column": null,
            "grid_gap": null,
            "grid_row": null,
            "grid_template_areas": null,
            "grid_template_columns": null,
            "grid_template_rows": null,
            "height": null,
            "justify_content": null,
            "justify_items": null,
            "left": null,
            "margin": null,
            "max_height": null,
            "max_width": null,
            "min_height": null,
            "min_width": null,
            "object_fit": null,
            "object_position": null,
            "order": null,
            "overflow": null,
            "overflow_x": null,
            "overflow_y": null,
            "padding": null,
            "right": null,
            "top": null,
            "visibility": null,
            "width": null
          }
        },
        "8acab4900971431294e8a869a8ace505": {
          "model_module": "@jupyter-widgets/controls",
          "model_name": "ProgressStyleModel",
          "model_module_version": "1.5.0",
          "state": {
            "_model_module": "@jupyter-widgets/controls",
            "_model_module_version": "1.5.0",
            "_model_name": "ProgressStyleModel",
            "_view_count": null,
            "_view_module": "@jupyter-widgets/base",
            "_view_module_version": "1.2.0",
            "_view_name": "StyleView",
            "bar_color": null,
            "description_width": ""
          }
        },
        "7828cdebeede4bf4939b76fea6f4bc31": {
          "model_module": "@jupyter-widgets/base",
          "model_name": "LayoutModel",
          "model_module_version": "1.2.0",
          "state": {
            "_model_module": "@jupyter-widgets/base",
            "_model_module_version": "1.2.0",
            "_model_name": "LayoutModel",
            "_view_count": null,
            "_view_module": "@jupyter-widgets/base",
            "_view_module_version": "1.2.0",
            "_view_name": "LayoutView",
            "align_content": null,
            "align_items": null,
            "align_self": null,
            "border": null,
            "bottom": null,
            "display": null,
            "flex": null,
            "flex_flow": null,
            "grid_area": null,
            "grid_auto_columns": null,
            "grid_auto_flow": null,
            "grid_auto_rows": null,
            "grid_column": null,
            "grid_gap": null,
            "grid_row": null,
            "grid_template_areas": null,
            "grid_template_columns": null,
            "grid_template_rows": null,
            "height": null,
            "justify_content": null,
            "justify_items": null,
            "left": null,
            "margin": null,
            "max_height": null,
            "max_width": null,
            "min_height": null,
            "min_width": null,
            "object_fit": null,
            "object_position": null,
            "order": null,
            "overflow": null,
            "overflow_x": null,
            "overflow_y": null,
            "padding": null,
            "right": null,
            "top": null,
            "visibility": null,
            "width": null
          }
        },
        "88282ce1557b44ec86f0ed0efadc0f12": {
          "model_module": "@jupyter-widgets/controls",
          "model_name": "DescriptionStyleModel",
          "model_module_version": "1.5.0",
          "state": {
            "_model_module": "@jupyter-widgets/controls",
            "_model_module_version": "1.5.0",
            "_model_name": "DescriptionStyleModel",
            "_view_count": null,
            "_view_module": "@jupyter-widgets/base",
            "_view_module_version": "1.2.0",
            "_view_name": "StyleView",
            "description_width": ""
          }
        }
      }
    },
    "accelerator": "GPU"
  },
  "nbformat": 4,
  "nbformat_minor": 0
}